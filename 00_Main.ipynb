{
 "cells": [
  {
   "cell_type": "markdown",
   "metadata": {},
   "source": [
    "Setup packages"
   ]
  },
  {
   "cell_type": "code",
   "execution_count": 1,
   "metadata": {},
   "outputs": [],
   "source": [
    "import pandas as pd\n",
    "import numpy as np\n",
    "import re\n",
    "import matplotlib.pyplot as plt\n",
    "import seaborn as sns\n"
   ]
  },
  {
   "cell_type": "code",
   "execution_count": 2,
   "metadata": {},
   "outputs": [],
   "source": [
    "pd.set_option('display.max_colwidth', None)"
   ]
  },
  {
   "cell_type": "markdown",
   "metadata": {},
   "source": [
    "read data file"
   ]
  },
  {
   "cell_type": "code",
   "execution_count": 3,
   "metadata": {},
   "outputs": [],
   "source": [
    "df = pd.read_csv('../nawy_dataset.csv',low_memory=False)"
   ]
  },
  {
   "cell_type": "markdown",
   "metadata": {},
   "source": [
    "Exploration"
   ]
  },
  {
   "cell_type": "code",
   "execution_count": 4,
   "metadata": {},
   "outputs": [
    {
     "data": {
      "text/html": [
       "<div>\n",
       "<style scoped>\n",
       "    .dataframe tbody tr th:only-of-type {\n",
       "        vertical-align: middle;\n",
       "    }\n",
       "\n",
       "    .dataframe tbody tr th {\n",
       "        vertical-align: top;\n",
       "    }\n",
       "\n",
       "    .dataframe thead th {\n",
       "        text-align: right;\n",
       "    }\n",
       "</style>\n",
       "<table border=\"1\" class=\"dataframe\">\n",
       "  <thead>\n",
       "    <tr style=\"text-align: right;\">\n",
       "      <th></th>\n",
       "      <th>lead_id</th>\n",
       "      <th>customer_name</th>\n",
       "      <th>lead_mobile_network</th>\n",
       "      <th>message</th>\n",
       "      <th>lead_time</th>\n",
       "      <th>method_of_contact</th>\n",
       "      <th>ad_group</th>\n",
       "      <th>lead_source</th>\n",
       "      <th>campaign</th>\n",
       "      <th>location</th>\n",
       "      <th>low_qualified</th>\n",
       "      <th>Unnamed: 11</th>\n",
       "      <th>Unnamed: 12</th>\n",
       "    </tr>\n",
       "  </thead>\n",
       "  <tbody>\n",
       "    <tr>\n",
       "      <th>0</th>\n",
       "      <td>22</td>\n",
       "      <td>Rajaa M.Mousa</td>\n",
       "      <td>Orange</td>\n",
       "      <td>message: Idea about  the best area in Sheik Zaid .Also villa's prices .</td>\n",
       "      <td>2022-03-07 12:56:20.523509</td>\n",
       "      <td>generic form</td>\n",
       "      <td>none</td>\n",
       "      <td>google</td>\n",
       "      <td>dev_-_sodic</td>\n",
       "      <td>sodic october plaza</td>\n",
       "      <td>0</td>\n",
       "      <td>NaN</td>\n",
       "      <td>NaN</td>\n",
       "    </tr>\n",
       "    <tr>\n",
       "      <th>1</th>\n",
       "      <td>30</td>\n",
       "      <td>Sahar Shalaby</td>\n",
       "      <td>Vodafone</td>\n",
       "      <td>ad_id : 23843176891470664 \\nform_id : 367745493976002 \\nplatform : fb \\nlead_id : 528090611274822 \\n</td>\n",
       "      <td>2019-09-16 13:17:18.459000</td>\n",
       "      <td>facebook</td>\n",
       "      <td>o west - fb_creme de la creme_ cairo/giza_27-60</td>\n",
       "      <td>facebook</td>\n",
       "      <td>orascom - lead generation</td>\n",
       "      <td>o west</td>\n",
       "      <td>0</td>\n",
       "      <td>NaN</td>\n",
       "      <td>NaN</td>\n",
       "    </tr>\n",
       "    <tr>\n",
       "      <th>2</th>\n",
       "      <td>42</td>\n",
       "      <td>Mohamed</td>\n",
       "      <td>Vodafone</td>\n",
       "      <td>message:</td>\n",
       "      <td>2022-05-07 02:03:53.589687</td>\n",
       "      <td>generic form</td>\n",
       "      <td>gouna_-_properties</td>\n",
       "      <td>google</td>\n",
       "      <td>locations</td>\n",
       "      <td>el gouna for sale &amp; resale</td>\n",
       "      <td>0</td>\n",
       "      <td>NaN</td>\n",
       "      <td>NaN</td>\n",
       "    </tr>\n",
       "    <tr>\n",
       "      <th>3</th>\n",
       "      <td>44</td>\n",
       "      <td>Maher Elnakib</td>\n",
       "      <td>Orange</td>\n",
       "      <td>ad_id : 23844249544660664 \\nadset_id : 23844249544640664 \\ncampaign_id : 23842950856230664 \\nconfirm_your_phone_number : 01270061104 \\ncreated_time : 2019-12-19T22:55:51+0000 \\nform_id : 463734814544456 \\nfacebook_id : 2614322275469063 \\nplatform : fb \\nyour_budget : As you wrote \\n</td>\n",
       "      <td>2019-12-19 22:56:46.662000</td>\n",
       "      <td>facebook</td>\n",
       "      <td>new release north edge general with north coast interests</td>\n",
       "      <td>facebook</td>\n",
       "      <td>city edge - lead generation</td>\n",
       "      <td>north edge</td>\n",
       "      <td>0</td>\n",
       "      <td>NaN</td>\n",
       "      <td>NaN</td>\n",
       "    </tr>\n",
       "    <tr>\n",
       "      <th>4</th>\n",
       "      <td>48</td>\n",
       "      <td>pierre</td>\n",
       "      <td>Vodafone</td>\n",
       "      <td>message:</td>\n",
       "      <td>2022-01-27 05:56:22.806753</td>\n",
       "      <td>top compounds form</td>\n",
       "      <td>none</td>\n",
       "      <td>google</td>\n",
       "      <td>dev_-_inertia_egypt</td>\n",
       "      <td>joulz</td>\n",
       "      <td>0</td>\n",
       "      <td>NaN</td>\n",
       "      <td>NaN</td>\n",
       "    </tr>\n",
       "  </tbody>\n",
       "</table>\n",
       "</div>"
      ],
      "text/plain": [
       "   lead_id  customer_name lead_mobile_network  \\\n",
       "0       22  Rajaa M.Mousa              Orange   \n",
       "1       30  Sahar Shalaby            Vodafone   \n",
       "2       42        Mohamed            Vodafone   \n",
       "3       44  Maher Elnakib              Orange   \n",
       "4       48         pierre            Vodafone   \n",
       "\n",
       "                                                                                                                                                                                                                                                                                       message  \\\n",
       "0                                                                                                                                                                                                                      message: Idea about  the best area in Sheik Zaid .Also villa's prices .   \n",
       "1                                                                                                                                                                                         ad_id : 23843176891470664 \\nform_id : 367745493976002 \\nplatform : fb \\nlead_id : 528090611274822 \\n   \n",
       "2                                                                                                                                                                                                                                                                                    message:    \n",
       "3  ad_id : 23844249544660664 \\nadset_id : 23844249544640664 \\ncampaign_id : 23842950856230664 \\nconfirm_your_phone_number : 01270061104 \\ncreated_time : 2019-12-19T22:55:51+0000 \\nform_id : 463734814544456 \\nfacebook_id : 2614322275469063 \\nplatform : fb \\nyour_budget : As you wrote \\n   \n",
       "4                                                                                                                                                                                                                                                                                    message:    \n",
       "\n",
       "                    lead_time   method_of_contact  \\\n",
       "0  2022-03-07 12:56:20.523509        generic form   \n",
       "1  2019-09-16 13:17:18.459000            facebook   \n",
       "2  2022-05-07 02:03:53.589687        generic form   \n",
       "3  2019-12-19 22:56:46.662000            facebook   \n",
       "4  2022-01-27 05:56:22.806753  top compounds form   \n",
       "\n",
       "                                                    ad_group lead_source  \\\n",
       "0                                                       none      google   \n",
       "1            o west - fb_creme de la creme_ cairo/giza_27-60    facebook   \n",
       "2                                         gouna_-_properties      google   \n",
       "3  new release north edge general with north coast interests    facebook   \n",
       "4                                                       none      google   \n",
       "\n",
       "                      campaign                    location low_qualified  \\\n",
       "0                  dev_-_sodic         sodic october plaza             0   \n",
       "1    orascom - lead generation                      o west             0   \n",
       "2                    locations  el gouna for sale & resale             0   \n",
       "3  city edge - lead generation                  north edge             0   \n",
       "4          dev_-_inertia_egypt                       joulz             0   \n",
       "\n",
       "  Unnamed: 11  Unnamed: 12  \n",
       "0         NaN          NaN  \n",
       "1         NaN          NaN  \n",
       "2         NaN          NaN  \n",
       "3         NaN          NaN  \n",
       "4         NaN          NaN  "
      ]
     },
     "execution_count": 4,
     "metadata": {},
     "output_type": "execute_result"
    }
   ],
   "source": [
    "df.head()"
   ]
  },
  {
   "cell_type": "code",
   "execution_count": 5,
   "metadata": {},
   "outputs": [
    {
     "data": {
      "text/html": [
       "<div>\n",
       "<style scoped>\n",
       "    .dataframe tbody tr th:only-of-type {\n",
       "        vertical-align: middle;\n",
       "    }\n",
       "\n",
       "    .dataframe tbody tr th {\n",
       "        vertical-align: top;\n",
       "    }\n",
       "\n",
       "    .dataframe thead th {\n",
       "        text-align: right;\n",
       "    }\n",
       "</style>\n",
       "<table border=\"1\" class=\"dataframe\">\n",
       "  <thead>\n",
       "    <tr style=\"text-align: right;\">\n",
       "      <th></th>\n",
       "      <th>lead_id</th>\n",
       "      <th>customer_name</th>\n",
       "      <th>lead_mobile_network</th>\n",
       "      <th>message</th>\n",
       "      <th>lead_time</th>\n",
       "      <th>method_of_contact</th>\n",
       "      <th>ad_group</th>\n",
       "      <th>lead_source</th>\n",
       "      <th>campaign</th>\n",
       "      <th>location</th>\n",
       "      <th>low_qualified</th>\n",
       "      <th>Unnamed: 11</th>\n",
       "      <th>Unnamed: 12</th>\n",
       "    </tr>\n",
       "  </thead>\n",
       "  <tbody>\n",
       "    <tr>\n",
       "      <th>91124</th>\n",
       "      <td>101024</td>\n",
       "      <td>Abadi Ahmeed</td>\n",
       "      <td>Gulf</td>\n",
       "      <td>ad_id : 23850279525690562 \\nadgroup_id : 23850279525690562 \\nadset_id : 23850279525680562 \\ncampaign_id : 23848309616020562 \\nconfirm_your_phone_number_ : 0556644393 \\ncreated_time : 2022-06-06T10:42:13+0000 \\nform_id : 1088953991949500 \\nFacebook_id : 358160292973232 \\nleadgen_id : 358160292973232 \\npage_id : 653106524827671 \\nplatform : fb \\nميزانية_ : ٢-٣ مليون \\nنوع_الوحدة_ : فيلا \\n</td>\n",
       "      <td>2022-06-06 10:42:19.756014</td>\n",
       "      <td>facebook</td>\n",
       "      <td>the lakes bloomfields - khaleeji lookalike - new cairo</td>\n",
       "      <td>facebook</td>\n",
       "      <td>tatweer misr - lead generation - cooing 2 - new</td>\n",
       "      <td>mostakbal city villa offer</td>\n",
       "      <td>0</td>\n",
       "      <td>NaN</td>\n",
       "      <td>NaN</td>\n",
       "    </tr>\n",
       "    <tr>\n",
       "      <th>91125</th>\n",
       "      <td>101025</td>\n",
       "      <td>Nermine Elassey</td>\n",
       "      <td>Orange</td>\n",
       "      <td>ad_id : 23850531682810398 \\nadgroup_id : 23850531682810398 \\nadset_id : 23850531682800398 \\ncampaign_id : 23850492403650398 \\ncreated_time : 2022-06-06T10:45:38+0000 \\nform_id : 1074926903369744 \\nFacebook_id : 420636419694397 \\nleadgen_id : 420636419694397 \\npage_id : 653106524827671 \\nplatform : fb \\nبرجاء_تأكيد_رقم_الهاتف : ٠١٢٧٧٣٦٦٧٧٣ \\n</td>\n",
       "      <td>2022-06-06 10:45:44.002419</td>\n",
       "      <td>facebook</td>\n",
       "      <td>telal sahel - no targeting - north coast</td>\n",
       "      <td>facebook</td>\n",
       "      <td>roya - lead generation - cooing 3 - new</td>\n",
       "      <td>telal sahel</td>\n",
       "      <td>0</td>\n",
       "      <td>NaN</td>\n",
       "      <td>NaN</td>\n",
       "    </tr>\n",
       "    <tr>\n",
       "      <th>91126</th>\n",
       "      <td>101026</td>\n",
       "      <td>mohamed sherif</td>\n",
       "      <td>Orange</td>\n",
       "      <td>message:</td>\n",
       "      <td>2022-06-06 10:51:46.991162</td>\n",
       "      <td>generic form</td>\n",
       "      <td>waterway_branded_residences</td>\n",
       "      <td>google</td>\n",
       "      <td>dev_-_equity</td>\n",
       "      <td>the waterway branded residences</td>\n",
       "      <td>0</td>\n",
       "      <td>NaN</td>\n",
       "      <td>NaN</td>\n",
       "    </tr>\n",
       "    <tr>\n",
       "      <th>91127</th>\n",
       "      <td>101027</td>\n",
       "      <td>Ahmed Monir Mostafa Hosny</td>\n",
       "      <td>Orange</td>\n",
       "      <td>ad_id : 23850616546710398 \\nadgroup_id : 23850616546710398 \\nadset_id : 23850616546700398 \\ncampaign_id : 23850492403650398 \\ncreated_time : 2022-06-06T10:52:19+0000 \\nform_id : 1074926903369744 \\nFacebook_id : 714331776350297 \\nleadgen_id : 714331776350297 \\npage_id : 653106524827671 \\nplatform : fb \\nبرجاء_تأكيد_رقم_الهاتف : 01222184454 \\n</td>\n",
       "      <td>2022-06-06 10:52:25.310426</td>\n",
       "      <td>facebook</td>\n",
       "      <td>telal sahel - gouna lookalike - north coast</td>\n",
       "      <td>facebook</td>\n",
       "      <td>roya - lead generation - cooing 3 - new</td>\n",
       "      <td>telal sahel</td>\n",
       "      <td>0</td>\n",
       "      <td>NaN</td>\n",
       "      <td>NaN</td>\n",
       "    </tr>\n",
       "    <tr>\n",
       "      <th>91128</th>\n",
       "      <td>101032</td>\n",
       "      <td>Raghda Mohamed</td>\n",
       "      <td>Vodafone</td>\n",
       "      <td>ad_id : 23851345729510299 \\nadgroup_id : 23851345729510299 \\nadset_id : 23851345729500299 \\ncampaign_id : 23850377713670299 \\ncreated_time : 2022-06-06T11:08:56+0000 \\nform_id : 1074926903369744 \\nFacebook_id : 707544087221812 \\nleadgen_id : 707544087221812 \\npage_id : 653106524827671 \\nplatform : fb \\nبرجاء_تأكيد_رقم_الهاتف : 01098301766 \\n</td>\n",
       "      <td>2022-06-06 11:09:02.837606</td>\n",
       "      <td>facebook</td>\n",
       "      <td>telal sahel --second home lookalikes--north coast</td>\n",
       "      <td>facebook</td>\n",
       "      <td>roya - lead generation - cooing 5</td>\n",
       "      <td>telal sahel</td>\n",
       "      <td>0</td>\n",
       "      <td>NaN</td>\n",
       "      <td>NaN</td>\n",
       "    </tr>\n",
       "  </tbody>\n",
       "</table>\n",
       "</div>"
      ],
      "text/plain": [
       "       lead_id              customer_name lead_mobile_network  \\\n",
       "91124   101024               Abadi Ahmeed                Gulf   \n",
       "91125   101025            Nermine Elassey              Orange   \n",
       "91126   101026             mohamed sherif              Orange   \n",
       "91127   101027  Ahmed Monir Mostafa Hosny              Orange   \n",
       "91128   101032             Raghda Mohamed            Vodafone   \n",
       "\n",
       "                                                                                                                                                                                                                                                                                                                                                                                                      message  \\\n",
       "91124  ad_id : 23850279525690562 \\nadgroup_id : 23850279525690562 \\nadset_id : 23850279525680562 \\ncampaign_id : 23848309616020562 \\nconfirm_your_phone_number_ : 0556644393 \\ncreated_time : 2022-06-06T10:42:13+0000 \\nform_id : 1088953991949500 \\nFacebook_id : 358160292973232 \\nleadgen_id : 358160292973232 \\npage_id : 653106524827671 \\nplatform : fb \\nميزانية_ : ٢-٣ مليون \\nنوع_الوحدة_ : فيلا \\n   \n",
       "91125                                                 ad_id : 23850531682810398 \\nadgroup_id : 23850531682810398 \\nadset_id : 23850531682800398 \\ncampaign_id : 23850492403650398 \\ncreated_time : 2022-06-06T10:45:38+0000 \\nform_id : 1074926903369744 \\nFacebook_id : 420636419694397 \\nleadgen_id : 420636419694397 \\npage_id : 653106524827671 \\nplatform : fb \\nبرجاء_تأكيد_رقم_الهاتف : ٠١٢٧٧٣٦٦٧٧٣ \\n   \n",
       "91126                                                                                                                                                                                                                                                                                                                                                                                               message:    \n",
       "91127                                                 ad_id : 23850616546710398 \\nadgroup_id : 23850616546710398 \\nadset_id : 23850616546700398 \\ncampaign_id : 23850492403650398 \\ncreated_time : 2022-06-06T10:52:19+0000 \\nform_id : 1074926903369744 \\nFacebook_id : 714331776350297 \\nleadgen_id : 714331776350297 \\npage_id : 653106524827671 \\nplatform : fb \\nبرجاء_تأكيد_رقم_الهاتف : 01222184454 \\n   \n",
       "91128                                                 ad_id : 23851345729510299 \\nadgroup_id : 23851345729510299 \\nadset_id : 23851345729500299 \\ncampaign_id : 23850377713670299 \\ncreated_time : 2022-06-06T11:08:56+0000 \\nform_id : 1074926903369744 \\nFacebook_id : 707544087221812 \\nleadgen_id : 707544087221812 \\npage_id : 653106524827671 \\nplatform : fb \\nبرجاء_تأكيد_رقم_الهاتف : 01098301766 \\n   \n",
       "\n",
       "                        lead_time method_of_contact  \\\n",
       "91124  2022-06-06 10:42:19.756014          facebook   \n",
       "91125  2022-06-06 10:45:44.002419          facebook   \n",
       "91126  2022-06-06 10:51:46.991162      generic form   \n",
       "91127  2022-06-06 10:52:25.310426          facebook   \n",
       "91128  2022-06-06 11:09:02.837606          facebook   \n",
       "\n",
       "                                                     ad_group lead_source  \\\n",
       "91124  the lakes bloomfields - khaleeji lookalike - new cairo    facebook   \n",
       "91125                telal sahel - no targeting - north coast    facebook   \n",
       "91126                             waterway_branded_residences      google   \n",
       "91127             telal sahel - gouna lookalike - north coast    facebook   \n",
       "91128       telal sahel --second home lookalikes--north coast    facebook   \n",
       "\n",
       "                                              campaign  \\\n",
       "91124  tatweer misr - lead generation - cooing 2 - new   \n",
       "91125          roya - lead generation - cooing 3 - new   \n",
       "91126                                     dev_-_equity   \n",
       "91127          roya - lead generation - cooing 3 - new   \n",
       "91128                roya - lead generation - cooing 5   \n",
       "\n",
       "                              location low_qualified Unnamed: 11  Unnamed: 12  \n",
       "91124       mostakbal city villa offer             0         NaN          NaN  \n",
       "91125                      telal sahel             0         NaN          NaN  \n",
       "91126  the waterway branded residences             0         NaN          NaN  \n",
       "91127                      telal sahel             0         NaN          NaN  \n",
       "91128                      telal sahel             0         NaN          NaN  "
      ]
     },
     "execution_count": 5,
     "metadata": {},
     "output_type": "execute_result"
    }
   ],
   "source": [
    "df.tail()"
   ]
  },
  {
   "cell_type": "code",
   "execution_count": 6,
   "metadata": {},
   "outputs": [
    {
     "data": {
      "text/plain": [
       "Index(['lead_id', 'customer_name', 'lead_mobile_network', 'message',\n",
       "       'lead_time', 'method_of_contact', 'ad_group', 'lead_source', 'campaign',\n",
       "       'location', 'low_qualified', 'Unnamed: 11', 'Unnamed: 12'],\n",
       "      dtype='object')"
      ]
     },
     "execution_count": 6,
     "metadata": {},
     "output_type": "execute_result"
    }
   ],
   "source": [
    "df.columns"
   ]
  },
  {
   "cell_type": "code",
   "execution_count": 7,
   "metadata": {},
   "outputs": [
    {
     "name": "stdout",
     "output_type": "stream",
     "text": [
      "<class 'pandas.core.frame.DataFrame'>\n",
      "RangeIndex: 91129 entries, 0 to 91128\n",
      "Data columns (total 13 columns):\n",
      " #   Column               Non-Null Count  Dtype  \n",
      "---  ------               --------------  -----  \n",
      " 0   lead_id              91129 non-null  int64  \n",
      " 1   customer_name        91129 non-null  object \n",
      " 2   lead_mobile_network  91128 non-null  object \n",
      " 3   message              89091 non-null  object \n",
      " 4   lead_time            91129 non-null  object \n",
      " 5   method_of_contact    91129 non-null  object \n",
      " 6   ad_group             91057 non-null  object \n",
      " 7   lead_source          91129 non-null  object \n",
      " 8   campaign             90349 non-null  object \n",
      " 9   location             90980 non-null  object \n",
      " 10  low_qualified        91129 non-null  object \n",
      " 11  Unnamed: 11          8 non-null      object \n",
      " 12  Unnamed: 12          1 non-null      float64\n",
      "dtypes: float64(1), int64(1), object(11)\n",
      "memory usage: 9.0+ MB\n"
     ]
    }
   ],
   "source": [
    "df.info()"
   ]
  },
  {
   "cell_type": "code",
   "execution_count": 8,
   "metadata": {},
   "outputs": [
    {
     "data": {
      "text/plain": [
       "lead_id                    0\n",
       "customer_name              0\n",
       "lead_mobile_network        1\n",
       "message                 2038\n",
       "lead_time                  0\n",
       "method_of_contact          0\n",
       "ad_group                  72\n",
       "lead_source                0\n",
       "campaign                 780\n",
       "location                 149\n",
       "low_qualified              0\n",
       "Unnamed: 11            91121\n",
       "Unnamed: 12            91128\n",
       "dtype: int64"
      ]
     },
     "execution_count": 8,
     "metadata": {},
     "output_type": "execute_result"
    }
   ],
   "source": [
    "df.isna().sum()"
   ]
  },
  {
   "cell_type": "markdown",
   "metadata": {},
   "source": [
    "# Target Exploration (Low_qualified)"
   ]
  },
  {
   "cell_type": "code",
   "execution_count": 10,
   "metadata": {},
   "outputs": [
    {
     "data": {
      "text/plain": [
       "0                             75136\n",
       "1                             15985\n",
       "none                              3\n",
       "club residences                   1\n",
       "ora                               1\n",
       "mountain view ras el hekma        1\n",
       "address east                      1\n",
       "newshunt360.com                   1\n",
       "Name: low_qualified, dtype: int64"
      ]
     },
     "execution_count": 10,
     "metadata": {},
     "output_type": "execute_result"
    }
   ],
   "source": [
    "df.low_qualified.value_counts()\n",
    "#we need to check different values rather than 0,1, I think it's wrong from data entry"
   ]
  },
  {
   "cell_type": "markdown",
   "metadata": {},
   "source": [
    "- I think Unnamed: 11,12 should be values of low_qualified, So let's focus on them more\n",
    "- There are another values for target column not only 0,1"
   ]
  },
  {
   "cell_type": "code",
   "execution_count": 13,
   "metadata": {},
   "outputs": [
    {
     "data": {
      "text/html": [
       "<div>\n",
       "<style scoped>\n",
       "    .dataframe tbody tr th:only-of-type {\n",
       "        vertical-align: middle;\n",
       "    }\n",
       "\n",
       "    .dataframe tbody tr th {\n",
       "        vertical-align: top;\n",
       "    }\n",
       "\n",
       "    .dataframe thead th {\n",
       "        text-align: right;\n",
       "    }\n",
       "</style>\n",
       "<table border=\"1\" class=\"dataframe\">\n",
       "  <thead>\n",
       "    <tr style=\"text-align: right;\">\n",
       "      <th></th>\n",
       "      <th>lead_id</th>\n",
       "      <th>customer_name</th>\n",
       "      <th>lead_mobile_network</th>\n",
       "      <th>message</th>\n",
       "      <th>lead_time</th>\n",
       "      <th>method_of_contact</th>\n",
       "      <th>ad_group</th>\n",
       "      <th>lead_source</th>\n",
       "      <th>campaign</th>\n",
       "      <th>location</th>\n",
       "      <th>low_qualified</th>\n",
       "      <th>Unnamed: 11</th>\n",
       "      <th>Unnamed: 12</th>\n",
       "    </tr>\n",
       "  </thead>\n",
       "  <tbody>\n",
       "    <tr>\n",
       "      <th>41169</th>\n",
       "      <td>54265</td>\n",
       "      <td>آلاء خالد</td>\n",
       "      <td>?</td>\n",
       "      <td>Vodafone</td>\n",
       "      <td>ad_id : 23848437135960398 \\nadgroup_id : 23848437135960398 \\nadset_id : 23848437135950398 \\ncampaign_id : 23848381607790398 \\ncreated_time : 2021-10-05T02:20:08+0000 \\nform_id : 222943659701785 \\nFacebook_id : 1291325117965079 \\nleadgen_id : 1291325117965079 \\npage_id : 653106524827671 \\nplatform : fb \\n</td>\n",
       "      <td>2021-10-05 02:20:12.510749</td>\n",
       "      <td>facebook</td>\n",
       "      <td>club residences -  general audience with real estate interests</td>\n",
       "      <td>facebook</td>\n",
       "      <td>facebook</td>\n",
       "      <td>club residences</td>\n",
       "      <td>1</td>\n",
       "      <td>NaN</td>\n",
       "    </tr>\n",
       "    <tr>\n",
       "      <th>46959</th>\n",
       "      <td>59376</td>\n",
       "      <td>ابو مازن</td>\n",
       "      <td>Vodafone</td>\n",
       "      <td>Called us 12</td>\n",
       "      <td>30 tried to call back busy</td>\n",
       "      <td>2021-11-14 12:15:48.090683</td>\n",
       "      <td>phone</td>\n",
       "      <td>none</td>\n",
       "      <td>hotline</td>\n",
       "      <td>hotline</td>\n",
       "      <td>none</td>\n",
       "      <td>1</td>\n",
       "      <td>NaN</td>\n",
       "    </tr>\n",
       "    <tr>\n",
       "      <th>46960</th>\n",
       "      <td>59376</td>\n",
       "      <td>ابو مازن</td>\n",
       "      <td>Vodafone</td>\n",
       "      <td>Called us 12</td>\n",
       "      <td>30 tried to call back busy</td>\n",
       "      <td>2021-11-14 13:33:13.033979</td>\n",
       "      <td>phone</td>\n",
       "      <td>none</td>\n",
       "      <td>hotline</td>\n",
       "      <td>hotline</td>\n",
       "      <td>none</td>\n",
       "      <td>1</td>\n",
       "      <td>NaN</td>\n",
       "    </tr>\n",
       "    <tr>\n",
       "      <th>55210</th>\n",
       "      <td>66510</td>\n",
       "      <td>Yousra</td>\n",
       "      <td>Gulf</td>\n",
       "      <td>https://m.facebook.com/sto...p</td>\n",
       "      <td>sfnsn=scwspwa</td>\n",
       "      <td>2022-01-09 08:37:11.382320</td>\n",
       "      <td>whatsapp</td>\n",
       "      <td>none</td>\n",
       "      <td>facebook</td>\n",
       "      <td>facebook</td>\n",
       "      <td>ora</td>\n",
       "      <td>0</td>\n",
       "      <td>NaN</td>\n",
       "    </tr>\n",
       "    <tr>\n",
       "      <th>73220</th>\n",
       "      <td>83114</td>\n",
       "      <td>naj</td>\n",
       "      <td>NaN</td>\n",
       "      <td>Vodafone</td>\n",
       "      <td>out of service</td>\n",
       "      <td>2022-04-05 18:59:39.015907</td>\n",
       "      <td>generic form</td>\n",
       "      <td>none</td>\n",
       "      <td>google</td>\n",
       "      <td>google</td>\n",
       "      <td>mountain view ras el hekma</td>\n",
       "      <td>0</td>\n",
       "      <td>NaN</td>\n",
       "    </tr>\n",
       "    <tr>\n",
       "      <th>75739</th>\n",
       "      <td>85421</td>\n",
       "      <td>Doaa</td>\n",
       "      <td>Vodafone</td>\n",
       "      <td>Whatsapp number</td>\n",
       "      <td>1020669678</td>\n",
       "      <td>2022-04-15 12:59:05.961885</td>\n",
       "      <td>phone</td>\n",
       "      <td>none</td>\n",
       "      <td>google</td>\n",
       "      <td>google</td>\n",
       "      <td>none</td>\n",
       "      <td>0</td>\n",
       "      <td>NaN</td>\n",
       "    </tr>\n",
       "    <tr>\n",
       "      <th>76412</th>\n",
       "      <td>86081</td>\n",
       "      <td>ki</td>\n",
       "      <td>hykjghk</td>\n",
       "      <td>Etisalat</td>\n",
       "      <td>message:</td>\n",
       "      <td>2022-04-18 21:05:13.443722</td>\n",
       "      <td>generic form</td>\n",
       "      <td>none</td>\n",
       "      <td>google</td>\n",
       "      <td>google</td>\n",
       "      <td>address east</td>\n",
       "      <td>1</td>\n",
       "      <td>NaN</td>\n",
       "    </tr>\n",
       "    <tr>\n",
       "      <th>85424</th>\n",
       "      <td>94815</td>\n",
       "      <td>elijah</td>\n",
       "      <td>Gulf</td>\n",
       "      <td>message: [p[p0-I am Outreach Back-Links Builder(Affiliated with Freelancer SEO Company) I provide backlinks on high-quality sites which helps to rank your site in google   Features</td>\n",
       "      <td>1. Google indexed blogs 2. Instant Publishing 3. Instant Editing 4. High Authority US/UK Based blogs (guest post &amp; existing post available) 5. Affordable prices 6. Do-follow and permanent links You can check these sites and if you need my full sites list then please also let me know your budget   http://sthint.com/                                  https://paidguestposting.com/              https://chalagy.com/                             https://minibighype.com/ https://ameyawdebrah.com/                        Sample of the sites</td>\n",
       "      <td>https://savedelete.com/finance/how-did-binance-become-the-largest-exchange/347473/ https://techlogitic.net/what-is-the-most-powerful-portable-charger/ https://expressdigest.com/investigators-will-probe-how-stonehaven-rail-crash-went-unnoticed-due-to-poor-phone-signal/   If you are interested or have any queries please let us know?  Waiting for your kind reply!  Best Regards</td>\n",
       "      <td>2022-05-17 12:30:41.460759</td>\n",
       "      <td>newshunt360.com</td>\n",
       "      <td>none</td>\n",
       "      <td>(none)</td>\n",
       "      <td>newshunt360.com</td>\n",
       "      <td>none</td>\n",
       "      <td>1.0</td>\n",
       "    </tr>\n",
       "  </tbody>\n",
       "</table>\n",
       "</div>"
      ],
      "text/plain": [
       "       lead_id customer_name lead_mobile_network  \\\n",
       "41169    54265     آلاء خالد                   ?   \n",
       "46959    59376      ابو مازن            Vodafone   \n",
       "46960    59376      ابو مازن            Vodafone   \n",
       "55210    66510        Yousra                Gulf   \n",
       "73220    83114           naj                 NaN   \n",
       "75739    85421         Doaa             Vodafone   \n",
       "76412    86081            ki             hykjghk   \n",
       "85424    94815        elijah                Gulf   \n",
       "\n",
       "                                                                                                                                                                                    message  \\\n",
       "41169                                                                                                                                                                              Vodafone   \n",
       "46959                                                                                                                                                                          Called us 12   \n",
       "46960                                                                                                                                                                          Called us 12   \n",
       "55210                                                                                                                                                        https://m.facebook.com/sto...p   \n",
       "73220                                                                                                                                                                              Vodafone   \n",
       "75739                                                                                                                                                                      Whatsapp number    \n",
       "76412                                                                                                                                                                              Etisalat   \n",
       "85424  message: [p[p0-I am Outreach Back-Links Builder(Affiliated with Freelancer SEO Company) I provide backlinks on high-quality sites which helps to rank your site in google   Features   \n",
       "\n",
       "                                                                                                                                                                                                                                                                                                                                                                                                                                                                                                                                                      lead_time  \\\n",
       "41169                                                                                                                                                                                                                                         ad_id : 23848437135960398 \\nadgroup_id : 23848437135960398 \\nadset_id : 23848437135950398 \\ncampaign_id : 23848381607790398 \\ncreated_time : 2021-10-05T02:20:08+0000 \\nform_id : 222943659701785 \\nFacebook_id : 1291325117965079 \\nleadgen_id : 1291325117965079 \\npage_id : 653106524827671 \\nplatform : fb \\n   \n",
       "46959                                                                                                                                                                                                                                                                                                                                                                                                                                                                                                                                30 tried to call back busy   \n",
       "46960                                                                                                                                                                                                                                                                                                                                                                                                                                                                                                                                30 tried to call back busy   \n",
       "55210                                                                                                                                                                                                                                                                                                                                                                                                                                                                                                                                            sfnsn=scwspwa    \n",
       "73220                                                                                                                                                                                                                                                                                                                                                                                                                                                                                                                                            out of service   \n",
       "75739                                                                                                                                                                                                                                                                                                                                                                                                                                                                                                                                                1020669678   \n",
       "76412                                                                                                                                                                                                                                                                                                                                                                                                                                                                                                                                                 message:    \n",
       "85424   1. Google indexed blogs 2. Instant Publishing 3. Instant Editing 4. High Authority US/UK Based blogs (guest post & existing post available) 5. Affordable prices 6. Do-follow and permanent links You can check these sites and if you need my full sites list then please also let me know your budget   http://sthint.com/                                  https://paidguestposting.com/              https://chalagy.com/                             https://minibighype.com/ https://ameyawdebrah.com/                        Sample of the sites   \n",
       "\n",
       "                                                                                                                                                                                                                                                                                                                                                                               method_of_contact  \\\n",
       "41169                                                                                                                                                                                                                                                                                                                                                                 2021-10-05 02:20:12.510749   \n",
       "46959                                                                                                                                                                                                                                                                                                                                                                 2021-11-14 12:15:48.090683   \n",
       "46960                                                                                                                                                                                                                                                                                                                                                                 2021-11-14 13:33:13.033979   \n",
       "55210                                                                                                                                                                                                                                                                                                                                                                 2022-01-09 08:37:11.382320   \n",
       "73220                                                                                                                                                                                                                                                                                                                                                                 2022-04-05 18:59:39.015907   \n",
       "75739                                                                                                                                                                                                                                                                                                                                                                 2022-04-15 12:59:05.961885   \n",
       "76412                                                                                                                                                                                                                                                                                                                                                                 2022-04-18 21:05:13.443722   \n",
       "85424   https://savedelete.com/finance/how-did-binance-become-the-largest-exchange/347473/ https://techlogitic.net/what-is-the-most-powerful-portable-charger/ https://expressdigest.com/investigators-will-probe-how-stonehaven-rail-crash-went-unnoticed-due-to-poor-phone-signal/   If you are interested or have any queries please let us know?  Waiting for your kind reply!  Best Regards   \n",
       "\n",
       "                         ad_group  \\\n",
       "41169                    facebook   \n",
       "46959                       phone   \n",
       "46960                       phone   \n",
       "55210                    whatsapp   \n",
       "73220                generic form   \n",
       "75739                       phone   \n",
       "76412                generic form   \n",
       "85424  2022-05-17 12:30:41.460759   \n",
       "\n",
       "                                                          lead_source  \\\n",
       "41169  club residences -  general audience with real estate interests   \n",
       "46959                                                            none   \n",
       "46960                                                            none   \n",
       "55210                                                            none   \n",
       "73220                                                            none   \n",
       "75739                                                            none   \n",
       "76412                                                            none   \n",
       "85424                                                 newshunt360.com   \n",
       "\n",
       "       campaign  location               low_qualified Unnamed: 11  Unnamed: 12  \n",
       "41169  facebook  facebook             club residences           1          NaN  \n",
       "46959   hotline   hotline                        none           1          NaN  \n",
       "46960   hotline   hotline                        none           1          NaN  \n",
       "55210  facebook  facebook                         ora           0          NaN  \n",
       "73220    google    google  mountain view ras el hekma           0          NaN  \n",
       "75739    google    google                        none           0          NaN  \n",
       "76412    google    google                address east           1          NaN  \n",
       "85424      none    (none)             newshunt360.com        none          1.0  "
      ]
     },
     "execution_count": 13,
     "metadata": {},
     "output_type": "execute_result"
    }
   ],
   "source": [
    "df[~df['Unnamed: 11'].isna()]"
   ]
  },
  {
   "cell_type": "code",
   "execution_count": 14,
   "metadata": {},
   "outputs": [
    {
     "data": {
      "text/html": [
       "<div>\n",
       "<style scoped>\n",
       "    .dataframe tbody tr th:only-of-type {\n",
       "        vertical-align: middle;\n",
       "    }\n",
       "\n",
       "    .dataframe tbody tr th {\n",
       "        vertical-align: top;\n",
       "    }\n",
       "\n",
       "    .dataframe thead th {\n",
       "        text-align: right;\n",
       "    }\n",
       "</style>\n",
       "<table border=\"1\" class=\"dataframe\">\n",
       "  <thead>\n",
       "    <tr style=\"text-align: right;\">\n",
       "      <th></th>\n",
       "      <th>lead_id</th>\n",
       "      <th>customer_name</th>\n",
       "      <th>lead_mobile_network</th>\n",
       "      <th>message</th>\n",
       "      <th>lead_time</th>\n",
       "      <th>method_of_contact</th>\n",
       "      <th>ad_group</th>\n",
       "      <th>lead_source</th>\n",
       "      <th>campaign</th>\n",
       "      <th>location</th>\n",
       "      <th>low_qualified</th>\n",
       "      <th>Unnamed: 11</th>\n",
       "      <th>Unnamed: 12</th>\n",
       "    </tr>\n",
       "  </thead>\n",
       "  <tbody>\n",
       "    <tr>\n",
       "      <th>85424</th>\n",
       "      <td>94815</td>\n",
       "      <td>elijah</td>\n",
       "      <td>Gulf</td>\n",
       "      <td>message: [p[p0-I am Outreach Back-Links Builder(Affiliated with Freelancer SEO Company) I provide backlinks on high-quality sites which helps to rank your site in google   Features</td>\n",
       "      <td>1. Google indexed blogs 2. Instant Publishing 3. Instant Editing 4. High Authority US/UK Based blogs (guest post &amp; existing post available) 5. Affordable prices 6. Do-follow and permanent links You can check these sites and if you need my full sites list then please also let me know your budget   http://sthint.com/                                  https://paidguestposting.com/              https://chalagy.com/                             https://minibighype.com/ https://ameyawdebrah.com/                        Sample of the sites</td>\n",
       "      <td>https://savedelete.com/finance/how-did-binance-become-the-largest-exchange/347473/ https://techlogitic.net/what-is-the-most-powerful-portable-charger/ https://expressdigest.com/investigators-will-probe-how-stonehaven-rail-crash-went-unnoticed-due-to-poor-phone-signal/   If you are interested or have any queries please let us know?  Waiting for your kind reply!  Best Regards</td>\n",
       "      <td>2022-05-17 12:30:41.460759</td>\n",
       "      <td>newshunt360.com</td>\n",
       "      <td>none</td>\n",
       "      <td>(none)</td>\n",
       "      <td>newshunt360.com</td>\n",
       "      <td>none</td>\n",
       "      <td>1.0</td>\n",
       "    </tr>\n",
       "  </tbody>\n",
       "</table>\n",
       "</div>"
      ],
      "text/plain": [
       "       lead_id customer_name lead_mobile_network  \\\n",
       "85424    94815        elijah                Gulf   \n",
       "\n",
       "                                                                                                                                                                                    message  \\\n",
       "85424  message: [p[p0-I am Outreach Back-Links Builder(Affiliated with Freelancer SEO Company) I provide backlinks on high-quality sites which helps to rank your site in google   Features   \n",
       "\n",
       "                                                                                                                                                                                                                                                                                                                                                                                                                                                                                                                                                      lead_time  \\\n",
       "85424   1. Google indexed blogs 2. Instant Publishing 3. Instant Editing 4. High Authority US/UK Based blogs (guest post & existing post available) 5. Affordable prices 6. Do-follow and permanent links You can check these sites and if you need my full sites list then please also let me know your budget   http://sthint.com/                                  https://paidguestposting.com/              https://chalagy.com/                             https://minibighype.com/ https://ameyawdebrah.com/                        Sample of the sites   \n",
       "\n",
       "                                                                                                                                                                                                                                                                                                                                                                               method_of_contact  \\\n",
       "85424   https://savedelete.com/finance/how-did-binance-become-the-largest-exchange/347473/ https://techlogitic.net/what-is-the-most-powerful-portable-charger/ https://expressdigest.com/investigators-will-probe-how-stonehaven-rail-crash-went-unnoticed-due-to-poor-phone-signal/   If you are interested or have any queries please let us know?  Waiting for your kind reply!  Best Regards   \n",
       "\n",
       "                         ad_group      lead_source campaign location  \\\n",
       "85424  2022-05-17 12:30:41.460759  newshunt360.com     none   (none)   \n",
       "\n",
       "         low_qualified Unnamed: 11  Unnamed: 12  \n",
       "85424  newshunt360.com        none          1.0  "
      ]
     },
     "execution_count": 14,
     "metadata": {},
     "output_type": "execute_result"
    }
   ],
   "source": [
    "df[~df['Unnamed: 12'].isna()]"
   ]
  },
  {
   "cell_type": "markdown",
   "metadata": {},
   "source": [
    "Filling low_qualified by values in Unnamed 11,12 columns "
   ]
  },
  {
   "cell_type": "code",
   "execution_count": 20,
   "metadata": {},
   "outputs": [
    {
     "data": {
      "text/plain": [
       "1.0"
      ]
     },
     "execution_count": 20,
     "metadata": {},
     "output_type": "execute_result"
    }
   ],
   "source": [
    "df.iloc[85424,df.columns.get_loc('Unnamed: 12')]"
   ]
  },
  {
   "cell_type": "code",
   "execution_count": 5,
   "metadata": {},
   "outputs": [
    {
     "data": {
      "text/plain": [
       "'1'"
      ]
     },
     "execution_count": 5,
     "metadata": {},
     "output_type": "execute_result"
    }
   ],
   "source": [
    "df.iloc[85424, df.columns.get_loc('low_qualified')] = str(int(df.iloc[85424,df.columns.get_loc('Unnamed: 12')]))\n",
    "df.iloc[85424, df.columns.get_loc('low_qualified')] "
   ]
  },
  {
   "cell_type": "code",
   "execution_count": 6,
   "metadata": {},
   "outputs": [],
   "source": [
    "lead_ids_list = list(df[~df['Unnamed: 11'].isna()].index)\n",
    "#remove index which handled by Unnamed: 12\n",
    "lead_ids_list.remove(85424)"
   ]
  },
  {
   "cell_type": "markdown",
   "metadata": {},
   "source": [
    "- put values of low_qualified on location\n",
    "- put values of campaign on lead_source\n",
    "- put values of Unnamed:11 on low_qualified"
   ]
  },
  {
   "cell_type": "code",
   "execution_count": 7,
   "metadata": {},
   "outputs": [
    {
     "data": {
      "text/html": [
       "<div>\n",
       "<style scoped>\n",
       "    .dataframe tbody tr th:only-of-type {\n",
       "        vertical-align: middle;\n",
       "    }\n",
       "\n",
       "    .dataframe tbody tr th {\n",
       "        vertical-align: top;\n",
       "    }\n",
       "\n",
       "    .dataframe thead th {\n",
       "        text-align: right;\n",
       "    }\n",
       "</style>\n",
       "<table border=\"1\" class=\"dataframe\">\n",
       "  <thead>\n",
       "    <tr style=\"text-align: right;\">\n",
       "      <th></th>\n",
       "      <th>lead_id</th>\n",
       "      <th>customer_name</th>\n",
       "      <th>lead_mobile_network</th>\n",
       "      <th>message</th>\n",
       "      <th>lead_time</th>\n",
       "      <th>method_of_contact</th>\n",
       "      <th>ad_group</th>\n",
       "      <th>lead_source</th>\n",
       "      <th>campaign</th>\n",
       "      <th>location</th>\n",
       "      <th>low_qualified</th>\n",
       "      <th>Unnamed: 11</th>\n",
       "      <th>Unnamed: 12</th>\n",
       "    </tr>\n",
       "  </thead>\n",
       "  <tbody>\n",
       "    <tr>\n",
       "      <th>41169</th>\n",
       "      <td>54265</td>\n",
       "      <td>آلاء خالد</td>\n",
       "      <td>?</td>\n",
       "      <td>Vodafone</td>\n",
       "      <td>ad_id : 23848437135960398 \\nadgroup_id : 23848437135960398 \\nadset_id : 23848437135950398 \\ncampaign_id : 23848381607790398 \\ncreated_time : 2021-10-05T02:20:08+0000 \\nform_id : 222943659701785 \\nFacebook_id : 1291325117965079 \\nleadgen_id : 1291325117965079 \\npage_id : 653106524827671 \\nplatform : fb \\n</td>\n",
       "      <td>2021-10-05 02:20:12.510749</td>\n",
       "      <td>facebook</td>\n",
       "      <td>facebook</td>\n",
       "      <td>facebook</td>\n",
       "      <td>club residences</td>\n",
       "      <td>1</td>\n",
       "      <td>1</td>\n",
       "      <td>NaN</td>\n",
       "    </tr>\n",
       "    <tr>\n",
       "      <th>46959</th>\n",
       "      <td>59376</td>\n",
       "      <td>ابو مازن</td>\n",
       "      <td>Vodafone</td>\n",
       "      <td>Called us 12</td>\n",
       "      <td>30 tried to call back busy</td>\n",
       "      <td>2021-11-14 12:15:48.090683</td>\n",
       "      <td>phone</td>\n",
       "      <td>hotline</td>\n",
       "      <td>hotline</td>\n",
       "      <td>none</td>\n",
       "      <td>1</td>\n",
       "      <td>1</td>\n",
       "      <td>NaN</td>\n",
       "    </tr>\n",
       "    <tr>\n",
       "      <th>46960</th>\n",
       "      <td>59376</td>\n",
       "      <td>ابو مازن</td>\n",
       "      <td>Vodafone</td>\n",
       "      <td>Called us 12</td>\n",
       "      <td>30 tried to call back busy</td>\n",
       "      <td>2021-11-14 13:33:13.033979</td>\n",
       "      <td>phone</td>\n",
       "      <td>hotline</td>\n",
       "      <td>hotline</td>\n",
       "      <td>none</td>\n",
       "      <td>1</td>\n",
       "      <td>1</td>\n",
       "      <td>NaN</td>\n",
       "    </tr>\n",
       "    <tr>\n",
       "      <th>55210</th>\n",
       "      <td>66510</td>\n",
       "      <td>Yousra</td>\n",
       "      <td>Gulf</td>\n",
       "      <td>https://m.facebook.com/sto...p</td>\n",
       "      <td>sfnsn=scwspwa</td>\n",
       "      <td>2022-01-09 08:37:11.382320</td>\n",
       "      <td>whatsapp</td>\n",
       "      <td>facebook</td>\n",
       "      <td>facebook</td>\n",
       "      <td>ora</td>\n",
       "      <td>0</td>\n",
       "      <td>0</td>\n",
       "      <td>NaN</td>\n",
       "    </tr>\n",
       "    <tr>\n",
       "      <th>73220</th>\n",
       "      <td>83114</td>\n",
       "      <td>naj</td>\n",
       "      <td>NaN</td>\n",
       "      <td>Vodafone</td>\n",
       "      <td>out of service</td>\n",
       "      <td>2022-04-05 18:59:39.015907</td>\n",
       "      <td>generic form</td>\n",
       "      <td>google</td>\n",
       "      <td>google</td>\n",
       "      <td>mountain view ras el hekma</td>\n",
       "      <td>0</td>\n",
       "      <td>0</td>\n",
       "      <td>NaN</td>\n",
       "    </tr>\n",
       "    <tr>\n",
       "      <th>75739</th>\n",
       "      <td>85421</td>\n",
       "      <td>Doaa</td>\n",
       "      <td>Vodafone</td>\n",
       "      <td>Whatsapp number</td>\n",
       "      <td>1020669678</td>\n",
       "      <td>2022-04-15 12:59:05.961885</td>\n",
       "      <td>phone</td>\n",
       "      <td>google</td>\n",
       "      <td>google</td>\n",
       "      <td>none</td>\n",
       "      <td>0</td>\n",
       "      <td>0</td>\n",
       "      <td>NaN</td>\n",
       "    </tr>\n",
       "    <tr>\n",
       "      <th>76412</th>\n",
       "      <td>86081</td>\n",
       "      <td>ki</td>\n",
       "      <td>hykjghk</td>\n",
       "      <td>Etisalat</td>\n",
       "      <td>message:</td>\n",
       "      <td>2022-04-18 21:05:13.443722</td>\n",
       "      <td>generic form</td>\n",
       "      <td>google</td>\n",
       "      <td>google</td>\n",
       "      <td>address east</td>\n",
       "      <td>1</td>\n",
       "      <td>1</td>\n",
       "      <td>NaN</td>\n",
       "    </tr>\n",
       "    <tr>\n",
       "      <th>85424</th>\n",
       "      <td>94815</td>\n",
       "      <td>elijah</td>\n",
       "      <td>Gulf</td>\n",
       "      <td>message: [p[p0-I am Outreach Back-Links Builder(Affiliated with Freelancer SEO Company) I provide backlinks on high-quality sites which helps to rank your site in google   Features</td>\n",
       "      <td>1. Google indexed blogs 2. Instant Publishing 3. Instant Editing 4. High Authority US/UK Based blogs (guest post &amp; existing post available) 5. Affordable prices 6. Do-follow and permanent links You can check these sites and if you need my full sites list then please also let me know your budget   http://sthint.com/                                  https://paidguestposting.com/              https://chalagy.com/                             https://minibighype.com/ https://ameyawdebrah.com/                        Sample of the sites</td>\n",
       "      <td>https://savedelete.com/finance/how-did-binance-become-the-largest-exchange/347473/ https://techlogitic.net/what-is-the-most-powerful-portable-charger/ https://expressdigest.com/investigators-will-probe-how-stonehaven-rail-crash-went-unnoticed-due-to-poor-phone-signal/   If you are interested or have any queries please let us know?  Waiting for your kind reply!  Best Regards</td>\n",
       "      <td>2022-05-17 12:30:41.460759</td>\n",
       "      <td>newshunt360.com</td>\n",
       "      <td>none</td>\n",
       "      <td>(none)</td>\n",
       "      <td>1</td>\n",
       "      <td>none</td>\n",
       "      <td>1.0</td>\n",
       "    </tr>\n",
       "  </tbody>\n",
       "</table>\n",
       "</div>"
      ],
      "text/plain": [
       "       lead_id customer_name lead_mobile_network  \\\n",
       "41169    54265     آلاء خالد                   ?   \n",
       "46959    59376      ابو مازن            Vodafone   \n",
       "46960    59376      ابو مازن            Vodafone   \n",
       "55210    66510        Yousra                Gulf   \n",
       "73220    83114           naj                 NaN   \n",
       "75739    85421         Doaa             Vodafone   \n",
       "76412    86081            ki             hykjghk   \n",
       "85424    94815        elijah                Gulf   \n",
       "\n",
       "                                                                                                                                                                                    message  \\\n",
       "41169                                                                                                                                                                              Vodafone   \n",
       "46959                                                                                                                                                                          Called us 12   \n",
       "46960                                                                                                                                                                          Called us 12   \n",
       "55210                                                                                                                                                        https://m.facebook.com/sto...p   \n",
       "73220                                                                                                                                                                              Vodafone   \n",
       "75739                                                                                                                                                                      Whatsapp number    \n",
       "76412                                                                                                                                                                              Etisalat   \n",
       "85424  message: [p[p0-I am Outreach Back-Links Builder(Affiliated with Freelancer SEO Company) I provide backlinks on high-quality sites which helps to rank your site in google   Features   \n",
       "\n",
       "                                                                                                                                                                                                                                                                                                                                                                                                                                                                                                                                                      lead_time  \\\n",
       "41169                                                                                                                                                                                                                                         ad_id : 23848437135960398 \\nadgroup_id : 23848437135960398 \\nadset_id : 23848437135950398 \\ncampaign_id : 23848381607790398 \\ncreated_time : 2021-10-05T02:20:08+0000 \\nform_id : 222943659701785 \\nFacebook_id : 1291325117965079 \\nleadgen_id : 1291325117965079 \\npage_id : 653106524827671 \\nplatform : fb \\n   \n",
       "46959                                                                                                                                                                                                                                                                                                                                                                                                                                                                                                                                30 tried to call back busy   \n",
       "46960                                                                                                                                                                                                                                                                                                                                                                                                                                                                                                                                30 tried to call back busy   \n",
       "55210                                                                                                                                                                                                                                                                                                                                                                                                                                                                                                                                            sfnsn=scwspwa    \n",
       "73220                                                                                                                                                                                                                                                                                                                                                                                                                                                                                                                                            out of service   \n",
       "75739                                                                                                                                                                                                                                                                                                                                                                                                                                                                                                                                                1020669678   \n",
       "76412                                                                                                                                                                                                                                                                                                                                                                                                                                                                                                                                                 message:    \n",
       "85424   1. Google indexed blogs 2. Instant Publishing 3. Instant Editing 4. High Authority US/UK Based blogs (guest post & existing post available) 5. Affordable prices 6. Do-follow and permanent links You can check these sites and if you need my full sites list then please also let me know your budget   http://sthint.com/                                  https://paidguestposting.com/              https://chalagy.com/                             https://minibighype.com/ https://ameyawdebrah.com/                        Sample of the sites   \n",
       "\n",
       "                                                                                                                                                                                                                                                                                                                                                                               method_of_contact  \\\n",
       "41169                                                                                                                                                                                                                                                                                                                                                                 2021-10-05 02:20:12.510749   \n",
       "46959                                                                                                                                                                                                                                                                                                                                                                 2021-11-14 12:15:48.090683   \n",
       "46960                                                                                                                                                                                                                                                                                                                                                                 2021-11-14 13:33:13.033979   \n",
       "55210                                                                                                                                                                                                                                                                                                                                                                 2022-01-09 08:37:11.382320   \n",
       "73220                                                                                                                                                                                                                                                                                                                                                                 2022-04-05 18:59:39.015907   \n",
       "75739                                                                                                                                                                                                                                                                                                                                                                 2022-04-15 12:59:05.961885   \n",
       "76412                                                                                                                                                                                                                                                                                                                                                                 2022-04-18 21:05:13.443722   \n",
       "85424   https://savedelete.com/finance/how-did-binance-become-the-largest-exchange/347473/ https://techlogitic.net/what-is-the-most-powerful-portable-charger/ https://expressdigest.com/investigators-will-probe-how-stonehaven-rail-crash-went-unnoticed-due-to-poor-phone-signal/   If you are interested or have any queries please let us know?  Waiting for your kind reply!  Best Regards   \n",
       "\n",
       "                         ad_group      lead_source  campaign  \\\n",
       "41169                    facebook         facebook  facebook   \n",
       "46959                       phone          hotline   hotline   \n",
       "46960                       phone          hotline   hotline   \n",
       "55210                    whatsapp         facebook  facebook   \n",
       "73220                generic form           google    google   \n",
       "75739                       phone           google    google   \n",
       "76412                generic form           google    google   \n",
       "85424  2022-05-17 12:30:41.460759  newshunt360.com      none   \n",
       "\n",
       "                         location low_qualified Unnamed: 11  Unnamed: 12  \n",
       "41169             club residences             1           1          NaN  \n",
       "46959                        none             1           1          NaN  \n",
       "46960                        none             1           1          NaN  \n",
       "55210                         ora             0           0          NaN  \n",
       "73220  mountain view ras el hekma             0           0          NaN  \n",
       "75739                        none             0           0          NaN  \n",
       "76412                address east             1           1          NaN  \n",
       "85424                      (none)             1        none          1.0  "
      ]
     },
     "execution_count": 7,
     "metadata": {},
     "output_type": "execute_result"
    }
   ],
   "source": [
    "for i in lead_ids_list:\n",
    "    df.iloc[i, df.columns.get_loc('location')] = df.iloc[i,df.columns.get_loc('low_qualified')]\n",
    "    df.iloc[i, df.columns.get_loc('lead_source')] = df.iloc[i,df.columns.get_loc('campaign')]\n",
    "    df.iloc[i, df.columns.get_loc('low_qualified')] = df.iloc[i,df.columns.get_loc('Unnamed: 11')]\n",
    "    \n",
    "\n",
    "df[~df['Unnamed: 11'].isna()]"
   ]
  },
  {
   "cell_type": "code",
   "execution_count": 8,
   "metadata": {},
   "outputs": [
    {
     "data": {
      "text/plain": [
       "array(['0', '1'], dtype=object)"
      ]
     },
     "execution_count": 8,
     "metadata": {},
     "output_type": "execute_result"
    }
   ],
   "source": [
    "#check low_qualified values now \n",
    "df.low_qualified.unique()\n",
    "#perfect"
   ]
  },
  {
   "cell_type": "code",
   "execution_count": 13,
   "metadata": {},
   "outputs": [
    {
     "data": {
      "text/plain": [
       "0    75139\n",
       "1    15990\n",
       "Name: low_qualified, dtype: int64"
      ]
     },
     "execution_count": 13,
     "metadata": {},
     "output_type": "execute_result"
    }
   ],
   "source": [
    "(df.low_qualified.value_counts())#/len(df)*100\n",
    "#imbalanced target values"
   ]
  },
  {
   "cell_type": "code",
   "execution_count": 31,
   "metadata": {},
   "outputs": [
    {
     "data": {
      "text/plain": [
       "Text(0.5, 0, 'Count')"
      ]
     },
     "execution_count": 31,
     "metadata": {},
     "output_type": "execute_result"
    },
    {
     "data": {
      "image/png": "[encoded data removed]",
      "text/plain": [
       "<Figure size 432x288 with 1 Axes>"
      ]
     },
     "metadata": {
      "needs_background": "light"
     },
     "output_type": "display_data"
    }
   ],
   "source": [
    "#plot it's count\n",
    "df.low_qualified.value_counts().plot(kind='barh')\n",
    "plt.ylabel(\"Low Qualified\")\n",
    "plt.xlabel(\"Count\")"
   ]
  },
  {
   "cell_type": "markdown",
   "metadata": {},
   "source": [
    "# Decision, \n",
    "##### Drop columns\n",
    "After we filling Low_qualified with them, I will drop  Unnamed 11, 12 column "
   ]
  },
  {
   "cell_type": "code",
   "execution_count": 37,
   "metadata": {},
   "outputs": [],
   "source": [
    "df.drop(['Unnamed: 11','Unnamed: 12'],axis=1,inplace=True)"
   ]
  },
  {
   "cell_type": "code",
   "execution_count": 40,
   "metadata": {},
   "outputs": [
    {
     "data": {
      "text/plain": [
       "Index(['lead_id', 'customer_name', 'lead_mobile_network', 'message',\n",
       "       'lead_time', 'method_of_contact', 'ad_group', 'lead_source', 'campaign',\n",
       "       'location', 'low_qualified'],\n",
       "      dtype='object')"
      ]
     },
     "execution_count": 40,
     "metadata": {},
     "output_type": "execute_result"
    }
   ],
   "source": [
    "#check of the dropping \n",
    "df.columns"
   ]
  },
  {
   "cell_type": "markdown",
   "metadata": {},
   "source": [
    "Important Note : customer may reach more than one time which mean lead_id may be duplicates in two rows but let's check the difference "
   ]
  },
  {
   "cell_type": "code",
   "execution_count": 29,
   "metadata": {},
   "outputs": [
    {
     "data": {
      "text/plain": [
       "'There are : 72294 unique customer out of : 91129 customer which means that there are : 18835 rows for customers reached twice or may more '"
      ]
     },
     "execution_count": 29,
     "metadata": {},
     "output_type": "execute_result"
    }
   ],
   "source": [
    "'There are : {} unique customer out of : {} customer which means that there are : {} rows for customers reached twice or may more '.format(len(df.lead_id.unique()),len(df),len(df)-len(df.lead_id.unique()))"
   ]
  },
  {
   "cell_type": "markdown",
   "metadata": {},
   "source": [
    "# Customers exploration"
   ]
  },
  {
   "cell_type": "code",
   "execution_count": 15,
   "metadata": {},
   "outputs": [
    {
     "data": {
      "text/html": [
       "<div>\n",
       "<style scoped>\n",
       "    .dataframe tbody tr th:only-of-type {\n",
       "        vertical-align: middle;\n",
       "    }\n",
       "\n",
       "    .dataframe tbody tr th {\n",
       "        vertical-align: top;\n",
       "    }\n",
       "\n",
       "    .dataframe thead th {\n",
       "        text-align: right;\n",
       "    }\n",
       "</style>\n",
       "<table border=\"1\" class=\"dataframe\">\n",
       "  <thead>\n",
       "    <tr style=\"text-align: right;\">\n",
       "      <th></th>\n",
       "      <th>lead_id</th>\n",
       "      <th>low_qualified</th>\n",
       "      <th>customer_name</th>\n",
       "      <th>leaded_times</th>\n",
       "    </tr>\n",
       "  </thead>\n",
       "  <tbody>\n",
       "    <tr>\n",
       "      <th>45680</th>\n",
       "      <td>69334</td>\n",
       "      <td>1</td>\n",
       "      <td>Test</td>\n",
       "      <td>337</td>\n",
       "    </tr>\n",
       "    <tr>\n",
       "      <th>51212</th>\n",
       "      <td>75772</td>\n",
       "      <td>1</td>\n",
       "      <td>Testttttttt</td>\n",
       "      <td>103</td>\n",
       "    </tr>\n",
       "    <tr>\n",
       "      <th>13701</th>\n",
       "      <td>31069</td>\n",
       "      <td>1</td>\n",
       "      <td>Sammar Hosny</td>\n",
       "      <td>57</td>\n",
       "    </tr>\n",
       "    <tr>\n",
       "      <th>35146</th>\n",
       "      <td>57328</td>\n",
       "      <td>1</td>\n",
       "      <td>محمود عواد شلية العلاطي الجهني</td>\n",
       "      <td>46</td>\n",
       "    </tr>\n",
       "    <tr>\n",
       "      <th>95</th>\n",
       "      <td>1116</td>\n",
       "      <td>0</td>\n",
       "      <td>Germeen Ibrahim</td>\n",
       "      <td>45</td>\n",
       "    </tr>\n",
       "    <tr>\n",
       "      <th>...</th>\n",
       "      <td>...</td>\n",
       "      <td>...</td>\n",
       "      <td>...</td>\n",
       "      <td>...</td>\n",
       "    </tr>\n",
       "    <tr>\n",
       "      <th>25920</th>\n",
       "      <td>46815</td>\n",
       "      <td>0</td>\n",
       "      <td>Yassmin Abas</td>\n",
       "      <td>1</td>\n",
       "    </tr>\n",
       "    <tr>\n",
       "      <th>25921</th>\n",
       "      <td>46816</td>\n",
       "      <td>0</td>\n",
       "      <td>Nada hafez</td>\n",
       "      <td>1</td>\n",
       "    </tr>\n",
       "    <tr>\n",
       "      <th>25922</th>\n",
       "      <td>46817</td>\n",
       "      <td>0</td>\n",
       "      <td>Ashraf Elgazzar</td>\n",
       "      <td>1</td>\n",
       "    </tr>\n",
       "    <tr>\n",
       "      <th>25923</th>\n",
       "      <td>46818</td>\n",
       "      <td>0</td>\n",
       "      <td>عبدالحميد السيد</td>\n",
       "      <td>1</td>\n",
       "    </tr>\n",
       "    <tr>\n",
       "      <th>72293</th>\n",
       "      <td>101032</td>\n",
       "      <td>0</td>\n",
       "      <td>Raghda Mohamed</td>\n",
       "      <td>1</td>\n",
       "    </tr>\n",
       "  </tbody>\n",
       "</table>\n",
       "<p>72294 rows × 4 columns</p>\n",
       "</div>"
      ],
      "text/plain": [
       "       lead_id low_qualified                   customer_name  leaded_times\n",
       "45680    69334             1                            Test           337\n",
       "51212    75772             1                     Testttttttt           103\n",
       "13701    31069             1                    Sammar Hosny            57\n",
       "35146    57328             1  محمود عواد شلية العلاطي الجهني            46\n",
       "95        1116             0                 Germeen Ibrahim            45\n",
       "...        ...           ...                             ...           ...\n",
       "25920    46815             0                    Yassmin Abas             1\n",
       "25921    46816             0                      Nada hafez             1\n",
       "25922    46817             0                 Ashraf Elgazzar             1\n",
       "25923    46818             0                 عبدالحميد السيد             1\n",
       "72293   101032             0                  Raghda Mohamed             1\n",
       "\n",
       "[72294 rows x 4 columns]"
      ]
     },
     "execution_count": 15,
     "metadata": {},
     "output_type": "execute_result"
    }
   ],
   "source": [
    "df_lead_id = df.groupby(['lead_id','low_qualified','customer_name']).size().to_frame('leaded_times').reset_index()\n",
    "df_lead_id.sort_values(by='leaded_times',ascending=False)"
   ]
  },
  {
   "cell_type": "markdown",
   "metadata": {},
   "source": [
    "- after review customer name of the most customers leaded times (Test, Testtttt) -> we need to check them carefully"
   ]
  },
  {
   "cell_type": "code",
   "execution_count": 46,
   "metadata": {},
   "outputs": [
    {
     "data": {
      "text/html": [
       "<div>\n",
       "<style scoped>\n",
       "    .dataframe tbody tr th:only-of-type {\n",
       "        vertical-align: middle;\n",
       "    }\n",
       "\n",
       "    .dataframe tbody tr th {\n",
       "        vertical-align: top;\n",
       "    }\n",
       "\n",
       "    .dataframe thead th {\n",
       "        text-align: right;\n",
       "    }\n",
       "</style>\n",
       "<table border=\"1\" class=\"dataframe\">\n",
       "  <thead>\n",
       "    <tr style=\"text-align: right;\">\n",
       "      <th></th>\n",
       "      <th>lead_id</th>\n",
       "      <th>customer_name</th>\n",
       "      <th>lead_mobile_network</th>\n",
       "      <th>message</th>\n",
       "      <th>lead_time</th>\n",
       "      <th>method_of_contact</th>\n",
       "      <th>ad_group</th>\n",
       "      <th>lead_source</th>\n",
       "      <th>campaign</th>\n",
       "      <th>location</th>\n",
       "      <th>low_qualified</th>\n",
       "    </tr>\n",
       "  </thead>\n",
       "  <tbody>\n",
       "    <tr>\n",
       "      <th>58367</th>\n",
       "      <td>69334</td>\n",
       "      <td>Test</td>\n",
       "      <td>Etisalat</td>\n",
       "      <td>message:</td>\n",
       "      <td>2022-01-31 09:47:12.235759</td>\n",
       "      <td>website</td>\n",
       "      <td>none</td>\n",
       "      <td>website</td>\n",
       "      <td>none</td>\n",
       "      <td>{\"propertyid\"=&gt;10677}</td>\n",
       "      <td>1</td>\n",
       "    </tr>\n",
       "    <tr>\n",
       "      <th>58368</th>\n",
       "      <td>69334</td>\n",
       "      <td>Test</td>\n",
       "      <td>Etisalat</td>\n",
       "      <td>message:</td>\n",
       "      <td>2022-01-31 10:00:09.765755</td>\n",
       "      <td>website</td>\n",
       "      <td>none</td>\n",
       "      <td>website</td>\n",
       "      <td>none</td>\n",
       "      <td>{\"propertyid\"=&gt;10693}</td>\n",
       "      <td>1</td>\n",
       "    </tr>\n",
       "    <tr>\n",
       "      <th>58369</th>\n",
       "      <td>69334</td>\n",
       "      <td>Test</td>\n",
       "      <td>Etisalat</td>\n",
       "      <td>message:</td>\n",
       "      <td>2022-01-31 10:05:56.809316</td>\n",
       "      <td>website</td>\n",
       "      <td>none</td>\n",
       "      <td>website</td>\n",
       "      <td>none</td>\n",
       "      <td>{\"propertyid\"=&gt;3591}</td>\n",
       "      <td>1</td>\n",
       "    </tr>\n",
       "    <tr>\n",
       "      <th>58370</th>\n",
       "      <td>69334</td>\n",
       "      <td>Test</td>\n",
       "      <td>Etisalat</td>\n",
       "      <td>message:</td>\n",
       "      <td>2022-01-31 10:14:59.302618</td>\n",
       "      <td>website</td>\n",
       "      <td>none</td>\n",
       "      <td>website</td>\n",
       "      <td>none</td>\n",
       "      <td>{\"propertyid\"=&gt;4379}</td>\n",
       "      <td>1</td>\n",
       "    </tr>\n",
       "    <tr>\n",
       "      <th>58371</th>\n",
       "      <td>69334</td>\n",
       "      <td>Test</td>\n",
       "      <td>Etisalat</td>\n",
       "      <td>message:</td>\n",
       "      <td>2022-01-31 10:47:00.023432</td>\n",
       "      <td>website</td>\n",
       "      <td>none</td>\n",
       "      <td>website</td>\n",
       "      <td>none</td>\n",
       "      <td>{\"propertyid\"=&gt;10545}</td>\n",
       "      <td>1</td>\n",
       "    </tr>\n",
       "    <tr>\n",
       "      <th>...</th>\n",
       "      <td>...</td>\n",
       "      <td>...</td>\n",
       "      <td>...</td>\n",
       "      <td>...</td>\n",
       "      <td>...</td>\n",
       "      <td>...</td>\n",
       "      <td>...</td>\n",
       "      <td>...</td>\n",
       "      <td>...</td>\n",
       "      <td>...</td>\n",
       "      <td>...</td>\n",
       "    </tr>\n",
       "    <tr>\n",
       "      <th>58699</th>\n",
       "      <td>69334</td>\n",
       "      <td>Test</td>\n",
       "      <td>Etisalat</td>\n",
       "      <td>message:</td>\n",
       "      <td>2022-05-26 12:14:58.184220</td>\n",
       "      <td>organic form</td>\n",
       "      <td>none</td>\n",
       "      <td>organic form</td>\n",
       "      <td>none</td>\n",
       "      <td>badya palm hills</td>\n",
       "      <td>1</td>\n",
       "    </tr>\n",
       "    <tr>\n",
       "      <th>58700</th>\n",
       "      <td>69334</td>\n",
       "      <td>Test</td>\n",
       "      <td>Etisalat</td>\n",
       "      <td>message:</td>\n",
       "      <td>2022-05-26 12:16:37.614666</td>\n",
       "      <td>website</td>\n",
       "      <td>none</td>\n",
       "      <td>website</td>\n",
       "      <td>none</td>\n",
       "      <td>mountain view - icity - october</td>\n",
       "      <td>1</td>\n",
       "    </tr>\n",
       "    <tr>\n",
       "      <th>58701</th>\n",
       "      <td>69334</td>\n",
       "      <td>Test</td>\n",
       "      <td>Etisalat</td>\n",
       "      <td>message:</td>\n",
       "      <td>2022-06-05 13:40:06.610580</td>\n",
       "      <td>website</td>\n",
       "      <td>none</td>\n",
       "      <td>website</td>\n",
       "      <td>none</td>\n",
       "      <td>mountain view - icity - october</td>\n",
       "      <td>1</td>\n",
       "    </tr>\n",
       "    <tr>\n",
       "      <th>58702</th>\n",
       "      <td>69334</td>\n",
       "      <td>Test</td>\n",
       "      <td>Etisalat</td>\n",
       "      <td>message:</td>\n",
       "      <td>2022-06-05 15:51:19.633910</td>\n",
       "      <td>website</td>\n",
       "      <td>none</td>\n",
       "      <td>website</td>\n",
       "      <td>none</td>\n",
       "      <td>mountain view - icity - october</td>\n",
       "      <td>1</td>\n",
       "    </tr>\n",
       "    <tr>\n",
       "      <th>58703</th>\n",
       "      <td>69334</td>\n",
       "      <td>Test</td>\n",
       "      <td>Etisalat</td>\n",
       "      <td>message:</td>\n",
       "      <td>2022-06-05 15:53:54.496644</td>\n",
       "      <td>organic form</td>\n",
       "      <td>none</td>\n",
       "      <td>organic form</td>\n",
       "      <td>none</td>\n",
       "      <td>badya palm hills</td>\n",
       "      <td>1</td>\n",
       "    </tr>\n",
       "  </tbody>\n",
       "</table>\n",
       "<p>337 rows × 11 columns</p>\n",
       "</div>"
      ],
      "text/plain": [
       "       lead_id customer_name lead_mobile_network    message  \\\n",
       "58367    69334          Test            Etisalat  message:    \n",
       "58368    69334          Test            Etisalat  message:    \n",
       "58369    69334          Test            Etisalat  message:    \n",
       "58370    69334          Test            Etisalat  message:    \n",
       "58371    69334          Test            Etisalat  message:    \n",
       "...        ...           ...                 ...        ...   \n",
       "58699    69334          Test            Etisalat  message:    \n",
       "58700    69334          Test            Etisalat  message:    \n",
       "58701    69334          Test            Etisalat  message:    \n",
       "58702    69334          Test            Etisalat  message:    \n",
       "58703    69334          Test            Etisalat  message:    \n",
       "\n",
       "                        lead_time method_of_contact ad_group   lead_source  \\\n",
       "58367  2022-01-31 09:47:12.235759           website     none       website   \n",
       "58368  2022-01-31 10:00:09.765755           website     none       website   \n",
       "58369  2022-01-31 10:05:56.809316           website     none       website   \n",
       "58370  2022-01-31 10:14:59.302618           website     none       website   \n",
       "58371  2022-01-31 10:47:00.023432           website     none       website   \n",
       "...                           ...               ...      ...           ...   \n",
       "58699  2022-05-26 12:14:58.184220      organic form     none  organic form   \n",
       "58700  2022-05-26 12:16:37.614666           website     none       website   \n",
       "58701  2022-06-05 13:40:06.610580           website     none       website   \n",
       "58702  2022-06-05 15:51:19.633910           website     none       website   \n",
       "58703  2022-06-05 15:53:54.496644      organic form     none  organic form   \n",
       "\n",
       "      campaign                         location low_qualified  \n",
       "58367     none            {\"propertyid\"=>10677}             1  \n",
       "58368     none            {\"propertyid\"=>10693}             1  \n",
       "58369     none             {\"propertyid\"=>3591}             1  \n",
       "58370     none             {\"propertyid\"=>4379}             1  \n",
       "58371     none            {\"propertyid\"=>10545}             1  \n",
       "...        ...                              ...           ...  \n",
       "58699     none                 badya palm hills             1  \n",
       "58700     none  mountain view - icity - october             1  \n",
       "58701     none  mountain view - icity - october             1  \n",
       "58702     none  mountain view - icity - october             1  \n",
       "58703     none                 badya palm hills             1  \n",
       "\n",
       "[337 rows x 11 columns]"
      ]
     },
     "execution_count": 46,
     "metadata": {},
     "output_type": "execute_result"
    }
   ],
   "source": [
    "df.loc[df['lead_id']==69334]"
   ]
  },
  {
   "cell_type": "code",
   "execution_count": 47,
   "metadata": {},
   "outputs": [
    {
     "data": {
      "text/html": [
       "<div>\n",
       "<style scoped>\n",
       "    .dataframe tbody tr th:only-of-type {\n",
       "        vertical-align: middle;\n",
       "    }\n",
       "\n",
       "    .dataframe tbody tr th {\n",
       "        vertical-align: top;\n",
       "    }\n",
       "\n",
       "    .dataframe thead th {\n",
       "        text-align: right;\n",
       "    }\n",
       "</style>\n",
       "<table border=\"1\" class=\"dataframe\">\n",
       "  <thead>\n",
       "    <tr style=\"text-align: right;\">\n",
       "      <th></th>\n",
       "      <th>lead_id</th>\n",
       "      <th>customer_name</th>\n",
       "      <th>lead_mobile_network</th>\n",
       "      <th>message</th>\n",
       "      <th>lead_time</th>\n",
       "      <th>method_of_contact</th>\n",
       "      <th>ad_group</th>\n",
       "      <th>lead_source</th>\n",
       "      <th>campaign</th>\n",
       "      <th>location</th>\n",
       "      <th>low_qualified</th>\n",
       "    </tr>\n",
       "  </thead>\n",
       "  <tbody>\n",
       "    <tr>\n",
       "      <th>65508</th>\n",
       "      <td>75772</td>\n",
       "      <td>Testttttttt</td>\n",
       "      <td>Vodafone</td>\n",
       "      <td>message:</td>\n",
       "      <td>2022-02-28 12:14:42.726191</td>\n",
       "      <td>semrush.com</td>\n",
       "      <td>none</td>\n",
       "      <td>semrush.com</td>\n",
       "      <td>(none)</td>\n",
       "      <td>zia business complex</td>\n",
       "      <td>1</td>\n",
       "    </tr>\n",
       "    <tr>\n",
       "      <th>65509</th>\n",
       "      <td>75772</td>\n",
       "      <td>Testttttttt</td>\n",
       "      <td>Vodafone</td>\n",
       "      <td>message:</td>\n",
       "      <td>2022-02-28 12:15:50.438320</td>\n",
       "      <td>semrush.com</td>\n",
       "      <td>none</td>\n",
       "      <td>semrush.com</td>\n",
       "      <td>(none)</td>\n",
       "      <td>zia business complex</td>\n",
       "      <td>1</td>\n",
       "    </tr>\n",
       "    <tr>\n",
       "      <th>65510</th>\n",
       "      <td>75772</td>\n",
       "      <td>Testttttttt</td>\n",
       "      <td>Vodafone</td>\n",
       "      <td>message:</td>\n",
       "      <td>2022-02-28 12:16:58.867271</td>\n",
       "      <td>semrush.com</td>\n",
       "      <td>none</td>\n",
       "      <td>semrush.com</td>\n",
       "      <td>(none)</td>\n",
       "      <td>zia business complex</td>\n",
       "      <td>1</td>\n",
       "    </tr>\n",
       "    <tr>\n",
       "      <th>65511</th>\n",
       "      <td>75772</td>\n",
       "      <td>Testttttttt</td>\n",
       "      <td>Vodafone</td>\n",
       "      <td>message:</td>\n",
       "      <td>2022-02-28 12:17:37.150785</td>\n",
       "      <td>semrush.com</td>\n",
       "      <td>none</td>\n",
       "      <td>semrush.com</td>\n",
       "      <td>(none)</td>\n",
       "      <td>zia business complex</td>\n",
       "      <td>1</td>\n",
       "    </tr>\n",
       "    <tr>\n",
       "      <th>65512</th>\n",
       "      <td>75772</td>\n",
       "      <td>Testttttttt</td>\n",
       "      <td>Vodafone</td>\n",
       "      <td>message:</td>\n",
       "      <td>2022-02-28 12:20:03.676235</td>\n",
       "      <td>semrush.com</td>\n",
       "      <td>none</td>\n",
       "      <td>semrush.com</td>\n",
       "      <td>(none)</td>\n",
       "      <td>zia business complex</td>\n",
       "      <td>1</td>\n",
       "    </tr>\n",
       "    <tr>\n",
       "      <th>...</th>\n",
       "      <td>...</td>\n",
       "      <td>...</td>\n",
       "      <td>...</td>\n",
       "      <td>...</td>\n",
       "      <td>...</td>\n",
       "      <td>...</td>\n",
       "      <td>...</td>\n",
       "      <td>...</td>\n",
       "      <td>...</td>\n",
       "      <td>...</td>\n",
       "      <td>...</td>\n",
       "    </tr>\n",
       "    <tr>\n",
       "      <th>65606</th>\n",
       "      <td>75772</td>\n",
       "      <td>Testttttttt</td>\n",
       "      <td>Vodafone</td>\n",
       "      <td>message:</td>\n",
       "      <td>2022-05-26 08:25:37.948805</td>\n",
       "      <td>website</td>\n",
       "      <td>none</td>\n",
       "      <td>website</td>\n",
       "      <td>none</td>\n",
       "      <td>mountain view - icity - october</td>\n",
       "      <td>1</td>\n",
       "    </tr>\n",
       "    <tr>\n",
       "      <th>65607</th>\n",
       "      <td>75772</td>\n",
       "      <td>Testttttttt</td>\n",
       "      <td>Vodafone</td>\n",
       "      <td>message:</td>\n",
       "      <td>2022-05-26 08:25:49.394768</td>\n",
       "      <td>organic form</td>\n",
       "      <td>none</td>\n",
       "      <td>organic form</td>\n",
       "      <td>none</td>\n",
       "      <td>mountain view - icity - october</td>\n",
       "      <td>1</td>\n",
       "    </tr>\n",
       "    <tr>\n",
       "      <th>65608</th>\n",
       "      <td>75772</td>\n",
       "      <td>Testttttttt</td>\n",
       "      <td>Vodafone</td>\n",
       "      <td>message:</td>\n",
       "      <td>2022-05-26 12:20:16.729310</td>\n",
       "      <td>website</td>\n",
       "      <td>none</td>\n",
       "      <td>website</td>\n",
       "      <td>none</td>\n",
       "      <td>mountain view - icity - october</td>\n",
       "      <td>1</td>\n",
       "    </tr>\n",
       "    <tr>\n",
       "      <th>65609</th>\n",
       "      <td>75772</td>\n",
       "      <td>Testttttttt</td>\n",
       "      <td>Vodafone</td>\n",
       "      <td>message:</td>\n",
       "      <td>2022-05-26 12:21:43.056968</td>\n",
       "      <td>website</td>\n",
       "      <td>none</td>\n",
       "      <td>website</td>\n",
       "      <td>none</td>\n",
       "      <td>mountain view - icity - october</td>\n",
       "      <td>1</td>\n",
       "    </tr>\n",
       "    <tr>\n",
       "      <th>65610</th>\n",
       "      <td>75772</td>\n",
       "      <td>Testttttttt</td>\n",
       "      <td>Vodafone</td>\n",
       "      <td>message:</td>\n",
       "      <td>2022-05-26 12:21:54.716862</td>\n",
       "      <td>organic form</td>\n",
       "      <td>none</td>\n",
       "      <td>organic form</td>\n",
       "      <td>none</td>\n",
       "      <td>mountain view - icity - october</td>\n",
       "      <td>1</td>\n",
       "    </tr>\n",
       "  </tbody>\n",
       "</table>\n",
       "<p>103 rows × 11 columns</p>\n",
       "</div>"
      ],
      "text/plain": [
       "       lead_id customer_name lead_mobile_network    message  \\\n",
       "65508    75772   Testttttttt            Vodafone  message:    \n",
       "65509    75772   Testttttttt            Vodafone  message:    \n",
       "65510    75772   Testttttttt            Vodafone  message:    \n",
       "65511    75772   Testttttttt            Vodafone  message:    \n",
       "65512    75772   Testttttttt            Vodafone  message:    \n",
       "...        ...           ...                 ...        ...   \n",
       "65606    75772   Testttttttt            Vodafone  message:    \n",
       "65607    75772   Testttttttt            Vodafone  message:    \n",
       "65608    75772   Testttttttt            Vodafone  message:    \n",
       "65609    75772   Testttttttt            Vodafone  message:    \n",
       "65610    75772   Testttttttt            Vodafone  message:    \n",
       "\n",
       "                        lead_time method_of_contact ad_group   lead_source  \\\n",
       "65508  2022-02-28 12:14:42.726191       semrush.com     none   semrush.com   \n",
       "65509  2022-02-28 12:15:50.438320       semrush.com     none   semrush.com   \n",
       "65510  2022-02-28 12:16:58.867271       semrush.com     none   semrush.com   \n",
       "65511  2022-02-28 12:17:37.150785       semrush.com     none   semrush.com   \n",
       "65512  2022-02-28 12:20:03.676235       semrush.com     none   semrush.com   \n",
       "...                           ...               ...      ...           ...   \n",
       "65606  2022-05-26 08:25:37.948805           website     none       website   \n",
       "65607  2022-05-26 08:25:49.394768      organic form     none  organic form   \n",
       "65608  2022-05-26 12:20:16.729310           website     none       website   \n",
       "65609  2022-05-26 12:21:43.056968           website     none       website   \n",
       "65610  2022-05-26 12:21:54.716862      organic form     none  organic form   \n",
       "\n",
       "      campaign                         location low_qualified  \n",
       "65508   (none)             zia business complex             1  \n",
       "65509   (none)             zia business complex             1  \n",
       "65510   (none)             zia business complex             1  \n",
       "65511   (none)             zia business complex             1  \n",
       "65512   (none)             zia business complex             1  \n",
       "...        ...                              ...           ...  \n",
       "65606     none  mountain view - icity - october             1  \n",
       "65607     none  mountain view - icity - october             1  \n",
       "65608     none  mountain view - icity - october             1  \n",
       "65609     none  mountain view - icity - october             1  \n",
       "65610     none  mountain view - icity - october             1  \n",
       "\n",
       "[103 rows x 11 columns]"
      ]
     },
     "execution_count": 47,
     "metadata": {},
     "output_type": "execute_result"
    }
   ],
   "source": [
    "df.loc[df['lead_id']==75772]"
   ]
  },
  {
   "cell_type": "markdown",
   "metadata": {},
   "source": [
    "- I think it's a fake data "
   ]
  },
  {
   "cell_type": "code",
   "execution_count": 52,
   "metadata": {},
   "outputs": [
    {
     "data": {
      "text/plain": [
       "array(['1'], dtype=object)"
      ]
     },
     "execution_count": 52,
     "metadata": {},
     "output_type": "execute_result"
    }
   ],
   "source": [
    "df_lead_id[df_lead_id['leaded_times'] == 57].low_qualified.unique()"
   ]
  },
  {
   "cell_type": "markdown",
   "metadata": {},
   "source": [
    "- we have two customers leaded more than 45 time and they are high qualified\n",
    "- while we need to focus more on  group under 45 and why they are low qualified"
   ]
  },
  {
   "cell_type": "code",
   "execution_count": 53,
   "metadata": {},
   "outputs": [
    {
     "data": {
      "text/plain": [
       "0    9447\n",
       "1    1967\n",
       "Name: low_qualified, dtype: int64"
      ]
     },
     "execution_count": 53,
     "metadata": {},
     "output_type": "execute_result"
    }
   ],
   "source": [
    "df_lead_less_45 = df_lead_id[df_lead_id.leaded_times <= 45]\n",
    "df_lead_less_45_more_2 = df_lead_less_45[df_lead_less_45.leaded_times>=2]\n",
    "df_lead_less_45_more_2.low_qualified.value_counts()\n",
    "# sns.barplot(x='leaded_times', y='low_qualified', data=df_lead_less_45)"
   ]
  },
  {
   "cell_type": "markdown",
   "metadata": {},
   "source": [
    "#### The most are low qualified \n",
    "#### So I think reaching customer more than once is not a measure of high qualifications in range 2:45 , but in range more than 45 it works (need to go more deep)"
   ]
  },
  {
   "cell_type": "code",
   "execution_count": 54,
   "metadata": {},
   "outputs": [
    {
     "data": {
      "text/plain": [
       "Index(['lead_id', 'low_qualified', 'customer_name', 'leaded_times'], dtype='object')"
      ]
     },
     "execution_count": 54,
     "metadata": {},
     "output_type": "execute_result"
    }
   ],
   "source": [
    "df_lead_id.columns"
   ]
  },
  {
   "cell_type": "markdown",
   "metadata": {},
   "source": [
    "- There are customers which are leaded from 2 times til 57 and some lead only one time"
   ]
  },
  {
   "cell_type": "code",
   "execution_count": 62,
   "metadata": {},
   "outputs": [
    {
     "data": {
      "text/plain": [
       "array([  1,   2,   3,   5,   4,  45,   7,  36,   9,   8,   6,  10,  11,\n",
       "        14,  13,  12,  27,  31,  33,  57,  21,  15,  22,  17,  25,  18,\n",
       "        29,  46,  16,  20,  44, 337, 103,  37], dtype=int64)"
      ]
     },
     "execution_count": 62,
     "metadata": {},
     "output_type": "execute_result"
    }
   ],
   "source": [
    "df_lead_id.leaded_times.unique()"
   ]
  },
  {
   "cell_type": "markdown",
   "metadata": {},
   "source": [
    "# What about adding (Leaded_times) as a new feature\n",
    "- number of leaded times "
   ]
  },
  {
   "cell_type": "code",
   "execution_count": 16,
   "metadata": {},
   "outputs": [
    {
     "data": {
      "text/plain": [
       "Index(['lead_id', 'low_qualified', 'customer_name', 'leaded_times'], dtype='object')"
      ]
     },
     "execution_count": 16,
     "metadata": {},
     "output_type": "execute_result"
    }
   ],
   "source": [
    "df_lead_id.columns"
   ]
  },
  {
   "cell_type": "code",
   "execution_count": 65,
   "metadata": {},
   "outputs": [
    {
     "data": {
      "text/html": [
       "<div>\n",
       "<style scoped>\n",
       "    .dataframe tbody tr th:only-of-type {\n",
       "        vertical-align: middle;\n",
       "    }\n",
       "\n",
       "    .dataframe tbody tr th {\n",
       "        vertical-align: top;\n",
       "    }\n",
       "\n",
       "    .dataframe thead th {\n",
       "        text-align: right;\n",
       "    }\n",
       "</style>\n",
       "<table border=\"1\" class=\"dataframe\">\n",
       "  <thead>\n",
       "    <tr style=\"text-align: right;\">\n",
       "      <th></th>\n",
       "      <th>lead_id</th>\n",
       "      <th>leaded_times</th>\n",
       "    </tr>\n",
       "  </thead>\n",
       "  <tbody>\n",
       "    <tr>\n",
       "      <th>45680</th>\n",
       "      <td>69334</td>\n",
       "      <td>337</td>\n",
       "    </tr>\n",
       "    <tr>\n",
       "      <th>51212</th>\n",
       "      <td>75772</td>\n",
       "      <td>103</td>\n",
       "    </tr>\n",
       "    <tr>\n",
       "      <th>13701</th>\n",
       "      <td>31069</td>\n",
       "      <td>57</td>\n",
       "    </tr>\n",
       "    <tr>\n",
       "      <th>35146</th>\n",
       "      <td>57328</td>\n",
       "      <td>46</td>\n",
       "    </tr>\n",
       "    <tr>\n",
       "      <th>95</th>\n",
       "      <td>1116</td>\n",
       "      <td>45</td>\n",
       "    </tr>\n",
       "    <tr>\n",
       "      <th>...</th>\n",
       "      <td>...</td>\n",
       "      <td>...</td>\n",
       "    </tr>\n",
       "    <tr>\n",
       "      <th>25920</th>\n",
       "      <td>46815</td>\n",
       "      <td>1</td>\n",
       "    </tr>\n",
       "    <tr>\n",
       "      <th>25921</th>\n",
       "      <td>46816</td>\n",
       "      <td>1</td>\n",
       "    </tr>\n",
       "    <tr>\n",
       "      <th>25922</th>\n",
       "      <td>46817</td>\n",
       "      <td>1</td>\n",
       "    </tr>\n",
       "    <tr>\n",
       "      <th>25923</th>\n",
       "      <td>46818</td>\n",
       "      <td>1</td>\n",
       "    </tr>\n",
       "    <tr>\n",
       "      <th>72293</th>\n",
       "      <td>101032</td>\n",
       "      <td>1</td>\n",
       "    </tr>\n",
       "  </tbody>\n",
       "</table>\n",
       "<p>72294 rows × 2 columns</p>\n",
       "</div>"
      ],
      "text/plain": [
       "       lead_id  leaded_times\n",
       "45680    69334           337\n",
       "51212    75772           103\n",
       "13701    31069            57\n",
       "35146    57328            46\n",
       "95        1116            45\n",
       "...        ...           ...\n",
       "25920    46815             1\n",
       "25921    46816             1\n",
       "25922    46817             1\n",
       "25923    46818             1\n",
       "72293   101032             1\n",
       "\n",
       "[72294 rows x 2 columns]"
      ]
     },
     "execution_count": 65,
     "metadata": {},
     "output_type": "execute_result"
    }
   ],
   "source": [
    "#ToDO\n",
    "df_lead_id[['lead_id','leaded_times']].sort_values(by='leaded_times',ascending=False)"
   ]
  },
  {
   "cell_type": "code",
   "execution_count": 20,
   "metadata": {},
   "outputs": [
    {
     "data": {
      "text/html": [
       "<div>\n",
       "<style scoped>\n",
       "    .dataframe tbody tr th:only-of-type {\n",
       "        vertical-align: middle;\n",
       "    }\n",
       "\n",
       "    .dataframe tbody tr th {\n",
       "        vertical-align: top;\n",
       "    }\n",
       "\n",
       "    .dataframe thead th {\n",
       "        text-align: right;\n",
       "    }\n",
       "</style>\n",
       "<table border=\"1\" class=\"dataframe\">\n",
       "  <thead>\n",
       "    <tr style=\"text-align: right;\">\n",
       "      <th></th>\n",
       "      <th>lead_id</th>\n",
       "      <th>leaded_times</th>\n",
       "    </tr>\n",
       "  </thead>\n",
       "  <tbody>\n",
       "    <tr>\n",
       "      <th>0</th>\n",
       "      <td>22</td>\n",
       "      <td>1</td>\n",
       "    </tr>\n",
       "    <tr>\n",
       "      <th>1</th>\n",
       "      <td>30</td>\n",
       "      <td>1</td>\n",
       "    </tr>\n",
       "    <tr>\n",
       "      <th>2</th>\n",
       "      <td>42</td>\n",
       "      <td>1</td>\n",
       "    </tr>\n",
       "    <tr>\n",
       "      <th>3</th>\n",
       "      <td>44</td>\n",
       "      <td>1</td>\n",
       "    </tr>\n",
       "    <tr>\n",
       "      <th>4</th>\n",
       "      <td>48</td>\n",
       "      <td>1</td>\n",
       "    </tr>\n",
       "    <tr>\n",
       "      <th>...</th>\n",
       "      <td>...</td>\n",
       "      <td>...</td>\n",
       "    </tr>\n",
       "    <tr>\n",
       "      <th>72289</th>\n",
       "      <td>101024</td>\n",
       "      <td>1</td>\n",
       "    </tr>\n",
       "    <tr>\n",
       "      <th>72290</th>\n",
       "      <td>101025</td>\n",
       "      <td>1</td>\n",
       "    </tr>\n",
       "    <tr>\n",
       "      <th>72291</th>\n",
       "      <td>101026</td>\n",
       "      <td>1</td>\n",
       "    </tr>\n",
       "    <tr>\n",
       "      <th>72292</th>\n",
       "      <td>101027</td>\n",
       "      <td>1</td>\n",
       "    </tr>\n",
       "    <tr>\n",
       "      <th>72293</th>\n",
       "      <td>101032</td>\n",
       "      <td>1</td>\n",
       "    </tr>\n",
       "  </tbody>\n",
       "</table>\n",
       "<p>72294 rows × 2 columns</p>\n",
       "</div>"
      ],
      "text/plain": [
       "       lead_id  leaded_times\n",
       "0           22             1\n",
       "1           30             1\n",
       "2           42             1\n",
       "3           44             1\n",
       "4           48             1\n",
       "...        ...           ...\n",
       "72289   101024             1\n",
       "72290   101025             1\n",
       "72291   101026             1\n",
       "72292   101027             1\n",
       "72293   101032             1\n",
       "\n",
       "[72294 rows x 2 columns]"
      ]
     },
     "execution_count": 20,
     "metadata": {},
     "output_type": "execute_result"
    }
   ],
   "source": [
    "leaded_df = df_lead_id[['lead_id','leaded_times']]\n",
    "leaded_df"
   ]
  },
  {
   "cell_type": "code",
   "execution_count": 21,
   "metadata": {},
   "outputs": [],
   "source": [
    "leaded_dict  = dict(zip(leaded_df.lead_id,leaded_df.leaded_times))"
   ]
  },
  {
   "cell_type": "code",
   "execution_count": 31,
   "metadata": {},
   "outputs": [],
   "source": [
    "df['leaded_times'] = df.lead_id.apply(lambda x:leaded_dict[x])"
   ]
  },
  {
   "cell_type": "code",
   "execution_count": 33,
   "metadata": {},
   "outputs": [
    {
     "data": {
      "text/html": [
       "<div>\n",
       "<style scoped>\n",
       "    .dataframe tbody tr th:only-of-type {\n",
       "        vertical-align: middle;\n",
       "    }\n",
       "\n",
       "    .dataframe tbody tr th {\n",
       "        vertical-align: top;\n",
       "    }\n",
       "\n",
       "    .dataframe thead th {\n",
       "        text-align: right;\n",
       "    }\n",
       "</style>\n",
       "<table border=\"1\" class=\"dataframe\">\n",
       "  <thead>\n",
       "    <tr style=\"text-align: right;\">\n",
       "      <th></th>\n",
       "      <th>lead_id</th>\n",
       "      <th>leaded_times</th>\n",
       "    </tr>\n",
       "  </thead>\n",
       "  <tbody>\n",
       "    <tr>\n",
       "      <th>58474</th>\n",
       "      <td>69334</td>\n",
       "      <td>337</td>\n",
       "    </tr>\n",
       "    <tr>\n",
       "      <th>58490</th>\n",
       "      <td>69334</td>\n",
       "      <td>337</td>\n",
       "    </tr>\n",
       "    <tr>\n",
       "      <th>58454</th>\n",
       "      <td>69334</td>\n",
       "      <td>337</td>\n",
       "    </tr>\n",
       "    <tr>\n",
       "      <th>58603</th>\n",
       "      <td>69334</td>\n",
       "      <td>337</td>\n",
       "    </tr>\n",
       "    <tr>\n",
       "      <th>58469</th>\n",
       "      <td>69334</td>\n",
       "      <td>337</td>\n",
       "    </tr>\n",
       "    <tr>\n",
       "      <th>...</th>\n",
       "      <td>...</td>\n",
       "      <td>...</td>\n",
       "    </tr>\n",
       "    <tr>\n",
       "      <th>35632</th>\n",
       "      <td>49543</td>\n",
       "      <td>1</td>\n",
       "    </tr>\n",
       "    <tr>\n",
       "      <th>35633</th>\n",
       "      <td>49544</td>\n",
       "      <td>1</td>\n",
       "    </tr>\n",
       "    <tr>\n",
       "      <th>35634</th>\n",
       "      <td>49549</td>\n",
       "      <td>1</td>\n",
       "    </tr>\n",
       "    <tr>\n",
       "      <th>35635</th>\n",
       "      <td>49550</td>\n",
       "      <td>1</td>\n",
       "    </tr>\n",
       "    <tr>\n",
       "      <th>91128</th>\n",
       "      <td>101032</td>\n",
       "      <td>1</td>\n",
       "    </tr>\n",
       "  </tbody>\n",
       "</table>\n",
       "<p>91129 rows × 2 columns</p>\n",
       "</div>"
      ],
      "text/plain": [
       "       lead_id  leaded_times\n",
       "58474    69334           337\n",
       "58490    69334           337\n",
       "58454    69334           337\n",
       "58603    69334           337\n",
       "58469    69334           337\n",
       "...        ...           ...\n",
       "35632    49543             1\n",
       "35633    49544             1\n",
       "35634    49549             1\n",
       "35635    49550             1\n",
       "91128   101032             1\n",
       "\n",
       "[91129 rows x 2 columns]"
      ]
     },
     "execution_count": 33,
     "metadata": {},
     "output_type": "execute_result"
    }
   ],
   "source": [
    "df[['lead_id','leaded_times']].sort_values(by='leaded_times',ascending=False)"
   ]
  },
  {
   "cell_type": "markdown",
   "metadata": {},
   "source": [
    "# Missing values"
   ]
  },
  {
   "cell_type": "code",
   "execution_count": 84,
   "metadata": {},
   "outputs": [
    {
     "data": {
      "text/plain": [
       "lead_id                   0\n",
       "customer_name             0\n",
       "lead_mobile_network       1\n",
       "message                2038\n",
       "lead_time                 0\n",
       "method_of_contact         0\n",
       "ad_group                 72\n",
       "lead_source               0\n",
       "campaign                780\n",
       "location                149\n",
       "low_qualified             0\n",
       "dtype: int64"
      ]
     },
     "execution_count": 84,
     "metadata": {},
     "output_type": "execute_result"
    }
   ],
   "source": [
    "df.isna().sum()"
   ]
  },
  {
   "cell_type": "markdown",
   "metadata": {},
   "source": [
    "## ad_group : Include information of target audience used in the campaign"
   ]
  },
  {
   "cell_type": "code",
   "execution_count": 34,
   "metadata": {},
   "outputs": [
    {
     "data": {
      "text/plain": [
       "none                                                                              39835\n",
       "mountain view october - khaleeji lookalike 3%                                       995\n",
       "mountain view october - general audience with investment/real estate interests      697\n",
       "aura apartments - general audience real estate interests                            550\n",
       "the lakes bloomfields - khaleeji lookalike                                          473\n",
       "                                                                                  ...  \n",
       "zed west - new cairo & 6th of october lookalike                                       1\n",
       "creek town - new cairo & 6th of october lookalike                                     1\n",
       "october plaza - general audience with real estate interests                           1\n",
       "telal sokhna - frequent international travelers 25-34 cairo                           1\n",
       "aura apartments - general audience real estate interests - new cairo                  1\n",
       "Name: ad_group, Length: 2480, dtype: int64"
      ]
     },
     "execution_count": 34,
     "metadata": {},
     "output_type": "execute_result"
    }
   ],
   "source": [
    "df.ad_group.value_counts()"
   ]
  },
  {
   "cell_type": "code",
   "execution_count": 31,
   "metadata": {},
   "outputs": [
    {
     "data": {
      "text/plain": [
       "False    91057\n",
       "True        72\n",
       "Name: ad_group, dtype: int64"
      ]
     },
     "execution_count": 31,
     "metadata": {},
     "output_type": "execute_result"
    }
   ],
   "source": [
    "df.ad_group.isna().value_counts()"
   ]
  },
  {
   "cell_type": "code",
   "execution_count": 32,
   "metadata": {},
   "outputs": [
    {
     "data": {
      "text/plain": [
       "2480"
      ]
     },
     "execution_count": 32,
     "metadata": {},
     "output_type": "execute_result"
    }
   ],
   "source": [
    "len(df.ad_group.value_counts()==1)"
   ]
  },
  {
   "cell_type": "code",
   "execution_count": 33,
   "metadata": {},
   "outputs": [
    {
     "data": {
      "text/plain": [
       "2481"
      ]
     },
     "execution_count": 33,
     "metadata": {},
     "output_type": "execute_result"
    }
   ],
   "source": [
    "len(df.ad_group.unique())"
   ]
  },
  {
   "cell_type": "code",
   "execution_count": 87,
   "metadata": {},
   "outputs": [
    {
     "data": {
      "text/plain": [
       "43.71275883637481"
      ]
     },
     "execution_count": 87,
     "metadata": {},
     "output_type": "execute_result"
    }
   ],
   "source": [
    "len(df[df.ad_group=='none'])/len(df) * 100"
   ]
  },
  {
   "cell_type": "markdown",
   "metadata": {},
   "source": [
    "- ad_group feature has the following :\n",
    "   - 72 nan value \n",
    "   - 39835 values of none, which may considered as nan \n",
    "   - 2480 group which contains only one customer\n",
    "   - 2481 different ad_group \n",
    "   - 44% are missing\n",
    "\n",
    "- I will suggest to apply clustering or segmentations \n",
    "- For now this feature will not be important, so I think droping it or didn't consider it with features is a good decision "
   ]
  },
  {
   "cell_type": "code",
   "execution_count": 88,
   "metadata": {},
   "outputs": [],
   "source": [
    "df.drop(['ad_group'],axis=1,inplace=True)"
   ]
  },
  {
   "cell_type": "code",
   "execution_count": 89,
   "metadata": {},
   "outputs": [
    {
     "data": {
      "text/plain": [
       "Index(['lead_id', 'customer_name', 'lead_mobile_network', 'message',\n",
       "       'lead_time', 'method_of_contact', 'lead_source', 'campaign', 'location',\n",
       "       'low_qualified'],\n",
       "      dtype='object')"
      ]
     },
     "execution_count": 89,
     "metadata": {},
     "output_type": "execute_result"
    }
   ],
   "source": [
    "df.columns"
   ]
  },
  {
   "cell_type": "markdown",
   "metadata": {},
   "source": [
    "## campaign : Name of the targeting campaign\n"
   ]
  },
  {
   "cell_type": "markdown",
   "metadata": {},
   "source": [
    "- 780 : missing targeting campaign\n",
    "- 762 : different campaign"
   ]
  },
  {
   "cell_type": "code",
   "execution_count": 90,
   "metadata": {},
   "outputs": [
    {
     "data": {
      "text/plain": [
       "762"
      ]
     },
     "execution_count": 90,
     "metadata": {},
     "output_type": "execute_result"
    }
   ],
   "source": [
    "#check campaign \n",
    "len(df.campaign.unique())"
   ]
  },
  {
   "cell_type": "code",
   "execution_count": 37,
   "metadata": {},
   "outputs": [
    {
     "data": {
      "text/html": [
       "<div>\n",
       "<style scoped>\n",
       "    .dataframe tbody tr th:only-of-type {\n",
       "        vertical-align: middle;\n",
       "    }\n",
       "\n",
       "    .dataframe tbody tr th {\n",
       "        vertical-align: top;\n",
       "    }\n",
       "\n",
       "    .dataframe thead th {\n",
       "        text-align: right;\n",
       "    }\n",
       "</style>\n",
       "<table border=\"1\" class=\"dataframe\">\n",
       "  <thead>\n",
       "    <tr style=\"text-align: right;\">\n",
       "      <th></th>\n",
       "      <th>lead_id</th>\n",
       "      <th>customer_name</th>\n",
       "      <th>lead_mobile_network</th>\n",
       "      <th>message</th>\n",
       "      <th>lead_time</th>\n",
       "      <th>method_of_contact</th>\n",
       "      <th>lead_source</th>\n",
       "      <th>campaign</th>\n",
       "      <th>location</th>\n",
       "      <th>low_qualified</th>\n",
       "    </tr>\n",
       "  </thead>\n",
       "  <tbody>\n",
       "    <tr>\n",
       "      <th>37309</th>\n",
       "      <td>51007</td>\n",
       "      <td>Hazem</td>\n",
       "      <td>Vodafone</td>\n",
       "      <td>Promo Code: 311400116022</td>\n",
       "      <td>2021-09-08 12:18:29.468877</td>\n",
       "      <td>vodafone</td>\n",
       "      <td>vodafone</td>\n",
       "      <td>NaN</td>\n",
       "      <td>new cairo</td>\n",
       "      <td>1</td>\n",
       "    </tr>\n",
       "    <tr>\n",
       "      <th>16618</th>\n",
       "      <td>30704</td>\n",
       "      <td>Shaimaa</td>\n",
       "      <td>Etisalat</td>\n",
       "      <td>We’re supposed to meet at 2 but she’s not answering my calls men 12:30</td>\n",
       "      <td>2021-02-14 12:19:40.395000</td>\n",
       "      <td>phone</td>\n",
       "      <td>phone</td>\n",
       "      <td>NaN</td>\n",
       "      <td>kinda</td>\n",
       "      <td>0</td>\n",
       "    </tr>\n",
       "    <tr>\n",
       "      <th>35360</th>\n",
       "      <td>49306</td>\n",
       "      <td>Mahmoud anwar</td>\n",
       "      <td>Vodafone</td>\n",
       "      <td>Promo Code: 314817017341</td>\n",
       "      <td>2021-08-27 14:17:33.246882</td>\n",
       "      <td>vodafone</td>\n",
       "      <td>vodafone</td>\n",
       "      <td>NaN</td>\n",
       "      <td>north coast</td>\n",
       "      <td>0</td>\n",
       "    </tr>\n",
       "    <tr>\n",
       "      <th>37423</th>\n",
       "      <td>51069</td>\n",
       "      <td>Mohammed El-Feki</td>\n",
       "      <td>Vodafone</td>\n",
       "      <td>Promo Code: 317718400403</td>\n",
       "      <td>2021-09-08 12:25:37.531735</td>\n",
       "      <td>vodafone</td>\n",
       "      <td>vodafone</td>\n",
       "      <td>NaN</td>\n",
       "      <td>el shorouk</td>\n",
       "      <td>0</td>\n",
       "    </tr>\n",
       "    <tr>\n",
       "      <th>63372</th>\n",
       "      <td>73754</td>\n",
       "      <td>Mostafa sayed</td>\n",
       "      <td>Vodafone</td>\n",
       "      <td>karem kman klmo w hoa mardesh</td>\n",
       "      <td>2022-02-18 13:54:32.178976</td>\n",
       "      <td>personal</td>\n",
       "      <td>personal</td>\n",
       "      <td>NaN</td>\n",
       "      <td>none</td>\n",
       "      <td>0</td>\n",
       "    </tr>\n",
       "    <tr>\n",
       "      <th>37605</th>\n",
       "      <td>51164</td>\n",
       "      <td>Yousef Ahmed</td>\n",
       "      <td>Vodafone</td>\n",
       "      <td>Promo Code: 0020</td>\n",
       "      <td>2021-09-08 13:01:51.026370</td>\n",
       "      <td>vodafone</td>\n",
       "      <td>vodafone</td>\n",
       "      <td>NaN</td>\n",
       "      <td>new heliopolis</td>\n",
       "      <td>0</td>\n",
       "    </tr>\n",
       "    <tr>\n",
       "      <th>37733</th>\n",
       "      <td>51282</td>\n",
       "      <td>Mohmed okela</td>\n",
       "      <td>Vodafone</td>\n",
       "      <td>Promo Code: 133150737549</td>\n",
       "      <td>2021-09-08 18:01:47.963383</td>\n",
       "      <td>vodafone</td>\n",
       "      <td>vodafone</td>\n",
       "      <td>NaN</td>\n",
       "      <td>new cairo</td>\n",
       "      <td>1</td>\n",
       "    </tr>\n",
       "    <tr>\n",
       "      <th>37602</th>\n",
       "      <td>51161</td>\n",
       "      <td>Tamer youssef</td>\n",
       "      <td>Vodafone</td>\n",
       "      <td>Promo Code: 310928508226</td>\n",
       "      <td>2021-09-08 12:59:37.436534</td>\n",
       "      <td>vodafone</td>\n",
       "      <td>vodafone</td>\n",
       "      <td>NaN</td>\n",
       "      <td>ain sokhna</td>\n",
       "      <td>0</td>\n",
       "    </tr>\n",
       "    <tr>\n",
       "      <th>37901</th>\n",
       "      <td>51432</td>\n",
       "      <td>Mohmed hany</td>\n",
       "      <td>Vodafone</td>\n",
       "      <td>Promo Code: mohamedhany1449@gmail.com</td>\n",
       "      <td>2021-09-09 20:57:09.751392</td>\n",
       "      <td>vodafone</td>\n",
       "      <td>vodafone</td>\n",
       "      <td>NaN</td>\n",
       "      <td>new cairo</td>\n",
       "      <td>1</td>\n",
       "    </tr>\n",
       "    <tr>\n",
       "      <th>37278</th>\n",
       "      <td>50995</td>\n",
       "      <td>Fatma Ali Hassan</td>\n",
       "      <td>Vodafone</td>\n",
       "      <td>Promo Code: 317558855201</td>\n",
       "      <td>2021-09-08 12:17:11.059669</td>\n",
       "      <td>vodafone</td>\n",
       "      <td>vodafone</td>\n",
       "      <td>NaN</td>\n",
       "      <td>new heliopolis</td>\n",
       "      <td>1</td>\n",
       "    </tr>\n",
       "  </tbody>\n",
       "</table>\n",
       "</div>"
      ],
      "text/plain": [
       "       lead_id     customer_name lead_mobile_network  \\\n",
       "37309    51007             Hazem            Vodafone   \n",
       "16618    30704           Shaimaa            Etisalat   \n",
       "35360    49306     Mahmoud anwar            Vodafone   \n",
       "37423    51069  Mohammed El-Feki            Vodafone   \n",
       "63372    73754    Mostafa sayed             Vodafone   \n",
       "37605    51164     Yousef Ahmed             Vodafone   \n",
       "37733    51282      Mohmed okela            Vodafone   \n",
       "37602    51161     Tamer youssef            Vodafone   \n",
       "37901    51432       Mohmed hany            Vodafone   \n",
       "37278    50995  Fatma Ali Hassan            Vodafone   \n",
       "\n",
       "                                                                      message  \\\n",
       "37309                                                Promo Code: 311400116022   \n",
       "16618  We’re supposed to meet at 2 but she’s not answering my calls men 12:30   \n",
       "35360                                                Promo Code: 314817017341   \n",
       "37423                                                Promo Code: 317718400403   \n",
       "63372                                          karem kman klmo w hoa mardesh    \n",
       "37605                                                        Promo Code: 0020   \n",
       "37733                                                Promo Code: 133150737549   \n",
       "37602                                                Promo Code: 310928508226   \n",
       "37901                                   Promo Code: mohamedhany1449@gmail.com   \n",
       "37278                                                Promo Code: 317558855201   \n",
       "\n",
       "                        lead_time method_of_contact lead_source campaign  \\\n",
       "37309  2021-09-08 12:18:29.468877          vodafone    vodafone      NaN   \n",
       "16618  2021-02-14 12:19:40.395000             phone       phone      NaN   \n",
       "35360  2021-08-27 14:17:33.246882          vodafone    vodafone      NaN   \n",
       "37423  2021-09-08 12:25:37.531735          vodafone    vodafone      NaN   \n",
       "63372  2022-02-18 13:54:32.178976          personal    personal      NaN   \n",
       "37605  2021-09-08 13:01:51.026370          vodafone    vodafone      NaN   \n",
       "37733  2021-09-08 18:01:47.963383          vodafone    vodafone      NaN   \n",
       "37602  2021-09-08 12:59:37.436534          vodafone    vodafone      NaN   \n",
       "37901  2021-09-09 20:57:09.751392          vodafone    vodafone      NaN   \n",
       "37278  2021-09-08 12:17:11.059669          vodafone    vodafone      NaN   \n",
       "\n",
       "             location low_qualified  \n",
       "37309       new cairo             1  \n",
       "16618           kinda             0  \n",
       "35360     north coast             0  \n",
       "37423      el shorouk             0  \n",
       "63372            none             0  \n",
       "37605  new heliopolis             0  \n",
       "37733       new cairo             1  \n",
       "37602      ain sokhna             0  \n",
       "37901       new cairo             1  \n",
       "37278  new heliopolis             1  "
      ]
     },
     "execution_count": 37,
     "metadata": {},
     "output_type": "execute_result"
    }
   ],
   "source": [
    "df[df.campaign.isna()].sample(10)"
   ]
  },
  {
   "cell_type": "markdown",
   "metadata": {},
   "source": [
    "- I couldn't see how to fill missing values, So I will ask domain expert : Is location related to campaign or not ? \n",
    "- But I will not consider it in my features for now"
   ]
  },
  {
   "cell_type": "code",
   "execution_count": 35,
   "metadata": {},
   "outputs": [
    {
     "data": {
      "text/plain": [
       "11859"
      ]
     },
     "execution_count": 35,
     "metadata": {},
     "output_type": "execute_result"
    }
   ],
   "source": [
    "#check how much they are similar\n",
    "len(df[df.campaign == df.location])"
   ]
  },
  {
   "cell_type": "code",
   "execution_count": 46,
   "metadata": {},
   "outputs": [],
   "source": [
    "#fill missing of campaign by location values\n",
    "df.campaign.fillna(df.location, inplace=True)"
   ]
  },
  {
   "cell_type": "code",
   "execution_count": 50,
   "metadata": {},
   "outputs": [
    {
     "data": {
      "text/plain": [
       "0"
      ]
     },
     "execution_count": 50,
     "metadata": {},
     "output_type": "execute_result"
    }
   ],
   "source": [
    "df.campaign.isna().sum()"
   ]
  },
  {
   "cell_type": "markdown",
   "metadata": {},
   "source": [
    "## lead_mobile_network : To differentiate between local and international customers"
   ]
  },
  {
   "cell_type": "code",
   "execution_count": 38,
   "metadata": {},
   "outputs": [
    {
     "data": {
      "text/plain": [
       "array(['Orange', 'Vodafone', 'Etisalat', 'Gulf', 'US_Canda', 'Others',\n",
       "       'Europe', 'WE', '?', nan, 'hykjghk'], dtype=object)"
      ]
     },
     "execution_count": 38,
     "metadata": {},
     "output_type": "execute_result"
    }
   ],
   "source": [
    "#check lead mobile network column\n",
    "df.lead_mobile_network.unique()"
   ]
  },
  {
   "cell_type": "code",
   "execution_count": 39,
   "metadata": {},
   "outputs": [
    {
     "data": {
      "text/html": [
       "<div>\n",
       "<style scoped>\n",
       "    .dataframe tbody tr th:only-of-type {\n",
       "        vertical-align: middle;\n",
       "    }\n",
       "\n",
       "    .dataframe tbody tr th {\n",
       "        vertical-align: top;\n",
       "    }\n",
       "\n",
       "    .dataframe thead th {\n",
       "        text-align: right;\n",
       "    }\n",
       "</style>\n",
       "<table border=\"1\" class=\"dataframe\">\n",
       "  <thead>\n",
       "    <tr style=\"text-align: right;\">\n",
       "      <th></th>\n",
       "      <th>lead_id</th>\n",
       "      <th>customer_name</th>\n",
       "      <th>lead_mobile_network</th>\n",
       "      <th>message</th>\n",
       "      <th>lead_time</th>\n",
       "      <th>method_of_contact</th>\n",
       "      <th>lead_source</th>\n",
       "      <th>campaign</th>\n",
       "      <th>location</th>\n",
       "      <th>low_qualified</th>\n",
       "    </tr>\n",
       "  </thead>\n",
       "  <tbody>\n",
       "    <tr>\n",
       "      <th>73220</th>\n",
       "      <td>83114</td>\n",
       "      <td>naj</td>\n",
       "      <td>NaN</td>\n",
       "      <td>Vodafone</td>\n",
       "      <td>out of service</td>\n",
       "      <td>2022-04-05 18:59:39.015907</td>\n",
       "      <td>none</td>\n",
       "      <td>google</td>\n",
       "      <td>mountain view ras el hekma</td>\n",
       "      <td>0</td>\n",
       "    </tr>\n",
       "  </tbody>\n",
       "</table>\n",
       "</div>"
      ],
      "text/plain": [
       "       lead_id customer_name lead_mobile_network   message       lead_time  \\\n",
       "73220    83114           naj                 NaN  Vodafone  out of service   \n",
       "\n",
       "                method_of_contact lead_source campaign  \\\n",
       "73220  2022-04-05 18:59:39.015907        none   google   \n",
       "\n",
       "                         location low_qualified  \n",
       "73220  mountain view ras el hekma             0  "
      ]
     },
     "execution_count": 39,
     "metadata": {},
     "output_type": "execute_result"
    }
   ],
   "source": [
    "df[df.lead_mobile_network.isna()] "
   ]
  },
  {
   "cell_type": "markdown",
   "metadata": {},
   "source": [
    "Solution"
   ]
  },
  {
   "cell_type": "code",
   "execution_count": 52,
   "metadata": {},
   "outputs": [
    {
     "data": {
      "text/plain": [
       "'Vodafone'"
      ]
     },
     "execution_count": 52,
     "metadata": {},
     "output_type": "execute_result"
    }
   ],
   "source": [
    "#replace Nan with value of message\n",
    "df.iloc[73220, df.columns.get_loc('lead_mobile_network')] = 'Vodafone'\n",
    "df.iloc[73220].lead_mobile_network"
   ]
  },
  {
   "cell_type": "code",
   "execution_count": 53,
   "metadata": {},
   "outputs": [
    {
     "data": {
      "text/html": [
       "<div>\n",
       "<style scoped>\n",
       "    .dataframe tbody tr th:only-of-type {\n",
       "        vertical-align: middle;\n",
       "    }\n",
       "\n",
       "    .dataframe tbody tr th {\n",
       "        vertical-align: top;\n",
       "    }\n",
       "\n",
       "    .dataframe thead th {\n",
       "        text-align: right;\n",
       "    }\n",
       "</style>\n",
       "<table border=\"1\" class=\"dataframe\">\n",
       "  <thead>\n",
       "    <tr style=\"text-align: right;\">\n",
       "      <th></th>\n",
       "      <th>lead_id</th>\n",
       "      <th>customer_name</th>\n",
       "      <th>lead_mobile_network</th>\n",
       "      <th>message</th>\n",
       "      <th>lead_time</th>\n",
       "      <th>method_of_contact</th>\n",
       "      <th>ad_group</th>\n",
       "      <th>lead_source</th>\n",
       "      <th>campaign</th>\n",
       "      <th>location</th>\n",
       "      <th>low_qualified</th>\n",
       "      <th>leaded_times</th>\n",
       "    </tr>\n",
       "  </thead>\n",
       "  <tbody>\n",
       "    <tr>\n",
       "      <th>41169</th>\n",
       "      <td>54265</td>\n",
       "      <td>آلاء خالد</td>\n",
       "      <td>?</td>\n",
       "      <td>Vodafone</td>\n",
       "      <td>ad_id : 23848437135960398 \\nadgroup_id : 23848437135960398 \\nadset_id : 23848437135950398 \\ncampaign_id : 23848381607790398 \\ncreated_time : 2021-10-05T02:20:08+0000 \\nform_id : 222943659701785 \\nFacebook_id : 1291325117965079 \\nleadgen_id : 1291325117965079 \\npage_id : 653106524827671 \\nplatform : fb \\n</td>\n",
       "      <td>2021-10-05 02:20:12.510749</td>\n",
       "      <td>facebook</td>\n",
       "      <td>facebook</td>\n",
       "      <td>facebook</td>\n",
       "      <td>club residences</td>\n",
       "      <td>1</td>\n",
       "      <td>1</td>\n",
       "    </tr>\n",
       "    <tr>\n",
       "      <th>76412</th>\n",
       "      <td>86081</td>\n",
       "      <td>ki</td>\n",
       "      <td>hykjghk</td>\n",
       "      <td>Etisalat</td>\n",
       "      <td>message:</td>\n",
       "      <td>2022-04-18 21:05:13.443722</td>\n",
       "      <td>generic form</td>\n",
       "      <td>google</td>\n",
       "      <td>google</td>\n",
       "      <td>address east</td>\n",
       "      <td>1</td>\n",
       "      <td>1</td>\n",
       "    </tr>\n",
       "  </tbody>\n",
       "</table>\n",
       "</div>"
      ],
      "text/plain": [
       "       lead_id customer_name lead_mobile_network   message  \\\n",
       "41169    54265     آلاء خالد                   ?  Vodafone   \n",
       "76412    86081            ki             hykjghk  Etisalat   \n",
       "\n",
       "                                                                                                                                                                                                                                                                                                               lead_time  \\\n",
       "41169  ad_id : 23848437135960398 \\nadgroup_id : 23848437135960398 \\nadset_id : 23848437135950398 \\ncampaign_id : 23848381607790398 \\ncreated_time : 2021-10-05T02:20:08+0000 \\nform_id : 222943659701785 \\nFacebook_id : 1291325117965079 \\nleadgen_id : 1291325117965079 \\npage_id : 653106524827671 \\nplatform : fb \\n   \n",
       "76412                                                                                                                                                                                                                                                                                                          message:    \n",
       "\n",
       "                method_of_contact      ad_group lead_source  campaign  \\\n",
       "41169  2021-10-05 02:20:12.510749      facebook    facebook  facebook   \n",
       "76412  2022-04-18 21:05:13.443722  generic form      google    google   \n",
       "\n",
       "              location low_qualified  leaded_times  \n",
       "41169  club residences             1             1  \n",
       "76412     address east             1             1  "
      ]
     },
     "execution_count": 53,
     "metadata": {},
     "output_type": "execute_result"
    }
   ],
   "source": [
    "df[(df.lead_mobile_network=='?') | (df.lead_mobile_network == 'hykjghk')]\n",
    "# Todo replace it with value of message"
   ]
  },
  {
   "cell_type": "markdown",
   "metadata": {},
   "source": [
    "Solution"
   ]
  },
  {
   "cell_type": "code",
   "execution_count": 54,
   "metadata": {},
   "outputs": [
    {
     "data": {
      "text/plain": [
       "('Vodafone', 'Etisalat')"
      ]
     },
     "execution_count": 54,
     "metadata": {},
     "output_type": "execute_result"
    }
   ],
   "source": [
    "#replace values of ?, nan , hykjghk with the corrosponding value in message column\n",
    "df.iloc[41169, df.columns.get_loc('lead_mobile_network')] = 'Vodafone'\n",
    "df.iloc[76412, df.columns.get_loc('lead_mobile_network')] = 'Etisalat'\n",
    "df.iloc[41169].lead_mobile_network,df.iloc[76412].lead_mobile_network"
   ]
  },
  {
   "cell_type": "code",
   "execution_count": 55,
   "metadata": {},
   "outputs": [
    {
     "data": {
      "text/plain": [
       "array(['Orange', 'Vodafone', 'Etisalat', 'Gulf', 'US_Canda', 'Others',\n",
       "       'Europe', 'WE'], dtype=object)"
      ]
     },
     "execution_count": 55,
     "metadata": {},
     "output_type": "execute_result"
    }
   ],
   "source": [
    "#check modification \n",
    "df.lead_mobile_network.unique()"
   ]
  },
  {
   "cell_type": "markdown",
   "metadata": {},
   "source": [
    "- I need to check 'others' \n",
    "- After search with Gulf it's a company in Kwait (outside)\n",
    "- So I will categorize customers as inside and outside "
   ]
  },
  {
   "cell_type": "code",
   "execution_count": 56,
   "metadata": {},
   "outputs": [
    {
     "data": {
      "text/plain": [
       "<AxesSubplot:xlabel='lead_mobile_network', ylabel='customer_name'>"
      ]
     },
     "execution_count": 56,
     "metadata": {},
     "output_type": "execute_result"
    },
    {
     "data": {
      "image/png": "[encoded data removed]",
      "text/plain": [
       "<Figure size 432x288 with 1 Axes>"
      ]
     },
     "metadata": {
      "needs_background": "light"
     },
     "output_type": "display_data"
    }
   ],
   "source": [
    "df_lmn = df.groupby('lead_mobile_network')['customer_name'].count().reset_index()\n",
    "\n",
    "sns.barplot(x='lead_mobile_network', y='customer_name', data=df_lmn)"
   ]
  },
  {
   "cell_type": "code",
   "execution_count": 58,
   "metadata": {},
   "outputs": [
    {
     "data": {
      "text/html": [
       "<div>\n",
       "<style scoped>\n",
       "    .dataframe tbody tr th:only-of-type {\n",
       "        vertical-align: middle;\n",
       "    }\n",
       "\n",
       "    .dataframe tbody tr th {\n",
       "        vertical-align: top;\n",
       "    }\n",
       "\n",
       "    .dataframe thead th {\n",
       "        text-align: right;\n",
       "    }\n",
       "</style>\n",
       "<table border=\"1\" class=\"dataframe\">\n",
       "  <thead>\n",
       "    <tr style=\"text-align: right;\">\n",
       "      <th></th>\n",
       "      <th>lead_mobile_network</th>\n",
       "      <th>customer_name</th>\n",
       "    </tr>\n",
       "  </thead>\n",
       "  <tbody>\n",
       "    <tr>\n",
       "      <th>6</th>\n",
       "      <td>Vodafone</td>\n",
       "      <td>39048</td>\n",
       "    </tr>\n",
       "    <tr>\n",
       "      <th>3</th>\n",
       "      <td>Orange</td>\n",
       "      <td>18071</td>\n",
       "    </tr>\n",
       "    <tr>\n",
       "      <th>0</th>\n",
       "      <td>Etisalat</td>\n",
       "      <td>16463</td>\n",
       "    </tr>\n",
       "    <tr>\n",
       "      <th>2</th>\n",
       "      <td>Gulf</td>\n",
       "      <td>12070</td>\n",
       "    </tr>\n",
       "    <tr>\n",
       "      <th>4</th>\n",
       "      <td>Others</td>\n",
       "      <td>2422</td>\n",
       "    </tr>\n",
       "    <tr>\n",
       "      <th>5</th>\n",
       "      <td>US_Canda</td>\n",
       "      <td>1149</td>\n",
       "    </tr>\n",
       "    <tr>\n",
       "      <th>1</th>\n",
       "      <td>Europe</td>\n",
       "      <td>1025</td>\n",
       "    </tr>\n",
       "    <tr>\n",
       "      <th>7</th>\n",
       "      <td>WE</td>\n",
       "      <td>881</td>\n",
       "    </tr>\n",
       "  </tbody>\n",
       "</table>\n",
       "</div>"
      ],
      "text/plain": [
       "  lead_mobile_network  customer_name\n",
       "6            Vodafone          39048\n",
       "3              Orange          18071\n",
       "0            Etisalat          16463\n",
       "2                Gulf          12070\n",
       "4              Others           2422\n",
       "5            US_Canda           1149\n",
       "1              Europe           1025\n",
       "7                  WE            881"
      ]
     },
     "execution_count": 58,
     "metadata": {},
     "output_type": "execute_result"
    }
   ],
   "source": [
    "df_lmn.sort_values(by='customer_name',ascending=False)"
   ]
  },
  {
   "cell_type": "markdown",
   "metadata": {},
   "source": [
    "- vodafone is the most network \n",
    "- I will consider others as outside group, since data has the only 4 networks in Egypt (We,vodafone,etisalt)\n",
    "- I will consider Gulf,others,Us_canda,Europe as outside \n",
    "\n",
    "### Create a new feature for each user as inside / outside"
   ]
  },
  {
   "cell_type": "code",
   "execution_count": 59,
   "metadata": {},
   "outputs": [
    {
     "data": {
      "text/plain": [
       "0        1\n",
       "1        1\n",
       "2        1\n",
       "3        1\n",
       "4        1\n",
       "        ..\n",
       "91124    0\n",
       "91125    1\n",
       "91126    1\n",
       "91127    1\n",
       "91128    1\n",
       "Name: in_out_side, Length: 91129, dtype: int32"
      ]
     },
     "execution_count": 59,
     "metadata": {},
     "output_type": "execute_result"
    }
   ],
   "source": [
    "in_side = ['Etisalat','WE','Vodafone','Orange']\n",
    "# out_side = ['Gulf','Others','US_Canda','Europe']\n",
    "df['in_out_side'] = np.where(df['lead_mobile_network'].isin(in_side) ,1,0)\n",
    "df['in_out_side']"
   ]
  },
  {
   "cell_type": "code",
   "execution_count": 60,
   "metadata": {},
   "outputs": [
    {
     "data": {
      "text/html": [
       "<div>\n",
       "<style scoped>\n",
       "    .dataframe tbody tr th:only-of-type {\n",
       "        vertical-align: middle;\n",
       "    }\n",
       "\n",
       "    .dataframe tbody tr th {\n",
       "        vertical-align: top;\n",
       "    }\n",
       "\n",
       "    .dataframe thead th {\n",
       "        text-align: right;\n",
       "    }\n",
       "</style>\n",
       "<table border=\"1\" class=\"dataframe\">\n",
       "  <thead>\n",
       "    <tr style=\"text-align: right;\">\n",
       "      <th></th>\n",
       "      <th>in_out_side</th>\n",
       "      <th>lead_id</th>\n",
       "    </tr>\n",
       "  </thead>\n",
       "  <tbody>\n",
       "    <tr>\n",
       "      <th>0</th>\n",
       "      <td>0</td>\n",
       "      <td>16666</td>\n",
       "    </tr>\n",
       "    <tr>\n",
       "      <th>1</th>\n",
       "      <td>1</td>\n",
       "      <td>74463</td>\n",
       "    </tr>\n",
       "  </tbody>\n",
       "</table>\n",
       "</div>"
      ],
      "text/plain": [
       "   in_out_side  lead_id\n",
       "0            0    16666\n",
       "1            1    74463"
      ]
     },
     "execution_count": 60,
     "metadata": {},
     "output_type": "execute_result"
    }
   ],
   "source": [
    "df_in_out = df.groupby('in_out_side')['lead_id'].count().reset_index()\n",
    "df_in_out"
   ]
  },
  {
   "cell_type": "code",
   "execution_count": 48,
   "metadata": {},
   "outputs": [
    {
     "data": {
      "text/plain": [
       "<AxesSubplot:xlabel='in_out_side', ylabel='lead_id'>"
      ]
     },
     "execution_count": 48,
     "metadata": {},
     "output_type": "execute_result"
    },
    {
     "data": {
      "image/png": "[encoded data removed]",
      "text/plain": [
       "<Figure size 432x288 with 1 Axes>"
      ]
     },
     "metadata": {
      "needs_background": "light"
     },
     "output_type": "display_data"
    }
   ],
   "source": [
    "sns.barplot(x='in_out_side', y='lead_id', data=df_in_out)"
   ]
  },
  {
   "cell_type": "markdown",
   "metadata": {},
   "source": [
    "- 16,666 outside egypt\n",
    "- 74,463 inside egypt \n",
    "- I think it's important feature"
   ]
  },
  {
   "cell_type": "markdown",
   "metadata": {},
   "source": [
    "Back again to missing values "
   ]
  },
  {
   "cell_type": "code",
   "execution_count": 61,
   "metadata": {},
   "outputs": [
    {
     "data": {
      "text/plain": [
       "lead_id                   0\n",
       "customer_name             0\n",
       "lead_mobile_network       0\n",
       "message                2038\n",
       "lead_time                 0\n",
       "method_of_contact         0\n",
       "ad_group                 72\n",
       "lead_source               0\n",
       "campaign                  0\n",
       "location                149\n",
       "low_qualified             0\n",
       "leaded_times              0\n",
       "in_out_side               0\n",
       "dtype: int64"
      ]
     },
     "execution_count": 61,
     "metadata": {},
     "output_type": "execute_result"
    }
   ],
   "source": [
    "df.isna().sum()\n",
    "# I will ignore campaign till ask domain expert \n",
    "# Let's see message and location features"
   ]
  },
  {
   "cell_type": "markdown",
   "metadata": {},
   "source": [
    "## message : message left by the customer"
   ]
  },
  {
   "cell_type": "code",
   "execution_count": 50,
   "metadata": {},
   "outputs": [
    {
     "data": {
      "text/plain": [
       "0                                                                                                                                                                                                                                                                                         message: Idea about  the best area in Sheik Zaid .Also villa's prices .\n",
       "1                                                                                                                                                                                                                                                            ad_id : 23843176891470664 \\nform_id : 367745493976002 \\nplatform : fb \\nlead_id : 528090611274822 \\n\n",
       "2                                                                                                                                                                                                                                                                                                                                                       message: \n",
       "3                                                                     ad_id : 23844249544660664 \\nadset_id : 23844249544640664 \\ncampaign_id : 23842950856230664 \\nconfirm_your_phone_number : 01270061104 \\ncreated_time : 2019-12-19T22:55:51+0000 \\nform_id : 463734814544456 \\nfacebook_id : 2614322275469063 \\nplatform : fb \\nyour_budget : As you wrote \\n\n",
       "4                                                                                                                                                                                                                                                                                                                                                       message: \n",
       "5                                                                                                                                                                                                                                                                    https://www.nawy.com/compound/236-katameya-coast/property/2190-katameya-coast-chalet-typical\n",
       "6    ad_id : 23845075453550664 \\nadgroup_id : 23845075453550664 \\nadset_id : 23845075453540664 \\ncampaign_id : 23843854287380664 \\nconfirm_your_phone_number_ : 01223375710 \\ncreated_time : 2020-08-25T16:07:05+0000 \\nform_id : 633537017465566 \\nfacebook_id : 1198617247185682 \\nleadgen_id : 1198617247185682 \\npage_id : 653106524827671 \\nplatform : fb \\n\n",
       "7                                                                                                                                                                    location : https://old.nawy.com/prime-compounds/Sodic Villette New Cairo?utm_campaign=Dev_-_SODIC&utm_adgroup=SODIC_-_Villette&gclid=EAIaIQobChMIlo6v2pyv8wIVjPjVCh0YtA-gEAAYAiAAEgLvcfD_BwE\n",
       "8                                                 ad_id : 23848494572340540 \\nadgroup_id : 23848494572340540 \\nadset_id : 23848494572330540 \\ncampaign_id : 23848494540600540 \\ncreated_time : 2021-08-09T22:33:48+0000 \\nform_id : 789310301775791 \\nFacebook_id : 991309685015290 \\nleadgen_id : 991309685015290 \\npage_id : 653106524827671 \\nplatform : fb \\n\n",
       "9                                                                                                                                                                                                                                                                                                                             message : Stand alone villa type. M\n",
       "Name: message, dtype: object"
      ]
     },
     "execution_count": 50,
     "metadata": {},
     "output_type": "execute_result"
    }
   ],
   "source": [
    "#check message column\n",
    "df.message.head(10)"
   ]
  },
  {
   "cell_type": "code",
   "execution_count": 51,
   "metadata": {},
   "outputs": [
    {
     "data": {
      "text/plain": [
       "91119                                              ad_id : 23850346208560664 \\nadgroup_id : 23850346208560664 \\nadset_id : 23850346208570664 \\ncampaign_id : 23848866204130664 \\ncreated_time : 2022-06-06T10:17:03+0000 \\nform_id : 1074926903369744 \\nFacebook_id : 1281378559356652 \\nleadgen_id : 1281378559356652 \\npage_id : 653106524827671 \\nplatform : fb \\nبرجاء_تأكيد_رقم_الهاتف : 00966596580804 \\n\n",
       "91120                                                                                                                                                                                                                                                                                                                                                                                                 message: \n",
       "91121                            I would like more information on او ويست أكتوبر  , Egypt. -https://www.nawy.com/prime-compounds/او ويست أكتوبر?utm_source=google&utm_medium=cpc&utm_campaign=Dev_-_ORASCOM&utm_adgroup=او_ويست&utm_term=فلل للبيع في اكتوبر&gclid=CjwKCAjwy_aUBhACEiwA2IHHQPsodSbITHMi9sokUd_e0qWFOHTUJFzMpvFIHlT4nt5bFIdDpsfW4xoCftIQAvD_BwE&a=874464982.1654511067&compound=او ويست أكتوبر\\n\n",
       "91122                                                   ad_id : 23850405037650562 \\nadgroup_id : 23850405037650562 \\nadset_id : 23850405037640562 \\ncampaign_id : 23849314940190562 \\ncreated_time : 2022-06-06T10:31:19+0000 \\nform_id : 1091844308053040 \\nFacebook_id : 555931516115646 \\nleadgen_id : 555931516115646 \\npage_id : 653106524827671 \\nplatform : fb \\nبرجاء_تأكيد_رقم_الهاتف : 01142042749 \\n\n",
       "91123                                                   ad_id : 23850405047300562 \\nadgroup_id : 23850405047300562 \\nadset_id : 23850405047260562 \\ncampaign_id : 23848309935380562 \\ncreated_time : 2022-06-06T10:38:51+0000 \\nform_id : 1384912968635567 \\nFacebook_id : 438257378133642 \\nleadgen_id : 438257378133642 \\npage_id : 653106524827671 \\nplatform : ig \\nبرجاء_تأكيد_رقم_الهاتف : 01272011756 \\n\n",
       "91124    ad_id : 23850279525690562 \\nadgroup_id : 23850279525690562 \\nadset_id : 23850279525680562 \\ncampaign_id : 23848309616020562 \\nconfirm_your_phone_number_ : 0556644393 \\ncreated_time : 2022-06-06T10:42:13+0000 \\nform_id : 1088953991949500 \\nFacebook_id : 358160292973232 \\nleadgen_id : 358160292973232 \\npage_id : 653106524827671 \\nplatform : fb \\nميزانية_ : ٢-٣ مليون \\nنوع_الوحدة_ : فيلا \\n\n",
       "91125                                                   ad_id : 23850531682810398 \\nadgroup_id : 23850531682810398 \\nadset_id : 23850531682800398 \\ncampaign_id : 23850492403650398 \\ncreated_time : 2022-06-06T10:45:38+0000 \\nform_id : 1074926903369744 \\nFacebook_id : 420636419694397 \\nleadgen_id : 420636419694397 \\npage_id : 653106524827671 \\nplatform : fb \\nبرجاء_تأكيد_رقم_الهاتف : ٠١٢٧٧٣٦٦٧٧٣ \\n\n",
       "91126                                                                                                                                                                                                                                                                                                                                                                                                 message: \n",
       "91127                                                   ad_id : 23850616546710398 \\nadgroup_id : 23850616546710398 \\nadset_id : 23850616546700398 \\ncampaign_id : 23850492403650398 \\ncreated_time : 2022-06-06T10:52:19+0000 \\nform_id : 1074926903369744 \\nFacebook_id : 714331776350297 \\nleadgen_id : 714331776350297 \\npage_id : 653106524827671 \\nplatform : fb \\nبرجاء_تأكيد_رقم_الهاتف : 01222184454 \\n\n",
       "91128                                                   ad_id : 23851345729510299 \\nadgroup_id : 23851345729510299 \\nadset_id : 23851345729500299 \\ncampaign_id : 23850377713670299 \\ncreated_time : 2022-06-06T11:08:56+0000 \\nform_id : 1074926903369744 \\nFacebook_id : 707544087221812 \\nleadgen_id : 707544087221812 \\npage_id : 653106524827671 \\nplatform : fb \\nبرجاء_تأكيد_رقم_الهاتف : 01098301766 \\n\n",
       "Name: message, dtype: object"
      ]
     },
     "execution_count": 51,
     "metadata": {},
     "output_type": "execute_result"
    }
   ],
   "source": [
    "df.message.tail(10)"
   ]
  },
  {
   "cell_type": "code",
   "execution_count": 52,
   "metadata": {},
   "outputs": [
    {
     "data": {
      "text/plain": [
       "18225                                             ad_id : 23847707735470540 \\nadgroup_id : 23847707735470540 \\nadset_id : 23847707734730540 \\ncampaign_id : 23847707734610540 \\ncreated_time : 2021-03-30T23:06:42+0000 \\nform_id : 3820212661406195 \\nFacebook_id : 494547604919114 \\nleadgen_id : 494547604919114 \\npage_id : 653106524827671 \\nplatform : ig \\n\n",
       "3414                                                                                                                                                      location : https://www.cooingestate.com/prime-compounds/Bloomfields in Mostakbal City by Tatweer Misr?gclid=Cj0KCQjwrrXtBRCKARIsAMbU6bF3q5ZwkM_bK6fk-KLfUED5XvxXZgJQRgsCYPUXzA10w3Z8aw2yvFcaAq-lEALw_wcB\n",
       "90211                                                                                                                                                                                                                                                                                                                                                    message: \n",
       "33488                                             ad_id : 23847707735470540 \\nadgroup_id : 23847707735470540 \\nadset_id : 23847707734730540 \\ncampaign_id : 23847707734610540 \\ncreated_time : 2021-08-17T19:52:53+0000 \\nform_id : 3820212661406195 \\nFacebook_id : 362291482012560 \\nleadgen_id : 362291482012560 \\npage_id : 653106524827671 \\nplatform : fb \\n\n",
       "78729    ad_id : 23849715087390664 \\nadgroup_id : 23849715087390664 \\nadset_id : 23849715087330664 \\ncampaign_id : 23848924503500664 \\ncreated_time : 2022-04-28T16:27:24+0000 \\nform_id : 1091844308053040 \\nFacebook_id : 409353437286973 \\nleadgen_id : 409353437286973 \\npage_id : 653106524827671 \\nplatform : fb \\nبرجاء_تأكيد_رقم_الهاتف : 0096659563606 \\n\n",
       "85350                                                                                                                                                                                                                                                                                                                                                    message: \n",
       "50816                                                                                                                                                                                                                                              Heba She is a broker from Eldoha or something like that and she wants to contact Palm hills to work with them  \n",
       "91095                                                                                                                                                                                                                                                                                                                              message: محتاج شقه حوالى 100 م2\n",
       "56961                                                                                                                                                                                                                                                                                                                                                    message: \n",
       "70216          ad_id : 23850565978800299 \\nadgroup_id : 23850565978800299 \\nadset_id : 23850565978810299 \\ncampaign_id : 23850535479810299 \\ncreated_time : 2022-03-23T16:45:46+0000 \\nform_id : 991320141517739 \\nFacebook_id : 306624928225019 \\nleadgen_id : 306624928225019 \\npage_id : 653106524827671 \\nplatform : fb \\nقم_بتأكيد_رقم_هاتفك : 01223372723 \\n\n",
       "Name: message, dtype: object"
      ]
     },
     "execution_count": 52,
     "metadata": {},
     "output_type": "execute_result"
    }
   ],
   "source": [
    "df.message.sample(10)"
   ]
  },
  {
   "cell_type": "markdown",
   "metadata": {},
   "source": [
    "- For message \n",
    "    - I have see important messages which are specific, and other messages which I think they filled using database Like below\n",
    "    \"ad_id : 23844066893380664 \\nadgroup_id : 23844066893380664 \\nadset_id : 23843456862490664 \\ncampaign_id : 23843456650710664 \\ncreated_time : 2020-11-10T04:54:24+0000 \\nform_id : 1295509457298585 \\nfacebook_id : 394712885225981 \\nleadgen_id : 394712885225981 \\npage_id : 653106524827671 \\nplatform : fb \\n\"\n",
    "    - I suggest to filter important message and apply NLP (Future Work) - to detect something from it\n",
    "- For now I will not go with it "
   ]
  },
  {
   "cell_type": "markdown",
   "metadata": {},
   "source": [
    "## Location : The location which the customer is searching for"
   ]
  },
  {
   "cell_type": "code",
   "execution_count": 53,
   "metadata": {},
   "outputs": [
    {
     "data": {
      "text/plain": [
       "149"
      ]
     },
     "execution_count": 53,
     "metadata": {},
     "output_type": "execute_result"
    }
   ],
   "source": [
    "df.location.isna().sum()"
   ]
  },
  {
   "cell_type": "code",
   "execution_count": 54,
   "metadata": {},
   "outputs": [
    {
     "data": {
      "text/plain": [
       "none                                       12965\n",
       "marassi                                     3402\n",
       "mountain view october apartments            2521\n",
       "badya                                       1836\n",
       "palm hills new cairo                        1829\n",
       "                                           ...  \n",
       "taj city svilla                                1\n",
       "the capitalway new capital                     1\n",
       "mivida, new cairo , egypt                      1\n",
       "tagmoua                                        1\n",
       "الأسكندرية عمارات مصطفي كامل الاستثماري        1\n",
       "Name: location, Length: 3143, dtype: int64"
      ]
     },
     "execution_count": 54,
     "metadata": {},
     "output_type": "execute_result"
    }
   ],
   "source": [
    "df.location.value_counts()"
   ]
  },
  {
   "cell_type": "code",
   "execution_count": 55,
   "metadata": {},
   "outputs": [
    {
     "data": {
      "text/html": [
       "<div>\n",
       "<style scoped>\n",
       "    .dataframe tbody tr th:only-of-type {\n",
       "        vertical-align: middle;\n",
       "    }\n",
       "\n",
       "    .dataframe tbody tr th {\n",
       "        vertical-align: top;\n",
       "    }\n",
       "\n",
       "    .dataframe thead th {\n",
       "        text-align: right;\n",
       "    }\n",
       "</style>\n",
       "<table border=\"1\" class=\"dataframe\">\n",
       "  <thead>\n",
       "    <tr style=\"text-align: right;\">\n",
       "      <th></th>\n",
       "      <th>lead_id</th>\n",
       "      <th>customer_name</th>\n",
       "      <th>lead_mobile_network</th>\n",
       "      <th>message</th>\n",
       "      <th>lead_time</th>\n",
       "      <th>method_of_contact</th>\n",
       "      <th>lead_source</th>\n",
       "      <th>campaign</th>\n",
       "      <th>location</th>\n",
       "      <th>low_qualified</th>\n",
       "      <th>in_out_side</th>\n",
       "    </tr>\n",
       "  </thead>\n",
       "  <tbody>\n",
       "    <tr>\n",
       "      <th>15</th>\n",
       "      <td>152</td>\n",
       "      <td>Eslam</td>\n",
       "      <td>Gulf</td>\n",
       "      <td>location : https://old.nawy.com/top-compounds/40?lang=en&amp;utm_campaign=DEV_-_MISR_ITALIA&amp;utm_adgroup=Sila&amp;gclid=CjwKCAjwlYCHBhAQEiwA4K21m6X978wvU_6P5Rs-T0vSbE9u9rmT3bH97g0Lr0gSXVs5CknBgM3TihoCxmwQAvD_BwE</td>\n",
       "      <td>2021-07-03 17:27:18.519000</td>\n",
       "      <td>whatsapp</td>\n",
       "      <td>landing page</td>\n",
       "      <td>none</td>\n",
       "      <td>none</td>\n",
       "      <td>0</td>\n",
       "      <td>0</td>\n",
       "    </tr>\n",
       "    <tr>\n",
       "      <th>17</th>\n",
       "      <td>193</td>\n",
       "      <td>Marwan Ramadan</td>\n",
       "      <td>Orange</td>\n",
       "      <td>I would like more information on Layan, New Cairo , Egypt. -https://www.nawy.com/compound/249-layan?utm_source=google&amp;utm_medium=cpc&amp;utm_campaign=Dynamic_Targeting_-_Fergany&amp;utm_adgroup=Ad_group_1&amp;utm_term=&amp;gclid=Cj0KCQjwyMiTBhDKARIsAAJ-9VszAomJugisXCngaUziJc_43GltFg4HpnAY6DUo8jpdQHE8tNP12iIaAjCmEALw_wcB?utm_source=google&amp;utm_medium=cpc&amp;utm_campaign=Dynamic_Targeting_-_Fergany&amp;utm_adgroup=Ad_group_1&amp;utm_term=&amp;gclid=Cj0KCQjwyMiTBhDKARIsAAJ-9VszAomJugisXCngaUziJc_43GltFg4HpnAY6DUo8jpdQHE8tNP12iIaAjCmEALw_wcB&amp;a=1780187227.1651686203&amp;compound=Layan\\n</td>\n",
       "      <td>2022-05-04 17:43:59.967480</td>\n",
       "      <td>whatsapp</td>\n",
       "      <td>website</td>\n",
       "      <td>none</td>\n",
       "      <td>none</td>\n",
       "      <td>0</td>\n",
       "      <td>1</td>\n",
       "    </tr>\n",
       "    <tr>\n",
       "      <th>18</th>\n",
       "      <td>219</td>\n",
       "      <td>Sherif Nashed</td>\n",
       "      <td>Orange</td>\n",
       "      <td>message : Selling a flat in Soleya and buying another flat ready to move in. Preferable locations are Sheikh Zayed or fifth settlement.</td>\n",
       "      <td>2019-10-15 05:11:07.445000</td>\n",
       "      <td>organic form</td>\n",
       "      <td>organic search</td>\n",
       "      <td>(none)</td>\n",
       "      <td>none</td>\n",
       "      <td>0</td>\n",
       "      <td>1</td>\n",
       "    </tr>\n",
       "    <tr>\n",
       "      <th>24</th>\n",
       "      <td>254</td>\n",
       "      <td>Abir ELsayed ahmed</td>\n",
       "      <td>Gulf</td>\n",
       "      <td>message : More details about the available unit and price</td>\n",
       "      <td>2021-03-29 07:11:22.947000</td>\n",
       "      <td>form adwords</td>\n",
       "      <td>google</td>\n",
       "      <td>dev_-_mountain_view</td>\n",
       "      <td>none</td>\n",
       "      <td>0</td>\n",
       "      <td>0</td>\n",
       "    </tr>\n",
       "    <tr>\n",
       "      <th>35</th>\n",
       "      <td>409</td>\n",
       "      <td>Mohammed gharib</td>\n",
       "      <td>Orange</td>\n",
       "      <td>NaN</td>\n",
       "      <td>2021-08-15 15:04:24.035000</td>\n",
       "      <td>phone</td>\n",
       "      <td>facebook</td>\n",
       "      <td>none</td>\n",
       "      <td>none</td>\n",
       "      <td>0</td>\n",
       "      <td>1</td>\n",
       "    </tr>\n",
       "    <tr>\n",
       "      <th>...</th>\n",
       "      <td>...</td>\n",
       "      <td>...</td>\n",
       "      <td>...</td>\n",
       "      <td>...</td>\n",
       "      <td>...</td>\n",
       "      <td>...</td>\n",
       "      <td>...</td>\n",
       "      <td>...</td>\n",
       "      <td>...</td>\n",
       "      <td>...</td>\n",
       "      <td>...</td>\n",
       "    </tr>\n",
       "    <tr>\n",
       "      <th>91114</th>\n",
       "      <td>101013</td>\n",
       "      <td>Rubbish</td>\n",
       "      <td>Vodafone</td>\n",
       "      <td>ممكن تفاصيل \\nالايجار</td>\n",
       "      <td>2022-06-06 09:58:13.750697</td>\n",
       "      <td>whatsapp</td>\n",
       "      <td>website</td>\n",
       "      <td>none</td>\n",
       "      <td>none</td>\n",
       "      <td>0</td>\n",
       "      <td>1</td>\n",
       "    </tr>\n",
       "    <tr>\n",
       "      <th>91115</th>\n",
       "      <td>101015</td>\n",
       "      <td>Lamiaa Mohamed</td>\n",
       "      <td>Gulf</td>\n",
       "      <td>I would like more information on أو ويست أوراسكوم, السادس من اكتوبر , Egypt. -https://www.nawy.com/compound/258-أو-ويست-أوراسكوم?utm_source=google&amp;utm_medium=cpc&amp;utm_campaign=Dev_-_ORASCOM&amp;utm_adgroup=او_ويست&amp;utm_term=فلل للبيع في اكتوبر&amp;gclid=CjwKCAjwy_aUBhACEiwA2IHHQMVgoI2BCDyX4QH3gKOJt3u_TboWRubBrDpTQSOefPynb67TzVvEyBoCBKMQAvD_BwE?utm_source=google&amp;utm_medium=cpc&amp;utm_campaign=Dev_-_ORASCOM&amp;utm_adgroup=او_ويست&amp;utm_term=فلل للبيع في اكتوبر&amp;gclid=CjwKCAjwy_aUBhACEiwA2IHHQMVgoI2BCDyX4QH3gKOJt3u_TboWRubBrDpTQSOefPynb67TzVvEyBoCBKMQAvD_BwE&amp;a=1446831795.1654509813&amp;compound=أو ويست أوراسكوم\\n</td>\n",
       "      <td>2022-06-06 10:03:48.417769</td>\n",
       "      <td>whatsapp</td>\n",
       "      <td>website</td>\n",
       "      <td>none</td>\n",
       "      <td>none</td>\n",
       "      <td>0</td>\n",
       "      <td>0</td>\n",
       "    </tr>\n",
       "    <tr>\n",
       "      <th>91116</th>\n",
       "      <td>101016</td>\n",
       "      <td>Al Ahmady</td>\n",
       "      <td>Etisalat</td>\n",
       "      <td>Preferred to be contacted on whatsapp because of his work circumstances</td>\n",
       "      <td>2022-06-06 10:04:41.259703</td>\n",
       "      <td>phone</td>\n",
       "      <td>phone</td>\n",
       "      <td>none</td>\n",
       "      <td>none</td>\n",
       "      <td>0</td>\n",
       "      <td>1</td>\n",
       "    </tr>\n",
       "    <tr>\n",
       "      <th>91117</th>\n",
       "      <td>101017</td>\n",
       "      <td>Aya Saad</td>\n",
       "      <td>Vodafone</td>\n",
       "      <td>Asking about a project  with 8 years payment plan</td>\n",
       "      <td>2022-06-06 10:13:22.359957</td>\n",
       "      <td>phone</td>\n",
       "      <td>phone</td>\n",
       "      <td>none</td>\n",
       "      <td>none</td>\n",
       "      <td>0</td>\n",
       "      <td>1</td>\n",
       "    </tr>\n",
       "    <tr>\n",
       "      <th>91121</th>\n",
       "      <td>101021</td>\n",
       "      <td>Ehab Saaed</td>\n",
       "      <td>Vodafone</td>\n",
       "      <td>I would like more information on او ويست أكتوبر  , Egypt. -https://www.nawy.com/prime-compounds/او ويست أكتوبر?utm_source=google&amp;utm_medium=cpc&amp;utm_campaign=Dev_-_ORASCOM&amp;utm_adgroup=او_ويست&amp;utm_term=فلل للبيع في اكتوبر&amp;gclid=CjwKCAjwy_aUBhACEiwA2IHHQPsodSbITHMi9sokUd_e0qWFOHTUJFzMpvFIHlT4nt5bFIdDpsfW4xoCftIQAvD_BwE&amp;a=874464982.1654511067&amp;compound=او ويست أكتوبر\\n</td>\n",
       "      <td>2022-06-06 10:24:42.256634</td>\n",
       "      <td>whatsapp</td>\n",
       "      <td>google/landing page</td>\n",
       "      <td>none</td>\n",
       "      <td>none</td>\n",
       "      <td>0</td>\n",
       "      <td>1</td>\n",
       "    </tr>\n",
       "  </tbody>\n",
       "</table>\n",
       "<p>12965 rows × 11 columns</p>\n",
       "</div>"
      ],
      "text/plain": [
       "       lead_id        customer_name lead_mobile_network  \\\n",
       "15         152                Eslam                Gulf   \n",
       "17         193       Marwan Ramadan              Orange   \n",
       "18         219        Sherif Nashed              Orange   \n",
       "24         254  Abir ELsayed ahmed                 Gulf   \n",
       "35         409      Mohammed gharib              Orange   \n",
       "...        ...                  ...                 ...   \n",
       "91114   101013              Rubbish            Vodafone   \n",
       "91115   101015       Lamiaa Mohamed                Gulf   \n",
       "91116   101016            Al Ahmady            Etisalat   \n",
       "91117   101017             Aya Saad            Vodafone   \n",
       "91121   101021           Ehab Saaed            Vodafone   \n",
       "\n",
       "                                                                                                                                                                                                                                                                                                                                                                                                                                                                                                                                                                                                                  message  \\\n",
       "15                                                                                                                                                                                                                                                                                                                                                                                                             location : https://old.nawy.com/top-compounds/40?lang=en&utm_campaign=DEV_-_MISR_ITALIA&utm_adgroup=Sila&gclid=CjwKCAjwlYCHBhAQEiwA4K21m6X978wvU_6P5Rs-T0vSbE9u9rmT3bH97g0Lr0gSXVs5CknBgM3TihoCxmwQAvD_BwE   \n",
       "17                                               I would like more information on Layan, New Cairo , Egypt. -https://www.nawy.com/compound/249-layan?utm_source=google&utm_medium=cpc&utm_campaign=Dynamic_Targeting_-_Fergany&utm_adgroup=Ad_group_1&utm_term=&gclid=Cj0KCQjwyMiTBhDKARIsAAJ-9VszAomJugisXCngaUziJc_43GltFg4HpnAY6DUo8jpdQHE8tNP12iIaAjCmEALw_wcB?utm_source=google&utm_medium=cpc&utm_campaign=Dynamic_Targeting_-_Fergany&utm_adgroup=Ad_group_1&utm_term=&gclid=Cj0KCQjwyMiTBhDKARIsAAJ-9VszAomJugisXCngaUziJc_43GltFg4HpnAY6DUo8jpdQHE8tNP12iIaAjCmEALw_wcB&a=1780187227.1651686203&compound=Layan\\n   \n",
       "18                                                                                                                                                                                                                                                                                                                                                                                                                                                                                message : Selling a flat in Soleya and buying another flat ready to move in. Preferable locations are Sheikh Zayed or fifth settlement.   \n",
       "24                                                                                                                                                                                                                                                                                                                                                                                                                                                                                                                                                              message : More details about the available unit and price   \n",
       "35                                                                                                                                                                                                                                                                                                                                                                                                                                                                                                                                                                                                                    NaN   \n",
       "...                                                                                                                                                                                                                                                                                                                                                                                                                                                                                                                                                                                                                   ...   \n",
       "91114                                                                                                                                                                                                                                                                                                                                                                                                                                                                                                                                                                                               ممكن تفاصيل \\nالايجار   \n",
       "91115  I would like more information on أو ويست أوراسكوم, السادس من اكتوبر , Egypt. -https://www.nawy.com/compound/258-أو-ويست-أوراسكوم?utm_source=google&utm_medium=cpc&utm_campaign=Dev_-_ORASCOM&utm_adgroup=او_ويست&utm_term=فلل للبيع في اكتوبر&gclid=CjwKCAjwy_aUBhACEiwA2IHHQMVgoI2BCDyX4QH3gKOJt3u_TboWRubBrDpTQSOefPynb67TzVvEyBoCBKMQAvD_BwE?utm_source=google&utm_medium=cpc&utm_campaign=Dev_-_ORASCOM&utm_adgroup=او_ويست&utm_term=فلل للبيع في اكتوبر&gclid=CjwKCAjwy_aUBhACEiwA2IHHQMVgoI2BCDyX4QH3gKOJt3u_TboWRubBrDpTQSOefPynb67TzVvEyBoCBKMQAvD_BwE&a=1446831795.1654509813&compound=أو ويست أوراسكوم\\n   \n",
       "91116                                                                                                                                                                                                                                                                                                                                                                                                                                                                                                                                            Preferred to be contacted on whatsapp because of his work circumstances    \n",
       "91117                                                                                                                                                                                                                                                                                                                                                                                                                                                                                                                                                                   Asking about a project  with 8 years payment plan   \n",
       "91121                                                                                                                                                                                                                                      I would like more information on او ويست أكتوبر  , Egypt. -https://www.nawy.com/prime-compounds/او ويست أكتوبر?utm_source=google&utm_medium=cpc&utm_campaign=Dev_-_ORASCOM&utm_adgroup=او_ويست&utm_term=فلل للبيع في اكتوبر&gclid=CjwKCAjwy_aUBhACEiwA2IHHQPsodSbITHMi9sokUd_e0qWFOHTUJFzMpvFIHlT4nt5bFIdDpsfW4xoCftIQAvD_BwE&a=874464982.1654511067&compound=او ويست أكتوبر\\n   \n",
       "\n",
       "                        lead_time method_of_contact          lead_source  \\\n",
       "15     2021-07-03 17:27:18.519000          whatsapp         landing page   \n",
       "17     2022-05-04 17:43:59.967480          whatsapp              website   \n",
       "18     2019-10-15 05:11:07.445000      organic form       organic search   \n",
       "24     2021-03-29 07:11:22.947000      form adwords               google   \n",
       "35     2021-08-15 15:04:24.035000             phone             facebook   \n",
       "...                           ...               ...                  ...   \n",
       "91114  2022-06-06 09:58:13.750697          whatsapp              website   \n",
       "91115  2022-06-06 10:03:48.417769          whatsapp              website   \n",
       "91116  2022-06-06 10:04:41.259703             phone                phone   \n",
       "91117  2022-06-06 10:13:22.359957             phone                phone   \n",
       "91121  2022-06-06 10:24:42.256634          whatsapp  google/landing page   \n",
       "\n",
       "                  campaign location low_qualified  in_out_side  \n",
       "15                    none     none             0            0  \n",
       "17                    none     none             0            1  \n",
       "18                  (none)     none             0            1  \n",
       "24     dev_-_mountain_view     none             0            0  \n",
       "35                    none     none             0            1  \n",
       "...                    ...      ...           ...          ...  \n",
       "91114                 none     none             0            1  \n",
       "91115                 none     none             0            0  \n",
       "91116                 none     none             0            1  \n",
       "91117                 none     none             0            1  \n",
       "91121                 none     none             0            1  \n",
       "\n",
       "[12965 rows x 11 columns]"
      ]
     },
     "execution_count": 55,
     "metadata": {},
     "output_type": "execute_result"
    }
   ],
   "source": [
    "df[df.location=='none']"
   ]
  },
  {
   "cell_type": "markdown",
   "metadata": {},
   "source": [
    "- 149 Nan values \n",
    "- 12965 with none values\n",
    "- after lock at them to check, I couldn't filled missing and none based on another column \n",
    "- It's important feature, but has a lot of problems which can't solved at current time"
   ]
  },
  {
   "cell_type": "code",
   "execution_count": 62,
   "metadata": {},
   "outputs": [
    {
     "data": {
      "text/plain": [
       "Index(['lead_id', 'customer_name', 'lead_mobile_network', 'message',\n",
       "       'lead_time', 'method_of_contact', 'ad_group', 'lead_source', 'campaign',\n",
       "       'location', 'low_qualified', 'leaded_times', 'in_out_side'],\n",
       "      dtype='object')"
      ]
     },
     "execution_count": 62,
     "metadata": {},
     "output_type": "execute_result"
    }
   ],
   "source": [
    "df.columns"
   ]
  },
  {
   "cell_type": "markdown",
   "metadata": {},
   "source": [
    "# Features"
   ]
  },
  {
   "cell_type": "code",
   "execution_count": 63,
   "metadata": {},
   "outputs": [],
   "source": [
    "features = ['lead_id','leaded_times','campaign','lead_mobile_network','method_of_contact','lead_source','in_out_side','low_qualified']"
   ]
  },
  {
   "cell_type": "markdown",
   "metadata": {},
   "source": [
    "## Lead_mobile_network"
   ]
  },
  {
   "cell_type": "code",
   "execution_count": 64,
   "metadata": {},
   "outputs": [
    {
     "data": {
      "text/plain": [
       "Vodafone    39048\n",
       "Orange      18071\n",
       "Etisalat    16463\n",
       "Gulf        12070\n",
       "Others       2422\n",
       "US_Canda     1149\n",
       "Europe       1025\n",
       "WE            881\n",
       "Name: lead_mobile_network, dtype: int64"
      ]
     },
     "execution_count": 64,
     "metadata": {},
     "output_type": "execute_result"
    }
   ],
   "source": [
    "df.lead_mobile_network.value_counts()"
   ]
  },
  {
   "cell_type": "markdown",
   "metadata": {},
   "source": [
    "### Encoding it using Label encoding"
   ]
  },
  {
   "cell_type": "code",
   "execution_count": 65,
   "metadata": {},
   "outputs": [
    {
     "data": {
      "text/html": [
       "<div>\n",
       "<style scoped>\n",
       "    .dataframe tbody tr th:only-of-type {\n",
       "        vertical-align: middle;\n",
       "    }\n",
       "\n",
       "    .dataframe tbody tr th {\n",
       "        vertical-align: top;\n",
       "    }\n",
       "\n",
       "    .dataframe thead th {\n",
       "        text-align: right;\n",
       "    }\n",
       "</style>\n",
       "<table border=\"1\" class=\"dataframe\">\n",
       "  <thead>\n",
       "    <tr style=\"text-align: right;\">\n",
       "      <th></th>\n",
       "      <th>lead_mobile_network</th>\n",
       "      <th>Lead_mobile_network_Cat</th>\n",
       "    </tr>\n",
       "  </thead>\n",
       "  <tbody>\n",
       "    <tr>\n",
       "      <th>0</th>\n",
       "      <td>Orange</td>\n",
       "      <td>3</td>\n",
       "    </tr>\n",
       "    <tr>\n",
       "      <th>1</th>\n",
       "      <td>Vodafone</td>\n",
       "      <td>6</td>\n",
       "    </tr>\n",
       "    <tr>\n",
       "      <th>2</th>\n",
       "      <td>Vodafone</td>\n",
       "      <td>6</td>\n",
       "    </tr>\n",
       "    <tr>\n",
       "      <th>3</th>\n",
       "      <td>Orange</td>\n",
       "      <td>3</td>\n",
       "    </tr>\n",
       "    <tr>\n",
       "      <th>4</th>\n",
       "      <td>Vodafone</td>\n",
       "      <td>6</td>\n",
       "    </tr>\n",
       "    <tr>\n",
       "      <th>...</th>\n",
       "      <td>...</td>\n",
       "      <td>...</td>\n",
       "    </tr>\n",
       "    <tr>\n",
       "      <th>91124</th>\n",
       "      <td>Gulf</td>\n",
       "      <td>2</td>\n",
       "    </tr>\n",
       "    <tr>\n",
       "      <th>91125</th>\n",
       "      <td>Orange</td>\n",
       "      <td>3</td>\n",
       "    </tr>\n",
       "    <tr>\n",
       "      <th>91126</th>\n",
       "      <td>Orange</td>\n",
       "      <td>3</td>\n",
       "    </tr>\n",
       "    <tr>\n",
       "      <th>91127</th>\n",
       "      <td>Orange</td>\n",
       "      <td>3</td>\n",
       "    </tr>\n",
       "    <tr>\n",
       "      <th>91128</th>\n",
       "      <td>Vodafone</td>\n",
       "      <td>6</td>\n",
       "    </tr>\n",
       "  </tbody>\n",
       "</table>\n",
       "<p>91129 rows × 2 columns</p>\n",
       "</div>"
      ],
      "text/plain": [
       "      lead_mobile_network  Lead_mobile_network_Cat\n",
       "0                  Orange                        3\n",
       "1                Vodafone                        6\n",
       "2                Vodafone                        6\n",
       "3                  Orange                        3\n",
       "4                Vodafone                        6\n",
       "...                   ...                      ...\n",
       "91124                Gulf                        2\n",
       "91125              Orange                        3\n",
       "91126              Orange                        3\n",
       "91127              Orange                        3\n",
       "91128            Vodafone                        6\n",
       "\n",
       "[91129 rows x 2 columns]"
      ]
     },
     "execution_count": 65,
     "metadata": {},
     "output_type": "execute_result"
    }
   ],
   "source": [
    "from sklearn.preprocessing import LabelEncoder\n",
    "labelencoder = LabelEncoder()\n",
    "df['Lead_mobile_network_Cat'] = labelencoder.fit_transform(df['lead_mobile_network'])\n",
    "df[['lead_mobile_network','Lead_mobile_network_Cat']]"
   ]
  },
  {
   "cell_type": "markdown",
   "metadata": {},
   "source": [
    "Perfect!"
   ]
  },
  {
   "cell_type": "markdown",
   "metadata": {},
   "source": [
    "## method of contact : Contact method used to reach us"
   ]
  },
  {
   "cell_type": "code",
   "execution_count": 66,
   "metadata": {},
   "outputs": [
    {
     "data": {
      "text/plain": [
       "facebook                 48649\n",
       "generic form              9966\n",
       "whatsapp                  8444\n",
       "phone                     7877\n",
       "top compounds form        5768\n",
       "                         ...  \n",
       "personal - abdel-azim        1\n",
       "referral ghanima             1\n",
       "cooing client                1\n",
       "personal aly rafea           1\n",
       "personal/azzam               1\n",
       "Name: method_of_contact, Length: 134, dtype: int64"
      ]
     },
     "execution_count": 66,
     "metadata": {},
     "output_type": "execute_result"
    }
   ],
   "source": [
    "df.method_of_contact.value_counts()"
   ]
  },
  {
   "cell_type": "code",
   "execution_count": 67,
   "metadata": {},
   "outputs": [
    {
     "data": {
      "text/plain": [
       "134"
      ]
     },
     "execution_count": 67,
     "metadata": {},
     "output_type": "execute_result"
    }
   ],
   "source": [
    "len(df.method_of_contact.unique())"
   ]
  },
  {
   "cell_type": "code",
   "execution_count": 68,
   "metadata": {},
   "outputs": [
    {
     "data": {
      "text/html": [
       "<div>\n",
       "<style scoped>\n",
       "    .dataframe tbody tr th:only-of-type {\n",
       "        vertical-align: middle;\n",
       "    }\n",
       "\n",
       "    .dataframe tbody tr th {\n",
       "        vertical-align: top;\n",
       "    }\n",
       "\n",
       "    .dataframe thead th {\n",
       "        text-align: right;\n",
       "    }\n",
       "</style>\n",
       "<table border=\"1\" class=\"dataframe\">\n",
       "  <thead>\n",
       "    <tr style=\"text-align: right;\">\n",
       "      <th></th>\n",
       "      <th>method_of_contact</th>\n",
       "      <th>method_of_contact_Cat</th>\n",
       "    </tr>\n",
       "  </thead>\n",
       "  <tbody>\n",
       "    <tr>\n",
       "      <th>0</th>\n",
       "      <td>generic form</td>\n",
       "      <td>50</td>\n",
       "    </tr>\n",
       "    <tr>\n",
       "      <th>1</th>\n",
       "      <td>facebook</td>\n",
       "      <td>36</td>\n",
       "    </tr>\n",
       "    <tr>\n",
       "      <th>2</th>\n",
       "      <td>generic form</td>\n",
       "      <td>50</td>\n",
       "    </tr>\n",
       "    <tr>\n",
       "      <th>3</th>\n",
       "      <td>facebook</td>\n",
       "      <td>36</td>\n",
       "    </tr>\n",
       "    <tr>\n",
       "      <th>4</th>\n",
       "      <td>top compounds form</td>\n",
       "      <td>118</td>\n",
       "    </tr>\n",
       "    <tr>\n",
       "      <th>...</th>\n",
       "      <td>...</td>\n",
       "      <td>...</td>\n",
       "    </tr>\n",
       "    <tr>\n",
       "      <th>91124</th>\n",
       "      <td>facebook</td>\n",
       "      <td>36</td>\n",
       "    </tr>\n",
       "    <tr>\n",
       "      <th>91125</th>\n",
       "      <td>facebook</td>\n",
       "      <td>36</td>\n",
       "    </tr>\n",
       "    <tr>\n",
       "      <th>91126</th>\n",
       "      <td>generic form</td>\n",
       "      <td>50</td>\n",
       "    </tr>\n",
       "    <tr>\n",
       "      <th>91127</th>\n",
       "      <td>facebook</td>\n",
       "      <td>36</td>\n",
       "    </tr>\n",
       "    <tr>\n",
       "      <th>91128</th>\n",
       "      <td>facebook</td>\n",
       "      <td>36</td>\n",
       "    </tr>\n",
       "  </tbody>\n",
       "</table>\n",
       "<p>91129 rows × 2 columns</p>\n",
       "</div>"
      ],
      "text/plain": [
       "        method_of_contact  method_of_contact_Cat\n",
       "0            generic form                     50\n",
       "1                facebook                     36\n",
       "2            generic form                     50\n",
       "3                facebook                     36\n",
       "4      top compounds form                    118\n",
       "...                   ...                    ...\n",
       "91124            facebook                     36\n",
       "91125            facebook                     36\n",
       "91126        generic form                     50\n",
       "91127            facebook                     36\n",
       "91128            facebook                     36\n",
       "\n",
       "[91129 rows x 2 columns]"
      ]
     },
     "execution_count": 68,
     "metadata": {},
     "output_type": "execute_result"
    }
   ],
   "source": [
    "df['method_of_contact_Cat'] = labelencoder.fit_transform(df['method_of_contact'])\n",
    "df[['method_of_contact','method_of_contact_Cat']]"
   ]
  },
  {
   "cell_type": "markdown",
   "metadata": {},
   "source": [
    "## Lead_source"
   ]
  },
  {
   "cell_type": "code",
   "execution_count": 69,
   "metadata": {},
   "outputs": [
    {
     "data": {
      "text/plain": [
       "123"
      ]
     },
     "execution_count": 69,
     "metadata": {},
     "output_type": "execute_result"
    }
   ],
   "source": [
    "len(df.lead_source.unique())"
   ]
  },
  {
   "cell_type": "markdown",
   "metadata": {},
   "source": [
    "what about see method_of_contact with lead source to check difference"
   ]
  },
  {
   "cell_type": "code",
   "execution_count": 70,
   "metadata": {},
   "outputs": [
    {
     "data": {
      "text/plain": [
       "method_of_contact           lead_source               \n",
       "facebook                    facebook                      48649\n",
       "generic form                google                         9293\n",
       "top compounds form          google                         5765\n",
       "whatsapp                    website                        3464\n",
       "phone                       phone                          2776\n",
       "                                                          ...  \n",
       "management/referral (nada)  management/referral (nada)        1\n",
       "management/referral         management/referral               1\n",
       "m.nearbyme.io               m.nearbyme.io                     1\n",
       "m.akhbarelyom.com           m.akhbarelyom.com                 1\n",
       "youtube.com                 youtube.com                       1\n",
       "Length: 162, dtype: int64"
      ]
     },
     "execution_count": 70,
     "metadata": {},
     "output_type": "execute_result"
    }
   ],
   "source": [
    "df[['method_of_contact','lead_source']].value_counts()"
   ]
  },
  {
   "cell_type": "code",
   "execution_count": 71,
   "metadata": {},
   "outputs": [
    {
     "data": {
      "text/html": [
       "<div>\n",
       "<style scoped>\n",
       "    .dataframe tbody tr th:only-of-type {\n",
       "        vertical-align: middle;\n",
       "    }\n",
       "\n",
       "    .dataframe tbody tr th {\n",
       "        vertical-align: top;\n",
       "    }\n",
       "\n",
       "    .dataframe thead th {\n",
       "        text-align: right;\n",
       "    }\n",
       "</style>\n",
       "<table border=\"1\" class=\"dataframe\">\n",
       "  <thead>\n",
       "    <tr style=\"text-align: right;\">\n",
       "      <th></th>\n",
       "      <th>lead_source</th>\n",
       "      <th>lead_source_Cat</th>\n",
       "    </tr>\n",
       "  </thead>\n",
       "  <tbody>\n",
       "    <tr>\n",
       "      <th>0</th>\n",
       "      <td>google</td>\n",
       "      <td>34</td>\n",
       "    </tr>\n",
       "    <tr>\n",
       "      <th>1</th>\n",
       "      <td>facebook</td>\n",
       "      <td>29</td>\n",
       "    </tr>\n",
       "    <tr>\n",
       "      <th>2</th>\n",
       "      <td>google</td>\n",
       "      <td>34</td>\n",
       "    </tr>\n",
       "    <tr>\n",
       "      <th>3</th>\n",
       "      <td>facebook</td>\n",
       "      <td>29</td>\n",
       "    </tr>\n",
       "    <tr>\n",
       "      <th>4</th>\n",
       "      <td>google</td>\n",
       "      <td>34</td>\n",
       "    </tr>\n",
       "    <tr>\n",
       "      <th>...</th>\n",
       "      <td>...</td>\n",
       "      <td>...</td>\n",
       "    </tr>\n",
       "    <tr>\n",
       "      <th>91124</th>\n",
       "      <td>facebook</td>\n",
       "      <td>29</td>\n",
       "    </tr>\n",
       "    <tr>\n",
       "      <th>91125</th>\n",
       "      <td>facebook</td>\n",
       "      <td>29</td>\n",
       "    </tr>\n",
       "    <tr>\n",
       "      <th>91126</th>\n",
       "      <td>google</td>\n",
       "      <td>34</td>\n",
       "    </tr>\n",
       "    <tr>\n",
       "      <th>91127</th>\n",
       "      <td>facebook</td>\n",
       "      <td>29</td>\n",
       "    </tr>\n",
       "    <tr>\n",
       "      <th>91128</th>\n",
       "      <td>facebook</td>\n",
       "      <td>29</td>\n",
       "    </tr>\n",
       "  </tbody>\n",
       "</table>\n",
       "<p>91129 rows × 2 columns</p>\n",
       "</div>"
      ],
      "text/plain": [
       "      lead_source  lead_source_Cat\n",
       "0          google               34\n",
       "1        facebook               29\n",
       "2          google               34\n",
       "3        facebook               29\n",
       "4          google               34\n",
       "...           ...              ...\n",
       "91124    facebook               29\n",
       "91125    facebook               29\n",
       "91126      google               34\n",
       "91127    facebook               29\n",
       "91128    facebook               29\n",
       "\n",
       "[91129 rows x 2 columns]"
      ]
     },
     "execution_count": 71,
     "metadata": {},
     "output_type": "execute_result"
    }
   ],
   "source": [
    "df['lead_source_Cat'] = labelencoder.fit_transform(df['lead_source'])\n",
    "df[['lead_source','lead_source_Cat']]"
   ]
  },
  {
   "cell_type": "code",
   "execution_count": 72,
   "metadata": {},
   "outputs": [
    {
     "data": {
      "text/html": [
       "<div>\n",
       "<style scoped>\n",
       "    .dataframe tbody tr th:only-of-type {\n",
       "        vertical-align: middle;\n",
       "    }\n",
       "\n",
       "    .dataframe tbody tr th {\n",
       "        vertical-align: top;\n",
       "    }\n",
       "\n",
       "    .dataframe thead th {\n",
       "        text-align: right;\n",
       "    }\n",
       "</style>\n",
       "<table border=\"1\" class=\"dataframe\">\n",
       "  <thead>\n",
       "    <tr style=\"text-align: right;\">\n",
       "      <th></th>\n",
       "      <th>campaign</th>\n",
       "      <th>campaign_cat</th>\n",
       "    </tr>\n",
       "  </thead>\n",
       "  <tbody>\n",
       "    <tr>\n",
       "      <th>0</th>\n",
       "      <td>dev_-_sodic</td>\n",
       "      <td>241</td>\n",
       "    </tr>\n",
       "    <tr>\n",
       "      <th>1</th>\n",
       "      <td>orascom - lead generation</td>\n",
       "      <td>600</td>\n",
       "    </tr>\n",
       "    <tr>\n",
       "      <th>2</th>\n",
       "      <td>locations</td>\n",
       "      <td>454</td>\n",
       "    </tr>\n",
       "    <tr>\n",
       "      <th>3</th>\n",
       "      <td>city edge - lead generation</td>\n",
       "      <td>106</td>\n",
       "    </tr>\n",
       "    <tr>\n",
       "      <th>4</th>\n",
       "      <td>dev_-_inertia_egypt</td>\n",
       "      <td>195</td>\n",
       "    </tr>\n",
       "    <tr>\n",
       "      <th>...</th>\n",
       "      <td>...</td>\n",
       "      <td>...</td>\n",
       "    </tr>\n",
       "    <tr>\n",
       "      <th>91124</th>\n",
       "      <td>tatweer misr - lead generation - cooing 2 - new</td>\n",
       "      <td>753</td>\n",
       "    </tr>\n",
       "    <tr>\n",
       "      <th>91125</th>\n",
       "      <td>roya - lead generation - cooing 3 - new</td>\n",
       "      <td>676</td>\n",
       "    </tr>\n",
       "    <tr>\n",
       "      <th>91126</th>\n",
       "      <td>dev_-_equity</td>\n",
       "      <td>188</td>\n",
       "    </tr>\n",
       "    <tr>\n",
       "      <th>91127</th>\n",
       "      <td>roya - lead generation - cooing 3 - new</td>\n",
       "      <td>676</td>\n",
       "    </tr>\n",
       "    <tr>\n",
       "      <th>91128</th>\n",
       "      <td>roya - lead generation - cooing 5</td>\n",
       "      <td>679</td>\n",
       "    </tr>\n",
       "  </tbody>\n",
       "</table>\n",
       "<p>91129 rows × 2 columns</p>\n",
       "</div>"
      ],
      "text/plain": [
       "                                              campaign  campaign_cat\n",
       "0                                          dev_-_sodic           241\n",
       "1                            orascom - lead generation           600\n",
       "2                                            locations           454\n",
       "3                          city edge - lead generation           106\n",
       "4                                  dev_-_inertia_egypt           195\n",
       "...                                                ...           ...\n",
       "91124  tatweer misr - lead generation - cooing 2 - new           753\n",
       "91125          roya - lead generation - cooing 3 - new           676\n",
       "91126                                     dev_-_equity           188\n",
       "91127          roya - lead generation - cooing 3 - new           676\n",
       "91128                roya - lead generation - cooing 5           679\n",
       "\n",
       "[91129 rows x 2 columns]"
      ]
     },
     "execution_count": 72,
     "metadata": {},
     "output_type": "execute_result"
    }
   ],
   "source": [
    "df['campaign_cat'] = labelencoder.fit_transform(df['campaign'])\n",
    "df[['campaign','campaign_cat']]"
   ]
  },
  {
   "cell_type": "markdown",
   "metadata": {},
   "source": [
    "### Final features"
   ]
  },
  {
   "cell_type": "code",
   "execution_count": 73,
   "metadata": {},
   "outputs": [
    {
     "data": {
      "text/plain": [
       "Index(['lead_id', 'customer_name', 'lead_mobile_network', 'message',\n",
       "       'lead_time', 'method_of_contact', 'ad_group', 'lead_source', 'campaign',\n",
       "       'location', 'low_qualified', 'leaded_times', 'in_out_side',\n",
       "       'Lead_mobile_network_Cat', 'method_of_contact_Cat', 'lead_source_Cat',\n",
       "       'campaign_cat'],\n",
       "      dtype='object')"
      ]
     },
     "execution_count": 73,
     "metadata": {},
     "output_type": "execute_result"
    }
   ],
   "source": [
    "df.columns"
   ]
  },
  {
   "cell_type": "code",
   "execution_count": 75,
   "metadata": {},
   "outputs": [],
   "source": [
    "final_features = ['in_out_side', 'campaign_cat','leaded_times','Lead_mobile_network_Cat','method_of_contact_Cat', 'lead_source_Cat']\n",
    "final_label = ['low_qualified']"
   ]
  },
  {
   "cell_type": "markdown",
   "metadata": {},
   "source": [
    "# ML Part"
   ]
  },
  {
   "cell_type": "code",
   "execution_count": 80,
   "metadata": {},
   "outputs": [],
   "source": [
    "from sklearn.model_selection import train_test_split\n",
    "from xgboost import XGBClassifier\n",
    "from sklearn.metrics import accuracy_score\n",
    "from sklearn import metrics"
   ]
  },
  {
   "cell_type": "markdown",
   "metadata": {},
   "source": [
    "## Split data"
   ]
  },
  {
   "cell_type": "code",
   "execution_count": 76,
   "metadata": {},
   "outputs": [
    {
     "data": {
      "text/html": [
       "<div>\n",
       "<style scoped>\n",
       "    .dataframe tbody tr th:only-of-type {\n",
       "        vertical-align: middle;\n",
       "    }\n",
       "\n",
       "    .dataframe tbody tr th {\n",
       "        vertical-align: top;\n",
       "    }\n",
       "\n",
       "    .dataframe thead th {\n",
       "        text-align: right;\n",
       "    }\n",
       "</style>\n",
       "<table border=\"1\" class=\"dataframe\">\n",
       "  <thead>\n",
       "    <tr style=\"text-align: right;\">\n",
       "      <th></th>\n",
       "      <th>in_out_side</th>\n",
       "      <th>campaign_cat</th>\n",
       "      <th>leaded_times</th>\n",
       "      <th>Lead_mobile_network_Cat</th>\n",
       "      <th>method_of_contact_Cat</th>\n",
       "      <th>lead_source_Cat</th>\n",
       "    </tr>\n",
       "  </thead>\n",
       "  <tbody>\n",
       "    <tr>\n",
       "      <th>0</th>\n",
       "      <td>1</td>\n",
       "      <td>241</td>\n",
       "      <td>1</td>\n",
       "      <td>3</td>\n",
       "      <td>50</td>\n",
       "      <td>34</td>\n",
       "    </tr>\n",
       "    <tr>\n",
       "      <th>1</th>\n",
       "      <td>1</td>\n",
       "      <td>600</td>\n",
       "      <td>1</td>\n",
       "      <td>6</td>\n",
       "      <td>36</td>\n",
       "      <td>29</td>\n",
       "    </tr>\n",
       "    <tr>\n",
       "      <th>2</th>\n",
       "      <td>1</td>\n",
       "      <td>454</td>\n",
       "      <td>1</td>\n",
       "      <td>6</td>\n",
       "      <td>50</td>\n",
       "      <td>34</td>\n",
       "    </tr>\n",
       "    <tr>\n",
       "      <th>3</th>\n",
       "      <td>1</td>\n",
       "      <td>106</td>\n",
       "      <td>1</td>\n",
       "      <td>3</td>\n",
       "      <td>36</td>\n",
       "      <td>29</td>\n",
       "    </tr>\n",
       "    <tr>\n",
       "      <th>4</th>\n",
       "      <td>1</td>\n",
       "      <td>195</td>\n",
       "      <td>1</td>\n",
       "      <td>6</td>\n",
       "      <td>118</td>\n",
       "      <td>34</td>\n",
       "    </tr>\n",
       "    <tr>\n",
       "      <th>...</th>\n",
       "      <td>...</td>\n",
       "      <td>...</td>\n",
       "      <td>...</td>\n",
       "      <td>...</td>\n",
       "      <td>...</td>\n",
       "      <td>...</td>\n",
       "    </tr>\n",
       "    <tr>\n",
       "      <th>91124</th>\n",
       "      <td>0</td>\n",
       "      <td>753</td>\n",
       "      <td>1</td>\n",
       "      <td>2</td>\n",
       "      <td>36</td>\n",
       "      <td>29</td>\n",
       "    </tr>\n",
       "    <tr>\n",
       "      <th>91125</th>\n",
       "      <td>1</td>\n",
       "      <td>676</td>\n",
       "      <td>1</td>\n",
       "      <td>3</td>\n",
       "      <td>36</td>\n",
       "      <td>29</td>\n",
       "    </tr>\n",
       "    <tr>\n",
       "      <th>91126</th>\n",
       "      <td>1</td>\n",
       "      <td>188</td>\n",
       "      <td>1</td>\n",
       "      <td>3</td>\n",
       "      <td>50</td>\n",
       "      <td>34</td>\n",
       "    </tr>\n",
       "    <tr>\n",
       "      <th>91127</th>\n",
       "      <td>1</td>\n",
       "      <td>676</td>\n",
       "      <td>1</td>\n",
       "      <td>3</td>\n",
       "      <td>36</td>\n",
       "      <td>29</td>\n",
       "    </tr>\n",
       "    <tr>\n",
       "      <th>91128</th>\n",
       "      <td>1</td>\n",
       "      <td>679</td>\n",
       "      <td>1</td>\n",
       "      <td>6</td>\n",
       "      <td>36</td>\n",
       "      <td>29</td>\n",
       "    </tr>\n",
       "  </tbody>\n",
       "</table>\n",
       "<p>91129 rows × 6 columns</p>\n",
       "</div>"
      ],
      "text/plain": [
       "       in_out_side  campaign_cat  leaded_times  Lead_mobile_network_Cat  \\\n",
       "0                1           241             1                        3   \n",
       "1                1           600             1                        6   \n",
       "2                1           454             1                        6   \n",
       "3                1           106             1                        3   \n",
       "4                1           195             1                        6   \n",
       "...            ...           ...           ...                      ...   \n",
       "91124            0           753             1                        2   \n",
       "91125            1           676             1                        3   \n",
       "91126            1           188             1                        3   \n",
       "91127            1           676             1                        3   \n",
       "91128            1           679             1                        6   \n",
       "\n",
       "       method_of_contact_Cat  lead_source_Cat  \n",
       "0                         50               34  \n",
       "1                         36               29  \n",
       "2                         50               34  \n",
       "3                         36               29  \n",
       "4                        118               34  \n",
       "...                      ...              ...  \n",
       "91124                     36               29  \n",
       "91125                     36               29  \n",
       "91126                     50               34  \n",
       "91127                     36               29  \n",
       "91128                     36               29  \n",
       "\n",
       "[91129 rows x 6 columns]"
      ]
     },
     "execution_count": 76,
     "metadata": {},
     "output_type": "execute_result"
    }
   ],
   "source": [
    "X = df[final_features]\n",
    "X"
   ]
  },
  {
   "cell_type": "code",
   "execution_count": 81,
   "metadata": {},
   "outputs": [
    {
     "name": "stderr",
     "output_type": "stream",
     "text": [
      "C:\\Users\\Omar Wael\\AppData\\Local\\Temp\\ipykernel_12036\\3761262810.py:2: SettingWithCopyWarning: \n",
      "A value is trying to be set on a copy of a slice from a DataFrame.\n",
      "Try using .loc[row_indexer,col_indexer] = value instead\n",
      "\n",
      "See the caveats in the documentation: https://pandas.pydata.org/pandas-docs/stable/user_guide/indexing.html#returning-a-view-versus-a-copy\n",
      "  y['low_qualified'] = pd.to_numeric(y['low_qualified'])\n"
     ]
    }
   ],
   "source": [
    "y = df[final_label]\n",
    "y['low_qualified'] = pd.to_numeric(y['low_qualified'])"
   ]
  },
  {
   "cell_type": "code",
   "execution_count": 82,
   "metadata": {},
   "outputs": [
    {
     "data": {
      "text/html": [
       "<div>\n",
       "<style scoped>\n",
       "    .dataframe tbody tr th:only-of-type {\n",
       "        vertical-align: middle;\n",
       "    }\n",
       "\n",
       "    .dataframe tbody tr th {\n",
       "        vertical-align: top;\n",
       "    }\n",
       "\n",
       "    .dataframe thead th {\n",
       "        text-align: right;\n",
       "    }\n",
       "</style>\n",
       "<table border=\"1\" class=\"dataframe\">\n",
       "  <thead>\n",
       "    <tr style=\"text-align: right;\">\n",
       "      <th></th>\n",
       "      <th>low_qualified</th>\n",
       "    </tr>\n",
       "  </thead>\n",
       "  <tbody>\n",
       "    <tr>\n",
       "      <th>0</th>\n",
       "      <td>0</td>\n",
       "    </tr>\n",
       "    <tr>\n",
       "      <th>1</th>\n",
       "      <td>0</td>\n",
       "    </tr>\n",
       "    <tr>\n",
       "      <th>2</th>\n",
       "      <td>0</td>\n",
       "    </tr>\n",
       "    <tr>\n",
       "      <th>3</th>\n",
       "      <td>0</td>\n",
       "    </tr>\n",
       "    <tr>\n",
       "      <th>4</th>\n",
       "      <td>0</td>\n",
       "    </tr>\n",
       "    <tr>\n",
       "      <th>...</th>\n",
       "      <td>...</td>\n",
       "    </tr>\n",
       "    <tr>\n",
       "      <th>91124</th>\n",
       "      <td>0</td>\n",
       "    </tr>\n",
       "    <tr>\n",
       "      <th>91125</th>\n",
       "      <td>0</td>\n",
       "    </tr>\n",
       "    <tr>\n",
       "      <th>91126</th>\n",
       "      <td>0</td>\n",
       "    </tr>\n",
       "    <tr>\n",
       "      <th>91127</th>\n",
       "      <td>0</td>\n",
       "    </tr>\n",
       "    <tr>\n",
       "      <th>91128</th>\n",
       "      <td>0</td>\n",
       "    </tr>\n",
       "  </tbody>\n",
       "</table>\n",
       "<p>91129 rows × 1 columns</p>\n",
       "</div>"
      ],
      "text/plain": [
       "       low_qualified\n",
       "0                  0\n",
       "1                  0\n",
       "2                  0\n",
       "3                  0\n",
       "4                  0\n",
       "...              ...\n",
       "91124              0\n",
       "91125              0\n",
       "91126              0\n",
       "91127              0\n",
       "91128              0\n",
       "\n",
       "[91129 rows x 1 columns]"
      ]
     },
     "execution_count": 82,
     "metadata": {},
     "output_type": "execute_result"
    }
   ],
   "source": [
    "y"
   ]
  },
  {
   "cell_type": "code",
   "execution_count": 83,
   "metadata": {},
   "outputs": [],
   "source": [
    "X_train, X_test, y_train, y_test = train_test_split(X, y,stratify=y,test_size=0.25)"
   ]
  },
  {
   "cell_type": "code",
   "execution_count": 91,
   "metadata": {},
   "outputs": [
    {
     "data": {
      "text/plain": [
       "low_qualified\n",
       "0                75139\n",
       "1                15990\n",
       "dtype: int64"
      ]
     },
     "execution_count": 91,
     "metadata": {},
     "output_type": "execute_result"
    }
   ],
   "source": [
    "y.value_counts()"
   ]
  },
  {
   "cell_type": "code",
   "execution_count": 96,
   "metadata": {},
   "outputs": [],
   "source": [
    "model = XGBClassifier(max_depth = 10)\n",
    "model.fit(X_train, y_train)\n",
    "# make predictions for test data\n",
    "y_pred = model.predict(X_test)"
   ]
  },
  {
   "cell_type": "code",
   "execution_count": 97,
   "metadata": {},
   "outputs": [],
   "source": [
    "def print_report(clf, y_pred, y_test):\n",
    "    report = metrics.classification_report(y_test, y_pred,target_names=['0','1'])\n",
    "    print(report)\n",
    "    print(\"accuracy: {:0.3f}\".format(metrics.accuracy_score(y_test, y_pred)))"
   ]
  },
  {
   "cell_type": "code",
   "execution_count": 98,
   "metadata": {},
   "outputs": [
    {
     "name": "stdout",
     "output_type": "stream",
     "text": [
      "              precision    recall  f1-score   support\n",
      "\n",
      "           0       0.85      0.99      0.91     18785\n",
      "           1       0.77      0.17      0.28      3998\n",
      "\n",
      "    accuracy                           0.85     22783\n",
      "   macro avg       0.81      0.58      0.59     22783\n",
      "weighted avg       0.83      0.85      0.80     22783\n",
      "\n",
      "accuracy: 0.845\n"
     ]
    }
   ],
   "source": [
    "print_report(model,y_pred,y_test)"
   ]
  },
  {
   "cell_type": "code",
   "execution_count": 99,
   "metadata": {},
   "outputs": [
    {
     "data": {
      "text/plain": [
       "(0.8348438559109886, 0.8452354825966729, 0.801362455086887, None)"
      ]
     },
     "execution_count": 99,
     "metadata": {},
     "output_type": "execute_result"
    }
   ],
   "source": [
    "from sklearn.metrics import precision_recall_fscore_support\n",
    "precision_recall_fscore_support(y_test, y_pred, average='weighted')"
   ]
  },
  {
   "cell_type": "code",
   "execution_count": 100,
   "metadata": {},
   "outputs": [
    {
     "data": {
      "text/plain": [
       "0    21917\n",
       "1      866\n",
       "dtype: int64"
      ]
     },
     "execution_count": 100,
     "metadata": {},
     "output_type": "execute_result"
    }
   ],
   "source": [
    "pd.DataFrame(y_pred).value_counts()"
   ]
  },
  {
   "cell_type": "markdown",
   "metadata": {},
   "source": [
    "- Accuracy is tricky since all predicted class are from 0 class\n",
    "- I think we need to do some sampling over data"
   ]
  },
  {
   "cell_type": "markdown",
   "metadata": {},
   "source": [
    "### OverSampling"
   ]
  },
  {
   "cell_type": "code",
   "execution_count": 77,
   "metadata": {},
   "outputs": [],
   "source": [
    "X_train, X_test, y_train, y_test = train_test_split(X, y,stratify=y,test_size=0.25)"
   ]
  },
  {
   "cell_type": "code",
   "execution_count": 101,
   "metadata": {},
   "outputs": [],
   "source": [
    "from imblearn.over_sampling  import SMOTE"
   ]
  },
  {
   "cell_type": "code",
   "execution_count": 102,
   "metadata": {},
   "outputs": [
    {
     "data": {
      "text/plain": [
       "low_qualified\n",
       "0                56354\n",
       "1                11992\n",
       "dtype: int64"
      ]
     },
     "execution_count": 102,
     "metadata": {},
     "output_type": "execute_result"
    }
   ],
   "source": [
    "y_train.value_counts()"
   ]
  },
  {
   "cell_type": "code",
   "execution_count": 103,
   "metadata": {},
   "outputs": [],
   "source": [
    "oversample = SMOTE()\n",
    "X_train, y_train = oversample.fit_resample(X_train, y_train)"
   ]
  },
  {
   "cell_type": "code",
   "execution_count": 104,
   "metadata": {},
   "outputs": [
    {
     "data": {
      "text/plain": [
       "low_qualified\n",
       "0                56354\n",
       "1                56354\n",
       "dtype: int64"
      ]
     },
     "execution_count": 104,
     "metadata": {},
     "output_type": "execute_result"
    }
   ],
   "source": [
    "y_train.value_counts()"
   ]
  },
  {
   "cell_type": "code",
   "execution_count": 105,
   "metadata": {},
   "outputs": [],
   "source": [
    "model = XGBClassifier(max_depth =10)\n",
    "model.fit(X_train, y_train)\n",
    "# make predictions for test data\n",
    "y_pred = model.predict(X_test)"
   ]
  },
  {
   "cell_type": "code",
   "execution_count": 106,
   "metadata": {},
   "outputs": [
    {
     "name": "stdout",
     "output_type": "stream",
     "text": [
      "              precision    recall  f1-score   support\n",
      "\n",
      "           0       0.89      0.70      0.78     18785\n",
      "           1       0.29      0.58      0.39      3998\n",
      "\n",
      "    accuracy                           0.68     22783\n",
      "   macro avg       0.59      0.64      0.59     22783\n",
      "weighted avg       0.78      0.68      0.72     22783\n",
      "\n",
      "accuracy: 0.682\n"
     ]
    }
   ],
   "source": [
    "print_report(model,y_pred,y_test)"
   ]
  },
  {
   "cell_type": "code",
   "execution_count": 107,
   "metadata": {},
   "outputs": [
    {
     "data": {
      "text/plain": [
       "(0.7832442354850833, 0.6819558442698503, 0.7156330587651385, None)"
      ]
     },
     "execution_count": 107,
     "metadata": {},
     "output_type": "execute_result"
    }
   ],
   "source": [
    "from sklearn.metrics import precision_recall_fscore_support\n",
    "precision_recall_fscore_support(y_test, y_pred, average='weighted')"
   ]
  },
  {
   "cell_type": "markdown",
   "metadata": {},
   "source": [
    "# Class Weights XGB"
   ]
  },
  {
   "cell_type": "code",
   "execution_count": 114,
   "metadata": {},
   "outputs": [],
   "source": [
    "X_train, X_test, y_train, y_test = train_test_split(X, y,stratify=y,test_size=0.25)"
   ]
  },
  {
   "cell_type": "code",
   "execution_count": 115,
   "metadata": {},
   "outputs": [],
   "source": [
    "from sklearn.utils import class_weight\n",
    "classes_weights = class_weight.compute_sample_weight(\n",
    "    class_weight='balanced',\n",
    "    y=y_train.values\n",
    ")\n",
    "\n",
    "model = XGBClassifier(max_depth=10)\n",
    "model.fit(X_train, y_train,sample_weight=classes_weights)\n",
    "# make predictions for test data\n",
    "y_pred = model.predict(X_test)"
   ]
  },
  {
   "cell_type": "code",
   "execution_count": 116,
   "metadata": {},
   "outputs": [
    {
     "name": "stdout",
     "output_type": "stream",
     "text": [
      "              precision    recall  f1-score   support\n",
      "\n",
      "           0       0.89      0.72      0.79     18785\n",
      "           1       0.31      0.60      0.41      3998\n",
      "\n",
      "    accuracy                           0.69     22783\n",
      "   macro avg       0.60      0.66      0.60     22783\n",
      "weighted avg       0.79      0.69      0.73     22783\n",
      "\n",
      "accuracy: 0.694\n"
     ]
    }
   ],
   "source": [
    "print_report(model,y_pred,y_test)"
   ]
  },
  {
   "cell_type": "code",
   "execution_count": 117,
   "metadata": {},
   "outputs": [
    {
     "data": {
      "text/plain": [
       "(0.7899613199896992, 0.6942896018961506, 0.7260600353615796, None)"
      ]
     },
     "execution_count": 117,
     "metadata": {},
     "output_type": "execute_result"
    }
   ],
   "source": [
    "from sklearn.metrics import precision_recall_fscore_support\n",
    "precision_recall_fscore_support(y_test, y_pred, average='weighted')"
   ]
  }
 ],
 "metadata": {
  "kernelspec": {
   "display_name": "Python 3.10.4 64-bit",
   "language": "python",
   "name": "python3"
  },
  "language_info": {
   "codemirror_mode": {
    "name": "ipython",
    "version": 3
   },
   "file_extension": ".py",
   "mimetype": "text/x-python",
   "name": "python",
   "nbconvert_exporter": "python",
   "pygments_lexer": "ipython3",
   "version": "3.10.5"
  },
  "orig_nbformat": 4,
  "vscode": {
   "interpreter": {
    "hash": "b1f9457ba8134432e091eec8a0c958927e0852ff3bcc800274dc10a51bb65ba6"
   }
  }
 },
 "nbformat": 4,
 "nbformat_minor": 2
}
